{
 "cells": [
  {
   "cell_type": "markdown",
   "id": "6d90db8a",
   "metadata": {},
   "source": [
    "# Analyzing Farmburg's A/B Test\n",
    "Brian is a Product Manager at FarmBurg, a company that makes a farming simulation social network game. In the FarmBurg game, you can plow, plant, and harvest different crops. ​Brian has been conducting an A/B Test with three different variants, and he wants you to help him analyze the results. Using the Python modules pandas and SciPy, you will help him make some important business decisions!\n",
    "\n",
    "Note that a solution.py file is also loaded for you in the workspace, which contains solution code for this project. We highly recommend that you complete the project on your own without checking the solution, but feel free to take a look if you get stuck or want to check your answers!"
   ]
  },
  {
   "cell_type": "code",
   "execution_count": 1,
   "id": "0d2ed6f2",
   "metadata": {},
   "outputs": [],
   "source": [
    "import pandas as pd\n",
    "import numpy as np"
   ]
  },
  {
   "cell_type": "markdown",
   "id": "fd6c2a70",
   "metadata": {},
   "source": [
    "# Project Requirements\n",
    "## 1\n",
    "Brian ran an A/B test with three different groups: A, B, and C. He has provided us with a CSV file of his results named clicks.csv. It has the following columns:\n",
    "\n",
    "- user_id: a unique id for each visitor to the FarmBurg site\n",
    "- group: either 'A', 'B', or 'C' depending on which group the visitor was assigned to\n",
    "- is_purchase: either 'Yes' if the visitor made a purchase or 'No' if they did not.\n",
    "\n",
    "We’ve already imported pandas as pd and loaded clicks.csv as abdata. Inspect the data using the .head() method."
   ]
  },
  {
   "cell_type": "code",
   "execution_count": 3,
   "id": "4ecf6273",
   "metadata": {},
   "outputs": [
    {
     "data": {
      "text/html": [
       "<div>\n",
       "<style scoped>\n",
       "    .dataframe tbody tr th:only-of-type {\n",
       "        vertical-align: middle;\n",
       "    }\n",
       "\n",
       "    .dataframe tbody tr th {\n",
       "        vertical-align: top;\n",
       "    }\n",
       "\n",
       "    .dataframe thead th {\n",
       "        text-align: right;\n",
       "    }\n",
       "</style>\n",
       "<table border=\"1\" class=\"dataframe\">\n",
       "  <thead>\n",
       "    <tr style=\"text-align: right;\">\n",
       "      <th></th>\n",
       "      <th>user_id</th>\n",
       "      <th>group</th>\n",
       "      <th>is_purchase</th>\n",
       "    </tr>\n",
       "  </thead>\n",
       "  <tbody>\n",
       "    <tr>\n",
       "      <th>0</th>\n",
       "      <td>8e27bf9a</td>\n",
       "      <td>A</td>\n",
       "      <td>No</td>\n",
       "    </tr>\n",
       "    <tr>\n",
       "      <th>1</th>\n",
       "      <td>eb89e6f0</td>\n",
       "      <td>A</td>\n",
       "      <td>No</td>\n",
       "    </tr>\n",
       "    <tr>\n",
       "      <th>2</th>\n",
       "      <td>7119106a</td>\n",
       "      <td>A</td>\n",
       "      <td>No</td>\n",
       "    </tr>\n",
       "    <tr>\n",
       "      <th>3</th>\n",
       "      <td>e53781ff</td>\n",
       "      <td>A</td>\n",
       "      <td>No</td>\n",
       "    </tr>\n",
       "    <tr>\n",
       "      <th>4</th>\n",
       "      <td>02d48cf1</td>\n",
       "      <td>A</td>\n",
       "      <td>Yes</td>\n",
       "    </tr>\n",
       "  </tbody>\n",
       "</table>\n",
       "</div>"
      ],
      "text/plain": [
       "    user_id group is_purchase\n",
       "0  8e27bf9a     A          No\n",
       "1  eb89e6f0     A          No\n",
       "2  7119106a     A          No\n",
       "3  e53781ff     A          No\n",
       "4  02d48cf1     A         Yes"
      ]
     },
     "execution_count": 3,
     "metadata": {},
     "output_type": "execute_result"
    }
   ],
   "source": [
    "# Read in the `clicks.csv` file as `abdata`\n",
    "abdata = pd.read_csv('clicks.csv')\n",
    "abdata.head()"
   ]
  },
  {
   "cell_type": "markdown",
   "id": "f882633d",
   "metadata": {},
   "source": [
    "## 2\n",
    "Note that we have two categorical variables: group and is_purchase. We are interested in whether visitors are more likely to make a purchase if they are in any one group compared to the others. Because we want to know if there is an association between two categorical variables, we’ll start by using a Chi-Square test to address our question.\n",
    "\n",
    "In order to run a Chi-Square test, we first need to create a contingency table of the variables group and is_purchase. Use pd.crosstab() to create this table and name the result Xtab, then print it out. Which group appears to have the highest number of purchases?"
   ]
  },
  {
   "cell_type": "code",
   "execution_count": 6,
   "id": "ab030664",
   "metadata": {},
   "outputs": [
    {
     "name": "stdout",
     "output_type": "stream",
     "text": [
      "is_purchase    No  Yes\n",
      "group                 \n",
      "A            1350  316\n",
      "B            1483  183\n",
      "C            1583   83\n"
     ]
    }
   ],
   "source": [
    "Xtab = pd.crosstab(abdata['group'], abdata['is_purchase'])\n",
    "print(Xtab)"
   ]
  },
  {
   "cell_type": "markdown",
   "id": "e4e193d0",
   "metadata": {},
   "source": [
    "## 3\n",
    "To conduct the Chi-Square Test, import chi2_contingency from scipy.stats.\n",
    "\n",
    "Then, use the function chi2_contingency with the data in Xtab to calculate the p-value. Remember that of the four values returned by chi2_contingency, the p-value is the second value.\n",
    "\n",
    "Save the p-value to a variable named pval and print the result. Using a significance threshold of 0.05, is there a significant difference in the purchase rate for groups A, B, and C?\n",
    "\n",
    "Note that you might see a number in scientific notation. For example, 1.234e-8 is equal to 0.00000001234 (we move the decimal to the left by 8 places and insert zeros)."
   ]
  },
  {
   "cell_type": "code",
   "execution_count": 9,
   "id": "4566f3b0",
   "metadata": {},
   "outputs": [
    {
     "name": "stdout",
     "output_type": "stream",
     "text": [
      "There is a significant difference between the rates for each group\n",
      "The pvalue is 2.4126213546684264e-35\n"
     ]
    }
   ],
   "source": [
    "from scipy.stats import chi2_contingency\n",
    "\n",
    "_,pval,_,_ = chi2_contingency(Xtab, 0.05)\n",
    "print('There is a significant difference between the rates for each group' if pval < 0.05 else 'There is not a significant difference between the rates for each group')\n",
    "print(f'The pvalue is {pval}')"
   ]
  },
  {
   "cell_type": "markdown",
   "id": "08564c2c",
   "metadata": {},
   "source": [
    "## 4\n",
    "Our day is a little less busy than expected, so we decide to ask Brian about his test.\n",
    "\n",
    "**Us**: Hey Brian! What was that test you were running anyway?\n",
    "\n",
    "**Brian**: We are trying to get users to purchase a small FarmBurg upgrade package. It’s called a microtransaction. We’re not sure how much to charge for it, so we tested three different price points: \\\\$0.99 (group 'A'), \\\\$1.99 (group 'B'), and \\\\$4.99 (group 'C'). It looks like significantly more people bought the upgrade package for \\\\$0.99, so I guess that’s what we’ll charge.\n",
    "\n",
    "**Us**: Oh no! We should have asked you this before we did that Chi-Square test. That wasn’t the right test at all. It’s true that more people wanted to purchase the upgrade at $0.99; you probably expected that. What we really want to know is whether each price point allows us to make enough money that we can exceed some target goal. Brian, how much do you think it cost to build this feature?\n",
    "\n",
    "**Brian**: Hmm. I guess that we need to generate a minimum of $1000 in revenue per week in order to justify this project.\n",
    "\n",
    "**Us**: We have some work to do!\n",
    "\n",
    "In order to justify this feature, we will need to calculate the necessary purchase rate for each price point. Let’s start by calculating the number of visitors to the site this week.\n",
    "\n",
    "It turns out that Brian ran his original test over the course of a week, so the number of visitors in abdata is equal to the number of visitors in a typical week. Calculate the number of visitors in the data and save the value in a variable named num_visits. Make sure to print the value."
   ]
  },
  {
   "cell_type": "code",
   "execution_count": 10,
   "id": "5987f542",
   "metadata": {},
   "outputs": [
    {
     "name": "stdout",
     "output_type": "stream",
     "text": [
      "There are 4998 people.\n"
     ]
    }
   ],
   "source": [
    "num_visits = len(abdata)\n",
    "print(f'There are {num_visits} people.')"
   ]
  },
  {
   "cell_type": "markdown",
   "id": "c3326919",
   "metadata": {},
   "source": [
    "## 5\n",
    "Now that we know how many visitors we generally get each week (num_visits), we need to calculate the number of visitors who would need to purchase the upgrade package at each price point (\\\\$0.99, \\\\$1.99, \\\\$4.99) in order to generate Brian’s minimum revenue target of \\\\$1,000 per week.\n",
    "\n",
    "To start, calculate the number of sales that would be needed to reach \\\\$1,000 dollars of revenue at a price point of \\\\$0.99. Save the result as num_sales_needed_099 and print it out."
   ]
  },
  {
   "cell_type": "code",
   "execution_count": 12,
   "id": "dda47a8e",
   "metadata": {},
   "outputs": [
    {
     "name": "stdout",
     "output_type": "stream",
     "text": [
      "Number of sales at $0.99 is 1011.0\n"
     ]
    }
   ],
   "source": [
    "num_sales_needed_099 =1000/0.99\n",
    "print(f'Number of sales at $0.99 is {np.ceil(num_sales_needed_099)}')"
   ]
  },
  {
   "cell_type": "markdown",
   "id": "90671a93",
   "metadata": {},
   "source": [
    "## 6\n",
    "Now that we know how many sales we need at a \\\\$0.99 price point, calculate the proportion of weekly visitors who would need to make a purchase in order to meet that goal. Remember that the number of weekly visitors is saved as num_visits. Save the result as p_sales_needed_099 and print it out."
   ]
  },
  {
   "cell_type": "code",
   "execution_count": 14,
   "id": "d7b597d2",
   "metadata": {},
   "outputs": [
    {
     "name": "stdout",
     "output_type": "stream",
     "text": [
      "The number of weekly visitors required to make a purchase is 0.20210104243717691\n"
     ]
    }
   ],
   "source": [
    "p_sales_needed_099 = num_sales_needed_099 / num_visits\n",
    "print(f'The number of weekly visitors required to make a purchase is {p_sales_needed_099}')"
   ]
  },
  {
   "cell_type": "markdown",
   "id": "a7e0eecd",
   "metadata": {},
   "source": [
    "## 7\n",
    "Repeat the steps from tasks 5 and 6 for the other price points (\\\\$1.99 and \\\\$4.99). Save the number of sales needed for each price point as num_sales_needed_199 and num_sales_needed_499, respectively. Then, save the proportion of visits needed as p_sales_needed_199 and p_sales_needed_499, respectively.\n",
    "\n",
    "Print out the proportions. Note that for higher price points, you’ll need to sell fewer upgrade packages in order to meet your minimum revenue target — so the proportions should decrease as the price points increase."
   ]
  },
  {
   "cell_type": "code",
   "execution_count": 16,
   "id": "a87ee190",
   "metadata": {},
   "outputs": [
    {
     "name": "stdout",
     "output_type": "stream",
     "text": [
      "Number of sales at $1.99 is 503.0\n",
      "The number of weekly visitors required to make a purchase is 0.10054272965467594\n",
      "Number of sales at $4.99 is 201.0\n",
      "The number of weekly visitors required to make a purchase is 0.040096198800161346\n"
     ]
    }
   ],
   "source": [
    "# For $1.99\n",
    "num_sales_needed_199 =1000/1.99\n",
    "print(f'Number of sales at $1.99 is {np.ceil(num_sales_needed_199)}')\n",
    "p_sales_needed_199 = num_sales_needed_199 / num_visits\n",
    "print(f'The number of weekly visitors required to make a purchase is {p_sales_needed_199}')\n",
    "# For $4.99\n",
    "num_sales_needed_499 =1000/4.99\n",
    "print(f'Number of sales at $4.99 is {np.ceil(num_sales_needed_499)}')\n",
    "p_sales_needed_499 = num_sales_needed_499 / num_visits\n",
    "print(f'The number of weekly visitors required to make a purchase is {p_sales_needed_499}')"
   ]
  },
  {
   "cell_type": "markdown",
   "id": "f414e418",
   "metadata": {},
   "source": [
    "## 8\n",
    "Now let’s return to Brian’s question. To start, we want to know if the percent of Group A (the $0.99 price point) that purchased an upgrade package is significantly greater than p_sales_needed_099 (the percent of visitors who need to buy an upgrade package at \\\\$0.99 in order to make our minimum revenue target of \\\\$1,000).\n",
    "\n",
    "To answer this question, we want to focus on just the visitors in group A. Then, we want to compare the number of purchases in that group to p_sales_needed_099.\n",
    "\n",
    "Since we have a single sample of categorical data and want to compare it to a hypothetical population value, a binomial test is appropriate. In order to run a binomial test for group A, we need to know two pieces of information:\n",
    "\n",
    "- The number of visitors in group A (the number of visitors who were offered the \\\\$0.99 price point)\n",
    "- The number of visitors in Group A who made a purchase\n",
    "\n",
    "Calculate these two numbers and save them as samp_size_099 and sales_099, respectively. Note that you can use the contingency table that you printed earlier to get these numbers OR you can use Python syntax."
   ]
  },
  {
   "cell_type": "code",
   "execution_count": 29,
   "id": "30968f35",
   "metadata": {},
   "outputs": [
    {
     "name": "stdout",
     "output_type": "stream",
     "text": [
      "The number of samples is A is 1666\n",
      "The number of sales is A is 316\n"
     ]
    }
   ],
   "source": [
    "samp_size_099 = len(abdata[abdata['group'] == 'A'])\n",
    "print(f'The number of samples is A is {samp_size_099}')\n",
    "sales_099 = len(abdata[(abdata['group'] == 'A') & (abdata['is_purchase'] == 'Yes')])\n",
    "print(f'The number of sales is A is {sales_099}')"
   ]
  },
  {
   "cell_type": "markdown",
   "id": "427d2ffe",
   "metadata": {},
   "source": [
    "## 9\n",
    "\n",
    "Calculate the sample size and number of purchases in group B (the \\\\$1.99 price point) and save them as samp_size_199 and sales_199, respectively. Then do the same for group C (the \\\\$4.99 price point) and save them as samp_size_499 and sales_499, respectively."
   ]
  },
  {
   "cell_type": "code",
   "execution_count": 32,
   "id": "39ea48ea",
   "metadata": {},
   "outputs": [
    {
     "name": "stdout",
     "output_type": "stream",
     "text": [
      "The number of samples is B is 1666\n",
      "The number of sales is B is 83\n",
      "The number of samples is C is 1666\n",
      "The number of sales is C is 83\n"
     ]
    }
   ],
   "source": [
    "samp_size_199 = len(abdata[abdata['group'] == 'B'])\n",
    "print(f'The number of samples is B is {samp_size_099}')\n",
    "sales_199 = len(abdata[(abdata['group'] == 'B') & (abdata['is_purchase'] == 'Yes')])\n",
    "print(f'The number of sales is B is {sales_099}')\n",
    "samp_size_499 = len(abdata[abdata['group'] == 'C'])\n",
    "print(f'The number of samples is C is {samp_size_099}')\n",
    "sales_499 = len(abdata[(abdata['group'] == 'C') & (abdata['is_purchase'] == 'Yes')])\n",
    "print(f'The number of sales is C is {sales_099}')"
   ]
  },
  {
   "cell_type": "markdown",
   "id": "2ff8e729",
   "metadata": {},
   "source": [
    "## 10\n",
    "For Group A (\\\\$0.99 price point), perform a binomial test using binom_test() to see if the observed purchase rate is significantly greater than p_sales_needed_099. Remember that there are four inputs to binom_test():\n",
    "\n",
    "- x will be the number of purchases for Group A\n",
    "- n will be the total number of visitors assigned group A\n",
    "- p will be the target percent of purchases for the \\\\$0.99 price point\n",
    "- alternative will indicate the alternative hypothesis for this test; in this case, we want to know if the observed purchase rate is significantly 'greater' than the purchase rate that results in the minimum revenue target.\n",
    "\n",
    "Save the results to pvalueA, and print its value. Note that you’ll first need to import the binom_test() function from scipy.stats using the following line of code:"
   ]
  },
  {
   "cell_type": "code",
   "execution_count": 53,
   "id": "b566e637",
   "metadata": {},
   "outputs": [
    {
     "name": "stdout",
     "output_type": "stream",
     "text": [
      "The sales are not significantly higher than the required amount.\n",
      "Pvalue for A is 0.9999999999999999\n"
     ]
    }
   ],
   "source": [
    "from scipy.stats import binom_test\n",
    "pvalueA = binom_test(x=sales_099, n=samp_size_099, p=p_sales_needed_099, alternative='greater')\n",
    "print('The sales are significantly higher than the required amount.' if pvalueA < 0.05 else 'The sales are not significantly higher than the required amount.')\n",
    "print(f'Pvalue for A is {pvalueA}')"
   ]
  },
  {
   "cell_type": "markdown",
   "id": "964aaa33",
   "metadata": {},
   "source": [
    "## 11 & 12\n",
    "Do this for the other price points."
   ]
  },
  {
   "cell_type": "code",
   "execution_count": 54,
   "id": "fab071d0",
   "metadata": {},
   "outputs": [
    {
     "name": "stdout",
     "output_type": "stream",
     "text": [
      "The sales are not significantly higher than the required amount.\n",
      "Pvalue for B is 0.11184562623739903\n",
      "The sales are significantly higher than the required amount.\n",
      "Pvalue for C is 0.027944826659907135\n"
     ]
    }
   ],
   "source": [
    "pvalueB = binom_test(x=sales_199, n=samp_size_199, p=p_sales_needed_199, alternative='greater')\n",
    "print('The sales are significantly higher than the required amount.' if pvalueB < 0.05 else 'The sales are not significantly higher than the required amount.')\n",
    "print(f'Pvalue for B is {pvalueB}')\n",
    "pvalueC = binom_test(x=sales_499, n=samp_size_499, p=p_sales_needed_499, alternative='greater')\n",
    "print('The sales are significantly higher than the required amount.' if pvalueC < 0.05 else 'The sales are not significantly higher than the required amount.')\n",
    "print(f'Pvalue for C is {pvalueC}')"
   ]
  },
  {
   "cell_type": "markdown",
   "id": "acca6c44",
   "metadata": {},
   "source": [
    "**Mike:** From this data it turns out Brian was accidentaly correct via a serendipitous route. It turns out that the number of people that did buy option C for \\\\$4.99 are enough to make the \\\\$1000 required threshold. Although this was only 1 weeks worth of data and could dip."
   ]
  }
 ],
 "metadata": {
  "kernelspec": {
   "display_name": "Python 3",
   "language": "python",
   "name": "python3"
  },
  "language_info": {
   "codemirror_mode": {
    "name": "ipython",
    "version": 3
   },
   "file_extension": ".py",
   "mimetype": "text/x-python",
   "name": "python",
   "nbconvert_exporter": "python",
   "pygments_lexer": "ipython3",
   "version": "3.8.8"
  }
 },
 "nbformat": 4,
 "nbformat_minor": 5
}
