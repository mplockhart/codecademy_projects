{
 "cells": [
  {
   "cell_type": "markdown",
   "id": "e2d37906",
   "metadata": {},
   "source": [
    "# FetchMaker\n",
    "Congratulations! You’ve just started working at the hottest new tech startup, FetchMaker. FetchMaker’s mission is to match up prospective dog owners with their perfect pet. FetchMaker has been collecting data on their adoptable dogs, and it’s your job to analyze some of that data.\n",
    "\n",
    "Note that a solution.py file is also loaded for you in the workspace, which contains solution code for this project. We highly recommend that you complete the project on your own without checking the solution, but feel free to take a look if you get stuck or want to check your answers!"
   ]
  },
  {
   "cell_type": "code",
   "execution_count": 2,
   "id": "e7e3c3f8",
   "metadata": {},
   "outputs": [],
   "source": [
    "# import modules\n",
    "import pandas as pd\n",
    "import numpy as np\n",
    "import seaborn as sns\n",
    "import matplotlib.pyplot as plt"
   ]
  },
  {
   "cell_type": "markdown",
   "id": "98cf831a",
   "metadata": {},
   "source": [
    "# Data to the Rescue\n",
    "## 1\n",
    "FetchMaker has provided us with data for a sample of dogs from their app, including the following attributes:\n",
    "\n",
    "- weight, an integer representing how heavy a dog is in pounds\n",
    "- tail_length, a float representing tail length in inches\n",
    "- age, in years\n",
    "- color, a String such as \"brown\" or \"grey\"\n",
    "- is_rescue, a boolean 0 or 1  \n",
    "\n",
    "The data has been saved for you as a pandas DataFrame named dogs. Use the .head() method to inspect the first five rows of the dataset."
   ]
  },
  {
   "cell_type": "code",
   "execution_count": 3,
   "id": "ef672abd",
   "metadata": {},
   "outputs": [],
   "source": [
    "# Import data\n",
    "dogs = pd.read_csv('dog_data.csv')\n",
    "\n",
    "# Subset to just whippets, terriers, and pitbulls\n",
    "dogs_wtp = dogs[dogs.breed.isin(['whippet', 'terrier', 'pitbull'])]\n",
    "\n",
    "# Subset to just poodles and shihtzus\n",
    "dogs_ps = dogs[dogs.breed.isin(['poodle', 'shihtzu'])]"
   ]
  },
  {
   "cell_type": "code",
   "execution_count": 12,
   "id": "05f1c6cb",
   "metadata": {},
   "outputs": [
    {
     "name": "stdout",
     "output_type": "stream",
     "text": [
      "['chihuahua' 'greyhound' 'pitbull' 'poodle' 'rottweiler' 'shihtzu'\n",
      " 'terrier' 'whippet']\n"
     ]
    }
   ],
   "source": [
    "dogs.head()\n",
    "print(dogs['breed'].unique())"
   ]
  },
  {
   "cell_type": "code",
   "execution_count": 13,
   "id": "b2c0ea50",
   "metadata": {},
   "outputs": [
    {
     "data": {
      "text/html": [
       "<div>\n",
       "<style scoped>\n",
       "    .dataframe tbody tr th:only-of-type {\n",
       "        vertical-align: middle;\n",
       "    }\n",
       "\n",
       "    .dataframe tbody tr th {\n",
       "        vertical-align: top;\n",
       "    }\n",
       "\n",
       "    .dataframe thead th {\n",
       "        text-align: right;\n",
       "    }\n",
       "</style>\n",
       "<table border=\"1\" class=\"dataframe\">\n",
       "  <thead>\n",
       "    <tr style=\"text-align: right;\">\n",
       "      <th></th>\n",
       "      <th>is_rescue</th>\n",
       "      <th>weight</th>\n",
       "      <th>tail_length</th>\n",
       "      <th>age</th>\n",
       "      <th>color</th>\n",
       "      <th>likes_children</th>\n",
       "      <th>is_hypoallergenic</th>\n",
       "      <th>name</th>\n",
       "      <th>breed</th>\n",
       "    </tr>\n",
       "  </thead>\n",
       "  <tbody>\n",
       "    <tr>\n",
       "      <th>200</th>\n",
       "      <td>0</td>\n",
       "      <td>71</td>\n",
       "      <td>5.74</td>\n",
       "      <td>4</td>\n",
       "      <td>black</td>\n",
       "      <td>0</td>\n",
       "      <td>0</td>\n",
       "      <td>Charlot</td>\n",
       "      <td>pitbull</td>\n",
       "    </tr>\n",
       "    <tr>\n",
       "      <th>201</th>\n",
       "      <td>0</td>\n",
       "      <td>26</td>\n",
       "      <td>11.56</td>\n",
       "      <td>3</td>\n",
       "      <td>black</td>\n",
       "      <td>0</td>\n",
       "      <td>0</td>\n",
       "      <td>Jud</td>\n",
       "      <td>pitbull</td>\n",
       "    </tr>\n",
       "    <tr>\n",
       "      <th>202</th>\n",
       "      <td>0</td>\n",
       "      <td>56</td>\n",
       "      <td>10.76</td>\n",
       "      <td>4</td>\n",
       "      <td>black</td>\n",
       "      <td>0</td>\n",
       "      <td>0</td>\n",
       "      <td>Rosamund</td>\n",
       "      <td>pitbull</td>\n",
       "    </tr>\n",
       "    <tr>\n",
       "      <th>203</th>\n",
       "      <td>0</td>\n",
       "      <td>33</td>\n",
       "      <td>6.32</td>\n",
       "      <td>4</td>\n",
       "      <td>black</td>\n",
       "      <td>1</td>\n",
       "      <td>0</td>\n",
       "      <td>Ruthann</td>\n",
       "      <td>pitbull</td>\n",
       "    </tr>\n",
       "    <tr>\n",
       "      <th>204</th>\n",
       "      <td>0</td>\n",
       "      <td>54</td>\n",
       "      <td>17.18</td>\n",
       "      <td>4</td>\n",
       "      <td>black</td>\n",
       "      <td>1</td>\n",
       "      <td>1</td>\n",
       "      <td>Bryon</td>\n",
       "      <td>pitbull</td>\n",
       "    </tr>\n",
       "  </tbody>\n",
       "</table>\n",
       "</div>"
      ],
      "text/plain": [
       "     is_rescue  weight  tail_length  age  color  likes_children  \\\n",
       "200          0      71         5.74    4  black               0   \n",
       "201          0      26        11.56    3  black               0   \n",
       "202          0      56        10.76    4  black               0   \n",
       "203          0      33         6.32    4  black               1   \n",
       "204          0      54        17.18    4  black               1   \n",
       "\n",
       "     is_hypoallergenic      name    breed  \n",
       "200                  0   Charlot  pitbull  \n",
       "201                  0       Jud  pitbull  \n",
       "202                  0  Rosamund  pitbull  \n",
       "203                  0   Ruthann  pitbull  \n",
       "204                  1     Bryon  pitbull  "
      ]
     },
     "execution_count": 13,
     "metadata": {},
     "output_type": "execute_result"
    }
   ],
   "source": [
    "dogs_wtp.head()"
   ]
  },
  {
   "cell_type": "code",
   "execution_count": 14,
   "id": "d9ea0363",
   "metadata": {},
   "outputs": [
    {
     "data": {
      "text/html": [
       "<div>\n",
       "<style scoped>\n",
       "    .dataframe tbody tr th:only-of-type {\n",
       "        vertical-align: middle;\n",
       "    }\n",
       "\n",
       "    .dataframe tbody tr th {\n",
       "        vertical-align: top;\n",
       "    }\n",
       "\n",
       "    .dataframe thead th {\n",
       "        text-align: right;\n",
       "    }\n",
       "</style>\n",
       "<table border=\"1\" class=\"dataframe\">\n",
       "  <thead>\n",
       "    <tr style=\"text-align: right;\">\n",
       "      <th></th>\n",
       "      <th>is_rescue</th>\n",
       "      <th>weight</th>\n",
       "      <th>tail_length</th>\n",
       "      <th>age</th>\n",
       "      <th>color</th>\n",
       "      <th>likes_children</th>\n",
       "      <th>is_hypoallergenic</th>\n",
       "      <th>name</th>\n",
       "      <th>breed</th>\n",
       "    </tr>\n",
       "  </thead>\n",
       "  <tbody>\n",
       "    <tr>\n",
       "      <th>300</th>\n",
       "      <td>0</td>\n",
       "      <td>58</td>\n",
       "      <td>8.05</td>\n",
       "      <td>1</td>\n",
       "      <td>black</td>\n",
       "      <td>1</td>\n",
       "      <td>0</td>\n",
       "      <td>Moise</td>\n",
       "      <td>poodle</td>\n",
       "    </tr>\n",
       "    <tr>\n",
       "      <th>301</th>\n",
       "      <td>0</td>\n",
       "      <td>56</td>\n",
       "      <td>9.44</td>\n",
       "      <td>4</td>\n",
       "      <td>black</td>\n",
       "      <td>1</td>\n",
       "      <td>0</td>\n",
       "      <td>Boote</td>\n",
       "      <td>poodle</td>\n",
       "    </tr>\n",
       "    <tr>\n",
       "      <th>302</th>\n",
       "      <td>1</td>\n",
       "      <td>59</td>\n",
       "      <td>4.04</td>\n",
       "      <td>4</td>\n",
       "      <td>black</td>\n",
       "      <td>1</td>\n",
       "      <td>0</td>\n",
       "      <td>Beatrix</td>\n",
       "      <td>poodle</td>\n",
       "    </tr>\n",
       "    <tr>\n",
       "      <th>303</th>\n",
       "      <td>0</td>\n",
       "      <td>70</td>\n",
       "      <td>12.37</td>\n",
       "      <td>1</td>\n",
       "      <td>black</td>\n",
       "      <td>1</td>\n",
       "      <td>0</td>\n",
       "      <td>Rabbi</td>\n",
       "      <td>poodle</td>\n",
       "    </tr>\n",
       "    <tr>\n",
       "      <th>304</th>\n",
       "      <td>0</td>\n",
       "      <td>52</td>\n",
       "      <td>11.42</td>\n",
       "      <td>2</td>\n",
       "      <td>black</td>\n",
       "      <td>0</td>\n",
       "      <td>0</td>\n",
       "      <td>Tallou</td>\n",
       "      <td>poodle</td>\n",
       "    </tr>\n",
       "  </tbody>\n",
       "</table>\n",
       "</div>"
      ],
      "text/plain": [
       "     is_rescue  weight  tail_length  age  color  likes_children  \\\n",
       "300          0      58         8.05    1  black               1   \n",
       "301          0      56         9.44    4  black               1   \n",
       "302          1      59         4.04    4  black               1   \n",
       "303          0      70        12.37    1  black               1   \n",
       "304          0      52        11.42    2  black               0   \n",
       "\n",
       "     is_hypoallergenic     name   breed  \n",
       "300                  0    Moise  poodle  \n",
       "301                  0    Boote  poodle  \n",
       "302                  0  Beatrix  poodle  \n",
       "303                  0    Rabbi  poodle  \n",
       "304                  0   Tallou  poodle  "
      ]
     },
     "execution_count": 14,
     "metadata": {},
     "output_type": "execute_result"
    }
   ],
   "source": [
    "dogs_ps.head()"
   ]
  },
  {
   "cell_type": "markdown",
   "id": "33ded8ff",
   "metadata": {},
   "source": [
    "## 2\n",
    "FetchMaker estimates (based on historical data for all dogs) that 8% of dogs in their system are rescues.\n",
    "\n",
    "They would like to know if whippets are significantly more or less likely than other dogs to be a rescue.\n",
    "\n",
    "Store the is_rescue values for 'whippet's in a variable called whippet_rescue."
   ]
  },
  {
   "cell_type": "code",
   "execution_count": 25,
   "id": "f34b3a1f",
   "metadata": {},
   "outputs": [
    {
     "data": {
      "text/html": [
       "<div>\n",
       "<style scoped>\n",
       "    .dataframe tbody tr th:only-of-type {\n",
       "        vertical-align: middle;\n",
       "    }\n",
       "\n",
       "    .dataframe tbody tr th {\n",
       "        vertical-align: top;\n",
       "    }\n",
       "\n",
       "    .dataframe thead th {\n",
       "        text-align: right;\n",
       "    }\n",
       "</style>\n",
       "<table border=\"1\" class=\"dataframe\">\n",
       "  <thead>\n",
       "    <tr style=\"text-align: right;\">\n",
       "      <th></th>\n",
       "      <th>is_rescue</th>\n",
       "      <th>weight</th>\n",
       "      <th>tail_length</th>\n",
       "      <th>age</th>\n",
       "      <th>color</th>\n",
       "      <th>likes_children</th>\n",
       "      <th>is_hypoallergenic</th>\n",
       "      <th>name</th>\n",
       "      <th>breed</th>\n",
       "    </tr>\n",
       "  </thead>\n",
       "  <tbody>\n",
       "    <tr>\n",
       "      <th>700</th>\n",
       "      <td>0</td>\n",
       "      <td>12</td>\n",
       "      <td>12.87</td>\n",
       "      <td>3</td>\n",
       "      <td>black</td>\n",
       "      <td>0</td>\n",
       "      <td>1</td>\n",
       "      <td>Ingelbert</td>\n",
       "      <td>whippet</td>\n",
       "    </tr>\n",
       "    <tr>\n",
       "      <th>701</th>\n",
       "      <td>0</td>\n",
       "      <td>46</td>\n",
       "      <td>11.09</td>\n",
       "      <td>4</td>\n",
       "      <td>black</td>\n",
       "      <td>1</td>\n",
       "      <td>1</td>\n",
       "      <td>Carson</td>\n",
       "      <td>whippet</td>\n",
       "    </tr>\n",
       "    <tr>\n",
       "      <th>702</th>\n",
       "      <td>0</td>\n",
       "      <td>13</td>\n",
       "      <td>13.23</td>\n",
       "      <td>8</td>\n",
       "      <td>black</td>\n",
       "      <td>1</td>\n",
       "      <td>1</td>\n",
       "      <td>Glory</td>\n",
       "      <td>whippet</td>\n",
       "    </tr>\n",
       "    <tr>\n",
       "      <th>703</th>\n",
       "      <td>0</td>\n",
       "      <td>52</td>\n",
       "      <td>15.59</td>\n",
       "      <td>4</td>\n",
       "      <td>black</td>\n",
       "      <td>0</td>\n",
       "      <td>1</td>\n",
       "      <td>Patrizia</td>\n",
       "      <td>whippet</td>\n",
       "    </tr>\n",
       "    <tr>\n",
       "      <th>704</th>\n",
       "      <td>0</td>\n",
       "      <td>53</td>\n",
       "      <td>8.04</td>\n",
       "      <td>1</td>\n",
       "      <td>black</td>\n",
       "      <td>0</td>\n",
       "      <td>0</td>\n",
       "      <td>Cass</td>\n",
       "      <td>whippet</td>\n",
       "    </tr>\n",
       "  </tbody>\n",
       "</table>\n",
       "</div>"
      ],
      "text/plain": [
       "     is_rescue  weight  tail_length  age  color  likes_children  \\\n",
       "700          0      12        12.87    3  black               0   \n",
       "701          0      46        11.09    4  black               1   \n",
       "702          0      13        13.23    8  black               1   \n",
       "703          0      52        15.59    4  black               0   \n",
       "704          0      53         8.04    1  black               0   \n",
       "\n",
       "     is_hypoallergenic       name    breed  \n",
       "700                  1  Ingelbert  whippet  \n",
       "701                  1     Carson  whippet  \n",
       "702                  1      Glory  whippet  \n",
       "703                  1   Patrizia  whippet  \n",
       "704                  0       Cass  whippet  "
      ]
     },
     "execution_count": 25,
     "metadata": {},
     "output_type": "execute_result"
    }
   ],
   "source": [
    "whippit_rescue = dogs_wtp[dogs_wtp['breed'] == 'whippet']\n",
    "whippit_rescue.head()"
   ]
  },
  {
   "cell_type": "markdown",
   "id": "f5a02ab5",
   "metadata": {},
   "source": [
    "## 3\n",
    "How many whippets are rescues (remember that the value of is_rescue is 1 for rescues and 0 otherwise)? Save this number as num_whippet_rescues and print it out."
   ]
  },
  {
   "cell_type": "code",
   "execution_count": 26,
   "id": "88ac365e",
   "metadata": {},
   "outputs": [
    {
     "name": "stdout",
     "output_type": "stream",
     "text": [
      "The number of whippet rescues is 6.\n"
     ]
    }
   ],
   "source": [
    "num_whippet_rescues = np.sum(whippit_rescue['is_rescue'])\n",
    "print(f'The number of whippet rescues is {num_whippet_rescues}.')"
   ]
  },
  {
   "cell_type": "markdown",
   "id": "a49496fc",
   "metadata": {},
   "source": [
    "## 4\n",
    "How many whippets are in this sample of data in total? Save this number as num_whippets and print it out."
   ]
  },
  {
   "cell_type": "code",
   "execution_count": 35,
   "id": "4b4d91a6",
   "metadata": {},
   "outputs": [
    {
     "name": "stdout",
     "output_type": "stream",
     "text": [
      "The total number of whippets is 900\n"
     ]
    }
   ],
   "source": [
    "num_whippets = whippit_rescue.size\n",
    "print(f'The total number of whippets is {num_whippets}')"
   ]
  },
  {
   "cell_type": "markdown",
   "id": "3754590d",
   "metadata": {},
   "source": [
    "## 5\n",
    "Use a hypothesis test to test the following null and alternative hypotheses:\n",
    "\n",
    "- Null: 8% of whippets are rescues\n",
    "- Alternative: more or less than 8% of whippets are rescues\n",
    "\n",
    "Save the p-value from this test as pval and print it out. Using a significance threshold of 0.05, Is the proportion of whippets who are rescues significantly different from 8%?"
   ]
  },
  {
   "cell_type": "code",
   "execution_count": 38,
   "id": "8f26843d",
   "metadata": {},
   "outputs": [
    {
     "name": "stdout",
     "output_type": "stream",
     "text": [
      " more or less than 8% of whippets are rescues\n"
     ]
    }
   ],
   "source": [
    "from scipy.stats import binom_test\n",
    "# we use binomian because we  are looking at binary data\n",
    "# is it a rescue or not\n",
    "pval = binom_test(x=num_whippet_rescues, n=num_whippets, p=0.05)\n",
    "print('8% of whippets are rescues' if pval > 0.05 else ' more or less than 8% of whippets are rescues')"
   ]
  },
  {
   "cell_type": "markdown",
   "id": "0aa9b73b",
   "metadata": {},
   "source": [
    "## 6\n",
    "Three of FetchMaker’s most popular mid-sized dog breeds are 'whippet's, 'terrier's, and 'pitbull's. Is there a significant difference in the average weights of these three dog breeds?\n",
    "\n",
    "To start answering this question, save the weights of each of these breeds in three separate series named wt_whippets, wt_terriers, and wt_pitbulls, respectively."
   ]
  },
  {
   "cell_type": "code",
   "execution_count": 49,
   "id": "01293e50",
   "metadata": {},
   "outputs": [],
   "source": [
    "wt_whippets = dogs_wtp[dogs_wtp['breed'] == 'whippet']['weight']\n",
    "wt_terriers = dogs_wtp[dogs_wtp['breed'] == 'terrier']['weight']\n",
    "wt_pitbulls = dogs_wtp[dogs_wtp['breed'] == 'pitbull']['weight']"
   ]
  },
  {
   "cell_type": "markdown",
   "id": "e6d032a0",
   "metadata": {},
   "source": [
    "## 7\n",
    "Run a single hypothesis test to address the following null and alternative hypotheses:\n",
    "\n",
    "- Null: whippets, terriers, and pitbulls all weigh the same amount on average\n",
    "- Alternative: whippets, terriers, and pitbulls do not all weigh the same amount on average (at least one pair of breeds has differing average weights)  \n",
    "\n",
    "Save the resulting p-value as pval and print it out. Using a significance threshold of 0.05, is there at least one pair of dog breeds that have significantly different average weights?"
   ]
  },
  {
   "cell_type": "code",
   "execution_count": 59,
   "id": "e6285af8",
   "metadata": {},
   "outputs": [
    {
     "name": "stdout",
     "output_type": "stream",
     "text": [
      "whippets, terriers, and pitbulls all don't weigh the same amount on average\n"
     ]
    }
   ],
   "source": [
    "from scipy.stats import f_oneway\n",
    "_, pval = f_oneway( wt_whippets, wt_terriers, wt_pitbulls)\n",
    "print('whippets, terriers, and pitbulls all weigh the same amount on average' if float(str(pval)) > 0.05 else 'whippets, terriers, and pitbulls all don\\'t weigh the same amount on average')"
   ]
  },
  {
   "cell_type": "markdown",
   "id": "429720ca",
   "metadata": {},
   "source": [
    "## 8 \n",
    "If you completed the previous step correctly, you should have concluded that at least one pair of dog breeds have significantly different average weights.\n",
    "\n",
    "Run another hypothesis test to determine which of those breeds (whippets, terriers, and pitbulls) weigh different amounts on average. Use an overall type I error rate of 0.05 for all three comparisons."
   ]
  },
  {
   "cell_type": "code",
   "execution_count": 63,
   "id": "a822327a",
   "metadata": {},
   "outputs": [
    {
     "name": "stdout",
     "output_type": "stream",
     "text": [
      " Multiple Comparison of Means - Tukey HSD, FWER=0.05 \n",
      "=====================================================\n",
      " group1  group2 meandiff p-adj   lower  upper  reject\n",
      "-----------------------------------------------------\n",
      "pitbull terrier   -13.24  0.001 -16.728 -9.752   True\n",
      "pitbull whippet    -3.34 0.0639  -6.828  0.148  False\n",
      "terrier whippet      9.9  0.001   6.412 13.388   True\n",
      "-----------------------------------------------------\n"
     ]
    }
   ],
   "source": [
    "from statsmodels.stats.multicomp import pairwise_tukeyhsd\n",
    "tukey_results = pairwise_tukeyhsd(dogs_wtp['weight'], dogs_wtp['breed'], 0.05)\n",
    "print(tukey_results)"
   ]
  },
  {
   "cell_type": "markdown",
   "id": "bebe63a5",
   "metadata": {},
   "source": [
    "**Mike:** From this data the pitbull is significantly different from the terried but not the whippetm and the terrier is significantly different from the whippet."
   ]
  },
  {
   "cell_type": "markdown",
   "id": "f02eff5e",
   "metadata": {},
   "source": [
    "# Poodle and Shihtzu Colors\n",
    "## 9\n",
    "FetchMaker wants to know if 'poodle's and 'shihtzu's come in different colors. \n",
    "\n",
    "To start, use the subsetted data to create a contingency table of dog colors by breed (poodle vs. shihtzu). Save the table as Xtab and print it out."
   ]
  },
  {
   "cell_type": "code",
   "execution_count": 65,
   "id": "ca7c53d2",
   "metadata": {},
   "outputs": [
    {
     "data": {
      "text/html": [
       "<div>\n",
       "<style scoped>\n",
       "    .dataframe tbody tr th:only-of-type {\n",
       "        vertical-align: middle;\n",
       "    }\n",
       "\n",
       "    .dataframe tbody tr th {\n",
       "        vertical-align: top;\n",
       "    }\n",
       "\n",
       "    .dataframe thead th {\n",
       "        text-align: right;\n",
       "    }\n",
       "</style>\n",
       "<table border=\"1\" class=\"dataframe\">\n",
       "  <thead>\n",
       "    <tr style=\"text-align: right;\">\n",
       "      <th></th>\n",
       "      <th>is_rescue</th>\n",
       "      <th>weight</th>\n",
       "      <th>tail_length</th>\n",
       "      <th>age</th>\n",
       "      <th>color</th>\n",
       "      <th>likes_children</th>\n",
       "      <th>is_hypoallergenic</th>\n",
       "      <th>name</th>\n",
       "      <th>breed</th>\n",
       "    </tr>\n",
       "  </thead>\n",
       "  <tbody>\n",
       "    <tr>\n",
       "      <th>300</th>\n",
       "      <td>0</td>\n",
       "      <td>58</td>\n",
       "      <td>8.05</td>\n",
       "      <td>1</td>\n",
       "      <td>black</td>\n",
       "      <td>1</td>\n",
       "      <td>0</td>\n",
       "      <td>Moise</td>\n",
       "      <td>poodle</td>\n",
       "    </tr>\n",
       "    <tr>\n",
       "      <th>301</th>\n",
       "      <td>0</td>\n",
       "      <td>56</td>\n",
       "      <td>9.44</td>\n",
       "      <td>4</td>\n",
       "      <td>black</td>\n",
       "      <td>1</td>\n",
       "      <td>0</td>\n",
       "      <td>Boote</td>\n",
       "      <td>poodle</td>\n",
       "    </tr>\n",
       "    <tr>\n",
       "      <th>302</th>\n",
       "      <td>1</td>\n",
       "      <td>59</td>\n",
       "      <td>4.04</td>\n",
       "      <td>4</td>\n",
       "      <td>black</td>\n",
       "      <td>1</td>\n",
       "      <td>0</td>\n",
       "      <td>Beatrix</td>\n",
       "      <td>poodle</td>\n",
       "    </tr>\n",
       "    <tr>\n",
       "      <th>303</th>\n",
       "      <td>0</td>\n",
       "      <td>70</td>\n",
       "      <td>12.37</td>\n",
       "      <td>1</td>\n",
       "      <td>black</td>\n",
       "      <td>1</td>\n",
       "      <td>0</td>\n",
       "      <td>Rabbi</td>\n",
       "      <td>poodle</td>\n",
       "    </tr>\n",
       "    <tr>\n",
       "      <th>304</th>\n",
       "      <td>0</td>\n",
       "      <td>52</td>\n",
       "      <td>11.42</td>\n",
       "      <td>2</td>\n",
       "      <td>black</td>\n",
       "      <td>0</td>\n",
       "      <td>0</td>\n",
       "      <td>Tallou</td>\n",
       "      <td>poodle</td>\n",
       "    </tr>\n",
       "  </tbody>\n",
       "</table>\n",
       "</div>"
      ],
      "text/plain": [
       "     is_rescue  weight  tail_length  age  color  likes_children  \\\n",
       "300          0      58         8.05    1  black               1   \n",
       "301          0      56         9.44    4  black               1   \n",
       "302          1      59         4.04    4  black               1   \n",
       "303          0      70        12.37    1  black               1   \n",
       "304          0      52        11.42    2  black               0   \n",
       "\n",
       "     is_hypoallergenic     name   breed  \n",
       "300                  0    Moise  poodle  \n",
       "301                  0    Boote  poodle  \n",
       "302                  0  Beatrix  poodle  \n",
       "303                  0    Rabbi  poodle  \n",
       "304                  0   Tallou  poodle  "
      ]
     },
     "execution_count": 65,
     "metadata": {},
     "output_type": "execute_result"
    }
   ],
   "source": [
    "dogs_ps.head()"
   ]
  },
  {
   "cell_type": "code",
   "execution_count": 67,
   "id": "fd0f3713",
   "metadata": {},
   "outputs": [
    {
     "data": {
      "text/html": [
       "<div>\n",
       "<style scoped>\n",
       "    .dataframe tbody tr th:only-of-type {\n",
       "        vertical-align: middle;\n",
       "    }\n",
       "\n",
       "    .dataframe tbody tr th {\n",
       "        vertical-align: top;\n",
       "    }\n",
       "\n",
       "    .dataframe thead th {\n",
       "        text-align: right;\n",
       "    }\n",
       "</style>\n",
       "<table border=\"1\" class=\"dataframe\">\n",
       "  <thead>\n",
       "    <tr style=\"text-align: right;\">\n",
       "      <th>breed</th>\n",
       "      <th>poodle</th>\n",
       "      <th>shihtzu</th>\n",
       "    </tr>\n",
       "    <tr>\n",
       "      <th>color</th>\n",
       "      <th></th>\n",
       "      <th></th>\n",
       "    </tr>\n",
       "  </thead>\n",
       "  <tbody>\n",
       "    <tr>\n",
       "      <th>black</th>\n",
       "      <td>17</td>\n",
       "      <td>10</td>\n",
       "    </tr>\n",
       "    <tr>\n",
       "      <th>brown</th>\n",
       "      <td>13</td>\n",
       "      <td>36</td>\n",
       "    </tr>\n",
       "    <tr>\n",
       "      <th>gold</th>\n",
       "      <td>8</td>\n",
       "      <td>6</td>\n",
       "    </tr>\n",
       "    <tr>\n",
       "      <th>grey</th>\n",
       "      <td>52</td>\n",
       "      <td>41</td>\n",
       "    </tr>\n",
       "    <tr>\n",
       "      <th>white</th>\n",
       "      <td>10</td>\n",
       "      <td>7</td>\n",
       "    </tr>\n",
       "  </tbody>\n",
       "</table>\n",
       "</div>"
      ],
      "text/plain": [
       "breed  poodle  shihtzu\n",
       "color                 \n",
       "black      17       10\n",
       "brown      13       36\n",
       "gold        8        6\n",
       "grey       52       41\n",
       "white      10        7"
      ]
     },
     "execution_count": 67,
     "metadata": {},
     "output_type": "execute_result"
    }
   ],
   "source": [
    "Xtab = pd.crosstab(dogs_ps['color'], dogs_ps['breed'])\n",
    "Xtab.head()"
   ]
  },
  {
   "cell_type": "markdown",
   "id": "d375353b",
   "metadata": {},
   "source": [
    "## 10\n",
    "Run a hypothesis test for the following null and alternative hypotheses:\n",
    "\n",
    "- Null: There is an association between breed (poodle vs. shihtzu) and color.\n",
    "- Alternative: There is not an association between breed (poodle vs. shihtzu) and color.\n",
    "\n",
    "Save the p-value as pval and print it out. Do poodles and shihtzus come in significantly different color combinations? Use a significance threshold of 0.05."
   ]
  },
  {
   "cell_type": "code",
   "execution_count": null,
   "id": "9cac003d",
   "metadata": {},
   "outputs": [],
   "source": [
    "from scipy.stats import chi"
   ]
  },
  {
   "cell_type": "code",
   "execution_count": null,
   "id": "1c0f9d26",
   "metadata": {},
   "outputs": [],
   "source": []
  },
  {
   "cell_type": "code",
   "execution_count": null,
   "id": "e21b4a60",
   "metadata": {},
   "outputs": [],
   "source": []
  }
 ],
 "metadata": {
  "kernelspec": {
   "display_name": "Python 3",
   "language": "python",
   "name": "python3"
  },
  "language_info": {
   "codemirror_mode": {
    "name": "ipython",
    "version": 3
   },
   "file_extension": ".py",
   "mimetype": "text/x-python",
   "name": "python",
   "nbconvert_exporter": "python",
   "pygments_lexer": "ipython3",
   "version": "3.8.8"
  }
 },
 "nbformat": 4,
 "nbformat_minor": 5
}
