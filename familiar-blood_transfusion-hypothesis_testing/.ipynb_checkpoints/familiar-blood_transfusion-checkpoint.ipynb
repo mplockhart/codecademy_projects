{
 "cells": [
  {
   "cell_type": "markdown",
   "id": "7e62e15f",
   "metadata": {},
   "source": [
    "# Familiar: A Study In Data Analysis\n",
    "Welcome to Familiar, a startup in the new market of blood transfusion! You’ve joined the team because you appreciate the flexible hours and extremely intelligent team, but the overeager doorman welcoming you into the office is a nice way to start your workday (well, work-evening).\n",
    "\n",
    "Familiar has fallen into some tough times lately, so you’re hoping to help them make some insights about their product and help move the needle (so to speak).\n",
    "\n",
    "Note that a solution.py file is also loaded for you in the workspace, which contains solution code for this project. We highly recommend that you complete the project on your own without checking the solution, but feel free to take a look if you get stuck or want to check your answers!"
   ]
  },
  {
   "cell_type": "code",
   "execution_count": 18,
   "id": "ff0c6ab6",
   "metadata": {},
   "outputs": [],
   "source": [
    "# All imports\n",
    "import numpy as np\n",
    "import pandas as pd\n",
    "import seaborn as sns\n",
    "import matplotlib.pyplot as plt"
   ]
  },
  {
   "cell_type": "markdown",
   "id": "42c2fc2a",
   "metadata": {},
   "source": [
    "## 1  \n",
    "The Familiar team has provided us with some data on lifespans for subscribers to two different packages, the Vein Pack and the Artery Pack! This data has been loaded for you as a dataframe named lifespans. Use the .head() method to print out the first five rows and take a look!"
   ]
  },
  {
   "cell_type": "code",
   "execution_count": 37,
   "id": "e8bebf7a",
   "metadata": {},
   "outputs": [
    {
     "name": "stdout",
     "output_type": "stream",
     "text": [
      "     pack   lifespan\n",
      "0    vein  76.255090\n",
      "1  artery  76.404504\n",
      "2  artery  75.952442\n",
      "3  artery  76.923082\n",
      "4  artery  73.771212\n",
      "     pack    iron\n",
      "0    vein     low\n",
      "1  artery  normal\n",
      "2  artery  normal\n",
      "3  artery  normal\n",
      "4  artery    high\n"
     ]
    }
   ],
   "source": [
    "lifespans = pd.read_csv('familiar_lifespan.csv')\n",
    "print(lifespans.head())\n",
    "iron = pd.read_csv('familiar_iron.csv')\n",
    "print(iron.head())"
   ]
  },
  {
   "cell_type": "markdown",
   "id": "5075bf2d",
   "metadata": {},
   "source": [
    "**Mike:** This is clearly two different sets of data. One with catagorical and numeric and one with catagorical only.  \n",
    "The iron test is likely to require a chi squared test whilethe lifespan is likely a binomial test.  "
   ]
  },
  {
   "cell_type": "markdown",
   "id": "345d9a55",
   "metadata": {},
   "source": [
    "## 2\n",
    "The first thing we want to know is whether Familiar’s most basic package, the Vein Pack, actually has a significant impact on the subscribers. It would be a marketing goldmine if we can show that subscribers to the Vein Pack live longer than other people.\n",
    "\n",
    "Extract the life spans of subscribers to the 'vein' pack and save the data into a variable called vein_pack_lifespans."
   ]
  },
  {
   "cell_type": "code",
   "execution_count": 5,
   "id": "9b918f86",
   "metadata": {},
   "outputs": [
    {
     "name": "stdout",
     "output_type": "stream",
     "text": [
      "0     76.255090\n",
      "7     74.502021\n",
      "8     76.937674\n",
      "9     74.838006\n",
      "11    77.484756\n",
      "12    79.969158\n",
      "13    77.047370\n",
      "15    72.874752\n",
      "18    77.492341\n",
      "19    77.583983\n",
      "21    75.993359\n",
      "23    74.798150\n",
      "24    73.343702\n",
      "26    78.326720\n",
      "27    76.341550\n",
      "30    77.488889\n",
      "33    72.142566\n",
      "34    76.532101\n",
      "37    75.993032\n",
      "38    77.435045\n",
      "Name: lifespan, dtype: float64\n"
     ]
    }
   ],
   "source": [
    "vein_pack_lifespans = lifespans[lifespans['pack'] == 'vein']['lifespan']\n",
    "print(vein_pack_lifespans)"
   ]
  },
  {
   "cell_type": "markdown",
   "id": "c7550662",
   "metadata": {},
   "source": [
    "## 3\n",
    "Next, use np.mean() to calculate the average lifespan for Vein Pack subscribers and print the result. Is it longer than 73 years?"
   ]
  },
  {
   "cell_type": "code",
   "execution_count": 9,
   "id": "09b75b36",
   "metadata": {},
   "outputs": [
    {
     "name": "stdout",
     "output_type": "stream",
     "text": [
      "The mean is longer than 73 years.\n",
      "The mean is 76.16901335636044 years.\n"
     ]
    }
   ],
   "source": [
    "vein_pack_lifespans_mean = np.mean(vein_pack_lifespans)\n",
    "print('The mean is longer than 73 years.' if vein_pack_lifespans_mean > 73 else 'The mean is shorter than 73 years.')\n",
    "print(f'The mean is {vein_pack_lifespans_mean} years.')"
   ]
  },
  {
   "cell_type": "markdown",
   "id": "959f296f",
   "metadata": {},
   "source": [
    "## 4\n",
    "We’d like to find out if the average lifespan of a Vein Pack subscriber is significantly different from the average life expectancy of 73 years.\n",
    "\n",
    "Import the statistical test from scipy.stats that we would use to test the following null and alternative hypotheses:\n",
    "\n",
    "- Null: The average lifespan of a Vein Pack subscriber is 73 years.\n",
    "- Alternative: The average lifespan of a Vein Pack subscriber is NOT 73 years."
   ]
  },
  {
   "cell_type": "code",
   "execution_count": 10,
   "id": "253358bf",
   "metadata": {},
   "outputs": [],
   "source": [
    "from scipy.stats import ttest_1samp"
   ]
  },
  {
   "cell_type": "markdown",
   "id": "9bceab51",
   "metadata": {},
   "source": [
    "## 5\n",
    "Now that you’ve imported the function you need, run the significance test and print out the p-value! Is the average lifespan of a Vein Pack subscriber significantly longer than 73 years? Use a significance threshold of 0.05."
   ]
  },
  {
   "cell_type": "code",
   "execution_count": 12,
   "id": "3fedbd18",
   "metadata": {},
   "outputs": [
    {
     "name": "stdout",
     "output_type": "stream",
     "text": [
      "The mean is significantly longer than 73 years.\n",
      "2.9860789607166057e-07\n"
     ]
    }
   ],
   "source": [
    "_, pval = ttest_1samp(vein_pack_lifespans, 73, alternative='greater')\n",
    "print('The mean is significantly longer than 73 years.' if pval < 0.05 else 'The mean is no significantly longer than 73 years.')\n",
    "print(pval)"
   ]
  },
  {
   "cell_type": "markdown",
   "id": "59b249ad",
   "metadata": {},
   "source": [
    "**Mike:** I just wanted to graph this as a histogram to show it."
   ]
  },
  {
   "cell_type": "code",
   "execution_count": 26,
   "id": "f62f4c80",
   "metadata": {},
   "outputs": [
    {
     "data": {
      "image/png": "[encoded data removed]",
      "text/plain": [
       "<Figure size 360x360 with 1 Axes>"
      ]
     },
     "metadata": {
      "needs_background": "light"
     },
     "output_type": "display_data"
    }
   ],
   "source": [
    "sns.displot(vein_pack_lifespans, kind='kde')\n",
    "plt.axvline(73, color='black')\n",
    "plt.show()"
   ]
  },
  {
   "cell_type": "markdown",
   "id": "789a867a",
   "metadata": {},
   "source": [
    "# Upselling Familiar: Pumping Life Into The Company\n",
    "## 6\n",
    "In order to differentiate Familiar’s different product lines, we’d like to compare this lifespan data between our different packages. Our next step up from the Vein Pack is the Artery Pack.\n",
    "\n",
    "Let’s get the lifespans of Artery Pack subscribers. Using the same lifespans dataset, extract the lifespans of subscribers to the Artery Pack and save them as artery_pack_lifespans."
   ]
  },
  {
   "cell_type": "code",
   "execution_count": 27,
   "id": "59ce0227",
   "metadata": {},
   "outputs": [
    {
     "name": "stdout",
     "output_type": "stream",
     "text": [
      "1    76.404504\n",
      "2    75.952442\n",
      "3    76.923082\n",
      "4    73.771212\n",
      "5    74.117420\n",
      "Name: lifespan, dtype: float64\n"
     ]
    }
   ],
   "source": [
    "artery_pack_lifespans = lifespans[lifespans['pack'] == 'artery']['lifespan']\n",
    "print(artery_pack_lifespans.head())"
   ]
  },
  {
   "cell_type": "markdown",
   "id": "1cc9741e",
   "metadata": {},
   "source": [
    "## 7\n",
    "Use np.mean() to calculate the average lifespan for Artery Pack subscribers and print the result. Is it longer than for the Vein Pack?"
   ]
  },
  {
   "cell_type": "code",
   "execution_count": 30,
   "id": "8921fe11",
   "metadata": {},
   "outputs": [
    {
     "name": "stdout",
     "output_type": "stream",
     "text": [
      "The artery mean is shorter than the vein mean.\n",
      "The mean is 74.87366223517039 years.\n"
     ]
    }
   ],
   "source": [
    "artery_pack_lifespans_mean = np.mean(artery_pack_lifespans)\n",
    "print('The artery mean is longer than the vein mean.' if artery_pack_lifespans_mean > vein_pack_lifespans_mean else 'The artery mean is shorter than the vein mean.')\n",
    "print(f'The mean is {artery_pack_lifespans_mean} years.')"
   ]
  },
  {
   "cell_type": "markdown",
   "id": "e08a5916",
   "metadata": {},
   "source": [
    "## 8\n",
    "We’d like to find out if the average lifespan of a Vein Pack subscriber is significantly different from the average life expectancy for the Artery Pack.\n",
    "\n",
    "Import the statistical test from scipy.stats that we would use to test the following null and alternative hypotheses:\n",
    "\n",
    "- Null: The average lifespan of a Vein Pack subscriber is equal to the average lifespan of an Artery Pack subscriber.\n",
    "- Alternative: The average lifespan of a Vein Pack subscriber is NOT equal to the average lifespan of an Artery Pack subscriber."
   ]
  },
  {
   "cell_type": "code",
   "execution_count": 32,
   "id": "71f52e3c",
   "metadata": {},
   "outputs": [],
   "source": [
    "from scipy.stats import ttest_ind"
   ]
  },
  {
   "cell_type": "markdown",
   "id": "3836e4ce",
   "metadata": {},
   "source": [
    "## 9\n",
    "Now that you’ve imported the function you need, run the significance test and print out the p-value! Is the average lifespan of a Vein Pack subscriber significantly different from the average lifespan of an Artery Pack subscriber? Use a significance threshold of 0.05."
   ]
  },
  {
   "cell_type": "code",
   "execution_count": 35,
   "id": "de133dd8",
   "metadata": {},
   "outputs": [
    {
     "name": "stdout",
     "output_type": "stream",
     "text": [
      "The artery mean is not significantly different from the vein mean.\n",
      "The pvalue is 0.05588883079070819.\n"
     ]
    }
   ],
   "source": [
    "_, pval = ttest_ind(vein_pack_lifespans, artery_pack_lifespans)\n",
    "print('The artery mean significantly different from the vein mean.' if pval < 0.05 else 'The artery mean is not significantly different from the vein mean.')\n",
    "print(f'The pvalue is {pval}.')"
   ]
  },
  {
   "cell_type": "markdown",
   "id": "78ee2a5a",
   "metadata": {},
   "source": [
    "# Side Effects: A Familiar Problem\n",
    "## 10\n",
    "The Familiar team has provided us with another dataset containing survey data about iron counts for our subscribers. This data has been pre-processed to categorize iron counts as “low”, “normal”, and “high” for each subscriber. Familiar wants to be able to advise potential subscribers about possible side effects of these packs and whether they differ for the Vein vs. the Artery pack.\n",
    "\n",
    "The data has been loaded for you as a dataframe named iron. Use the .head() method to print out the first five rows and take a look!"
   ]
  },
  {
   "cell_type": "code",
   "execution_count": 39,
   "id": "a4c71c2e",
   "metadata": {},
   "outputs": [
    {
     "name": "stdout",
     "output_type": "stream",
     "text": [
      "     pack    iron\n",
      "0    vein     low\n",
      "1  artery  normal\n",
      "2  artery  normal\n",
      "3  artery  normal\n",
      "4  artery    high\n"
     ]
    }
   ],
   "source": [
    "iron = pd.read_csv('familiar_iron.csv')\n",
    "print(iron.head())"
   ]
  },
  {
   "cell_type": "markdown",
   "id": "776cd1c3",
   "metadata": {},
   "source": [
    "## 11\n",
    "Is there an association between the pack that a subscriber gets (Vein vs. Artery) and their iron level? Use the pandas crosstab() function to create a contingency table of the pack and iron columns in the iron data. Save the result as Xtab and print it out.  \n",
    "**Mike:** as mentioned above, this screams chi squared test"
   ]
  },
  {
   "cell_type": "code",
   "execution_count": 43,
   "id": "3219306f",
   "metadata": {},
   "outputs": [
    {
     "name": "stdout",
     "output_type": "stream",
     "text": [
      "pack    artery  vein\n",
      "iron                \n",
      "high        87    20\n",
      "low         29   140\n",
      "normal      29    40\n"
     ]
    }
   ],
   "source": [
    "Xtab = pd.crosstab(iron['iron'], iron['pack'])\n",
    "print(Xtab)"
   ]
  },
  {
   "cell_type": "markdown",
   "id": "ddaf64db",
   "metadata": {},
   "source": [
    "## 12\n",
    "We’d like to find out if there is a significant association between which pack (Vein vs. Artery) someone subscribes to and their iron level.\n",
    "\n",
    "Import the statistical test from scipy.stats that we would use to test the following null and alternative hypotheses:\n",
    "\n",
    "- Null: There is NOT an association between which pack (Vein vs. Artery) someone subscribes to and their iron level.\n",
    "- Alternative: There is an association between which pack (Vein vs. Artery) someone subscribes to and their iron level."
   ]
  },
  {
   "cell_type": "code",
   "execution_count": 46,
   "id": "f732f3ef",
   "metadata": {},
   "outputs": [
    {
     "name": "stdout",
     "output_type": "stream",
     "text": [
      "There is an association between which pack (Vein vs. Artery) someone subscribes to and their iron level.\n",
      "The pvalue is 9.359749337432874e-25.\n"
     ]
    }
   ],
   "source": [
    "from scipy.stats import chi2_contingency\n",
    "_, pval, _, _ = chi2_contingency(Xtab)\n",
    "print('There is an association between which pack (Vein vs. Artery) someone subscribes to and their iron level.' if pval < 0.05 else 'There is NOT an association between which pack (Vein vs. Artery) someone subscribes to and their iron level.')\n",
    "print(f'The pvalue is {pval}.')"
   ]
  },
  {
   "cell_type": "code",
   "execution_count": null,
   "id": "fa8fa6c9",
   "metadata": {},
   "outputs": [],
   "source": []
  },
  {
   "cell_type": "code",
   "execution_count": null,
   "id": "75889980",
   "metadata": {},
   "outputs": [],
   "source": []
  },
  {
   "cell_type": "code",
   "execution_count": null,
   "id": "a303e900",
   "metadata": {},
   "outputs": [],
   "source": []
  },
  {
   "cell_type": "code",
   "execution_count": null,
   "id": "0533c1c5",
   "metadata": {},
   "outputs": [],
   "source": []
  },
  {
   "cell_type": "code",
   "execution_count": null,
   "id": "d88287ec",
   "metadata": {},
   "outputs": [],
   "source": []
  }
 ],
 "metadata": {
  "kernelspec": {
   "display_name": "Python 3",
   "language": "python",
   "name": "python3"
  },
  "language_info": {
   "codemirror_mode": {
    "name": "ipython",
    "version": 3
   },
   "file_extension": ".py",
   "mimetype": "text/x-python",
   "name": "python",
   "nbconvert_exporter": "python",
   "pygments_lexer": "ipython3",
   "version": "3.8.8"
  }
 },
 "nbformat": 4,
 "nbformat_minor": 5
}
