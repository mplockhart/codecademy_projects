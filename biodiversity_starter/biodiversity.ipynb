{
 "cells": [
  {
   "cell_type": "markdown",
   "metadata": {},
   "source": [
    "# Problem\n",
    "For this project, you will interpret data from the National Parks Service about endangered species in different parks.\n",
    "\n",
    "You will perform some data analysis on the conservation statuses of these species and investigate if there are any patterns or themes to the types of species that become endangered. During this project, you will analyze, clean up, and plot data as well as pose questions and seek to answer them in a meaningful way.\n",
    "\n",
    "After you perform your analysis, you will share your findings about the National Park Service."
   ]
  },
  {
   "cell_type": "markdown",
   "metadata": {},
   "source": [
    "Here are a few questions that this project has sought to answer:\n",
    "\n",
    "- What is the distribution of conservation status for species?\n",
    "- Are certain types of species more likely to be endangered?\n",
    "- Are the differences between species and their conservation status significant?\n",
    "- Which animal is most prevalent and what is their distribution amongst parks?"
   ]
  },
  {
   "cell_type": "markdown",
   "metadata": {},
   "source": [
    "### Analysis\n",
    "\n",
    "In this section, descriptive statistics and data visualization techniques will be employed to understand the data better. Statistical inference will also be used to test if the observed values are statistically significant. Some of the key metrics that will be computed include: \n",
    "\n",
    "1. Distributions\n",
    "1. counts\n",
    "1. relationship between species\n",
    "1. conservation status of species\n",
    "1. observations of species in parks. "
   ]
  },
  {
   "cell_type": "markdown",
   "metadata": {},
   "source": [
    "### Module imports\n",
    "Importing pandas, numpy, matplotlib and seaborn"
   ]
  },
  {
   "cell_type": "code",
   "execution_count": 1,
   "metadata": {},
   "outputs": [],
   "source": [
    "import pandas as pd\n",
    "import matplotlib.pyplot as plt\n",
    "import seaborn as sns\n",
    "import numpy as np"
   ]
  },
  {
   "cell_type": "markdown",
   "metadata": {},
   "source": [
    "## Loading & inspecting data\n",
    "Loading the species and observation data into pandas dfs"
   ]
  },
  {
   "cell_type": "code",
   "execution_count": 2,
   "metadata": {},
   "outputs": [
    {
     "name": "stdout",
     "output_type": "stream",
     "text": [
      "The shape of the data frame is: (5824, 4)\n"
     ]
    },
    {
     "data": {
      "text/html": [
       "<div>\n",
       "<style scoped>\n",
       "    .dataframe tbody tr th:only-of-type {\n",
       "        vertical-align: middle;\n",
       "    }\n",
       "\n",
       "    .dataframe tbody tr th {\n",
       "        vertical-align: top;\n",
       "    }\n",
       "\n",
       "    .dataframe thead th {\n",
       "        text-align: right;\n",
       "    }\n",
       "</style>\n",
       "<table border=\"1\" class=\"dataframe\">\n",
       "  <thead>\n",
       "    <tr style=\"text-align: right;\">\n",
       "      <th></th>\n",
       "      <th>category</th>\n",
       "      <th>scientific_name</th>\n",
       "      <th>common_names</th>\n",
       "      <th>conservation_status</th>\n",
       "    </tr>\n",
       "  </thead>\n",
       "  <tbody>\n",
       "    <tr>\n",
       "      <th>0</th>\n",
       "      <td>Mammal</td>\n",
       "      <td>Clethrionomys gapperi gapperi</td>\n",
       "      <td>Gapper's Red-Backed Vole</td>\n",
       "      <td>NaN</td>\n",
       "    </tr>\n",
       "    <tr>\n",
       "      <th>1</th>\n",
       "      <td>Mammal</td>\n",
       "      <td>Bos bison</td>\n",
       "      <td>American Bison, Bison</td>\n",
       "      <td>NaN</td>\n",
       "    </tr>\n",
       "    <tr>\n",
       "      <th>2</th>\n",
       "      <td>Mammal</td>\n",
       "      <td>Bos taurus</td>\n",
       "      <td>Aurochs, Aurochs, Domestic Cattle (Feral), Dom...</td>\n",
       "      <td>NaN</td>\n",
       "    </tr>\n",
       "    <tr>\n",
       "      <th>3</th>\n",
       "      <td>Mammal</td>\n",
       "      <td>Ovis aries</td>\n",
       "      <td>Domestic Sheep, Mouflon, Red Sheep, Sheep (Feral)</td>\n",
       "      <td>NaN</td>\n",
       "    </tr>\n",
       "    <tr>\n",
       "      <th>4</th>\n",
       "      <td>Mammal</td>\n",
       "      <td>Cervus elaphus</td>\n",
       "      <td>Wapiti Or Elk</td>\n",
       "      <td>NaN</td>\n",
       "    </tr>\n",
       "  </tbody>\n",
       "</table>\n",
       "</div>"
      ],
      "text/plain": [
       "  category                scientific_name  \\\n",
       "0   Mammal  Clethrionomys gapperi gapperi   \n",
       "1   Mammal                      Bos bison   \n",
       "2   Mammal                     Bos taurus   \n",
       "3   Mammal                     Ovis aries   \n",
       "4   Mammal                 Cervus elaphus   \n",
       "\n",
       "                                        common_names conservation_status  \n",
       "0                           Gapper's Red-Backed Vole                 NaN  \n",
       "1                              American Bison, Bison                 NaN  \n",
       "2  Aurochs, Aurochs, Domestic Cattle (Feral), Dom...                 NaN  \n",
       "3  Domestic Sheep, Mouflon, Red Sheep, Sheep (Feral)                 NaN  \n",
       "4                                      Wapiti Or Elk                 NaN  "
      ]
     },
     "execution_count": 2,
     "metadata": {},
     "output_type": "execute_result"
    }
   ],
   "source": [
    "species = pd.read_csv('species_info.csv')\n",
    "print(f'The shape of the data frame is: {species.shape}')\n",
    "species.head()"
   ]
  },
  {
   "cell_type": "code",
   "execution_count": 3,
   "metadata": {},
   "outputs": [
    {
     "name": "stdout",
     "output_type": "stream",
     "text": [
      "The shape of the data frame is: (23296, 3)\n"
     ]
    },
    {
     "data": {
      "text/html": [
       "<div>\n",
       "<style scoped>\n",
       "    .dataframe tbody tr th:only-of-type {\n",
       "        vertical-align: middle;\n",
       "    }\n",
       "\n",
       "    .dataframe tbody tr th {\n",
       "        vertical-align: top;\n",
       "    }\n",
       "\n",
       "    .dataframe thead th {\n",
       "        text-align: right;\n",
       "    }\n",
       "</style>\n",
       "<table border=\"1\" class=\"dataframe\">\n",
       "  <thead>\n",
       "    <tr style=\"text-align: right;\">\n",
       "      <th></th>\n",
       "      <th>scientific_name</th>\n",
       "      <th>park_name</th>\n",
       "      <th>observations</th>\n",
       "    </tr>\n",
       "  </thead>\n",
       "  <tbody>\n",
       "    <tr>\n",
       "      <th>0</th>\n",
       "      <td>Vicia benghalensis</td>\n",
       "      <td>Great Smoky Mountains National Park</td>\n",
       "      <td>68</td>\n",
       "    </tr>\n",
       "    <tr>\n",
       "      <th>1</th>\n",
       "      <td>Neovison vison</td>\n",
       "      <td>Great Smoky Mountains National Park</td>\n",
       "      <td>77</td>\n",
       "    </tr>\n",
       "    <tr>\n",
       "      <th>2</th>\n",
       "      <td>Prunus subcordata</td>\n",
       "      <td>Yosemite National Park</td>\n",
       "      <td>138</td>\n",
       "    </tr>\n",
       "    <tr>\n",
       "      <th>3</th>\n",
       "      <td>Abutilon theophrasti</td>\n",
       "      <td>Bryce National Park</td>\n",
       "      <td>84</td>\n",
       "    </tr>\n",
       "    <tr>\n",
       "      <th>4</th>\n",
       "      <td>Githopsis specularioides</td>\n",
       "      <td>Great Smoky Mountains National Park</td>\n",
       "      <td>85</td>\n",
       "    </tr>\n",
       "  </tbody>\n",
       "</table>\n",
       "</div>"
      ],
      "text/plain": [
       "            scientific_name                            park_name  observations\n",
       "0        Vicia benghalensis  Great Smoky Mountains National Park            68\n",
       "1            Neovison vison  Great Smoky Mountains National Park            77\n",
       "2         Prunus subcordata               Yosemite National Park           138\n",
       "3      Abutilon theophrasti                  Bryce National Park            84\n",
       "4  Githopsis specularioides  Great Smoky Mountains National Park            85"
      ]
     },
     "execution_count": 3,
     "metadata": {},
     "output_type": "execute_result"
    }
   ],
   "source": [
    "observations = pd.read_csv('observations.csv')\n",
    "print(f'The shape of the data frame is: {observations.shape}')\n",
    "observations.head()"
   ]
  },
  {
   "cell_type": "markdown",
   "metadata": {},
   "source": [
    "### Inspecting data\n",
    "I like the thought of having park names as a categorical variable to save space in `observations`, and will also do the same with category and conservation status in `species`. Before doing this I need to make sure these are relatively small values and not already cetgorical."
   ]
  },
  {
   "cell_type": "code",
   "execution_count": 4,
   "metadata": {},
   "outputs": [
    {
     "name": "stdout",
     "output_type": "stream",
     "text": [
      "types of data in species:\n",
      "category               object\n",
      "scientific_name        object\n",
      "common_names           object\n",
      "conservation_status    object\n",
      "dtype: object\n",
      "types of data in observations:\n",
      "scientific_name    object\n",
      "park_name          object\n",
      "observations        int64\n",
      "dtype: object\n"
     ]
    }
   ],
   "source": [
    "print('types of data in species:')\n",
    "print(species.dtypes)\n",
    "print('types of data in observations:')\n",
    "print(observations.dtypes)"
   ]
  },
  {
   "cell_type": "markdown",
   "metadata": {},
   "source": [
    "Now to check the numbers of these objects."
   ]
  },
  {
   "cell_type": "code",
   "execution_count": 5,
   "metadata": {},
   "outputs": [
    {
     "name": "stdout",
     "output_type": "stream",
     "text": [
      "The different numbers of species categories are: 7\n",
      "These species are:  ['Mammal' 'Bird' 'Reptile' 'Amphibian' 'Fish' 'Vascular Plant'\n",
      " 'Nonvascular Plant']\n",
      "The different numbers of species conservation status are: 4\n",
      "These conservation statuses are:  [nan 'Species of Concern' 'Endangered' 'Threatened' 'In Recovery']\n",
      "The different numbers of observation park names are: 4\n",
      "These park names are: ['Great Smoky Mountains National Park' 'Yosemite National Park'\n",
      " 'Bryce National Park' 'Yellowstone National Park']\n"
     ]
    }
   ],
   "source": [
    "print(f'The different numbers of species categories are: {species.category.nunique()}')\n",
    "print(f'These species are:  {species.category.unique()}')\n",
    "print(f'The different numbers of species conservation status are: {species.conservation_status.nunique()}')\n",
    "print(f'These conservation statuses are:  {species.conservation_status.unique()}')\n",
    "print(f'The different numbers of observation park names are: {observations.park_name.nunique()}')\n",
    "print(f'These park names are: {observations.park_name.unique()}')"
   ]
  },
  {
   "cell_type": "markdown",
   "metadata": {},
   "source": [
    "Before changing the data tocategorical it needs to have the `NaN` changed to a better desciptor first. It would be assumed that is there are species that are not being observed they are not under threat, so will be names `Not Threatened`."
   ]
  },
  {
   "cell_type": "code",
   "execution_count": 6,
   "metadata": {},
   "outputs": [
    {
     "data": {
      "text/plain": [
       "0    Not Endangered\n",
       "1    Not Endangered\n",
       "2    Not Endangered\n",
       "3    Not Endangered\n",
       "4    Not Endangered\n",
       "Name: conservation_status, dtype: object"
      ]
     },
     "execution_count": 6,
     "metadata": {},
     "output_type": "execute_result"
    }
   ],
   "source": [
    "species['conservation_status'].fillna('Not Endangered', inplace=True)\n",
    "species['conservation_status'].head()"
   ]
  },
  {
   "cell_type": "markdown",
   "metadata": {},
   "source": [
    "There are few numbers for each of these and so they can be changed to categorical variables."
   ]
  },
  {
   "cell_type": "code",
   "execution_count": 7,
   "metadata": {},
   "outputs": [],
   "source": [
    "# species['category'] = species['category'].astype('category')\n",
    "# species['conservation_status'] = species['conservation_status'].astype('category')\n",
    "# observations['park_name'] = observations['park_name'].astype('category')"
   ]
  },
  {
   "cell_type": "code",
   "execution_count": 8,
   "metadata": {},
   "outputs": [
    {
     "name": "stdout",
     "output_type": "stream",
     "text": [
      "The new data types for the species DF are:\n",
      "<class 'pandas.core.frame.DataFrame'>\n",
      "RangeIndex: 5824 entries, 0 to 5823\n",
      "Data columns (total 4 columns):\n",
      " #   Column               Non-Null Count  Dtype \n",
      "---  ------               --------------  ----- \n",
      " 0   category             5824 non-null   object\n",
      " 1   scientific_name      5824 non-null   object\n",
      " 2   common_names         5824 non-null   object\n",
      " 3   conservation_status  5824 non-null   object\n",
      "dtypes: object(4)\n",
      "memory usage: 182.1+ KB\n",
      "None\n",
      "The new data types for the observations DF are:\n",
      "<class 'pandas.core.frame.DataFrame'>\n",
      "RangeIndex: 23296 entries, 0 to 23295\n",
      "Data columns (total 3 columns):\n",
      " #   Column           Non-Null Count  Dtype \n",
      "---  ------           --------------  ----- \n",
      " 0   scientific_name  23296 non-null  object\n",
      " 1   park_name        23296 non-null  object\n",
      " 2   observations     23296 non-null  int64 \n",
      "dtypes: int64(1), object(2)\n",
      "memory usage: 546.1+ KB\n",
      "None\n"
     ]
    }
   ],
   "source": [
    "print('The new data types for the species DF are:')\n",
    "print(species.info())\n",
    "print('The new data types for the observations DF are:')\n",
    "print(observations.info())"
   ]
  },
  {
   "cell_type": "markdown",
   "metadata": {},
   "source": [
    "The DF should still look the same, but when I run `head` on the column the categories are listed."
   ]
  },
  {
   "cell_type": "code",
   "execution_count": 9,
   "metadata": {},
   "outputs": [
    {
     "name": "stdout",
     "output_type": "stream",
     "text": [
      "0    Mammal\n",
      "1    Mammal\n",
      "2    Mammal\n",
      "3    Mammal\n",
      "4    Mammal\n",
      "Name: category, dtype: object\n",
      "0    Not Endangered\n",
      "1    Not Endangered\n",
      "2    Not Endangered\n",
      "3    Not Endangered\n",
      "4    Not Endangered\n",
      "Name: conservation_status, dtype: object\n",
      "0    Great Smoky Mountains National Park\n",
      "1    Great Smoky Mountains National Park\n",
      "2                 Yosemite National Park\n",
      "3                    Bryce National Park\n",
      "4    Great Smoky Mountains National Park\n",
      "Name: park_name, dtype: object\n"
     ]
    }
   ],
   "source": [
    "print(species['category'].head())\n",
    "print(species['conservation_status'].head())\n",
    "print(observations['park_name'].head())"
   ]
  },
  {
   "cell_type": "markdown",
   "metadata": {},
   "source": [
    "## Species EDA\n",
    "Now time to look more spedifically at the species DF."
   ]
  },
  {
   "cell_type": "code",
   "execution_count": 10,
   "metadata": {},
   "outputs": [
    {
     "name": "stdout",
     "output_type": "stream",
     "text": [
      "There are 5541 species with scientific names.\n",
      "But there are 5504 species with common names.\n"
     ]
    }
   ],
   "source": [
    "# How many unique animals by scientific name\n",
    "print(f\"There are {species['scientific_name'].nunique()} species with scientific names.\")\n",
    "print(f\"But there are {species['common_names'].nunique()} species with common names.\")"
   ]
  },
  {
   "cell_type": "code",
   "execution_count": 11,
   "metadata": {},
   "outputs": [
    {
     "data": {
      "text/html": [
       "<div>\n",
       "<style scoped>\n",
       "    .dataframe tbody tr th:only-of-type {\n",
       "        vertical-align: middle;\n",
       "    }\n",
       "\n",
       "    .dataframe tbody tr th {\n",
       "        vertical-align: top;\n",
       "    }\n",
       "\n",
       "    .dataframe thead th {\n",
       "        text-align: right;\n",
       "    }\n",
       "</style>\n",
       "<table border=\"1\" class=\"dataframe\">\n",
       "  <thead>\n",
       "    <tr style=\"text-align: right;\">\n",
       "      <th></th>\n",
       "      <th>category</th>\n",
       "      <th>scientific_name</th>\n",
       "      <th>common_names</th>\n",
       "      <th>conservation_status</th>\n",
       "    </tr>\n",
       "  </thead>\n",
       "  <tbody>\n",
       "    <tr>\n",
       "      <th>count</th>\n",
       "      <td>5824</td>\n",
       "      <td>5824</td>\n",
       "      <td>5824</td>\n",
       "      <td>5824</td>\n",
       "    </tr>\n",
       "    <tr>\n",
       "      <th>unique</th>\n",
       "      <td>7</td>\n",
       "      <td>5541</td>\n",
       "      <td>5504</td>\n",
       "      <td>5</td>\n",
       "    </tr>\n",
       "    <tr>\n",
       "      <th>top</th>\n",
       "      <td>Vascular Plant</td>\n",
       "      <td>Procyon lotor</td>\n",
       "      <td>Dicranum Moss</td>\n",
       "      <td>Not Endangered</td>\n",
       "    </tr>\n",
       "    <tr>\n",
       "      <th>freq</th>\n",
       "      <td>4470</td>\n",
       "      <td>3</td>\n",
       "      <td>7</td>\n",
       "      <td>5633</td>\n",
       "    </tr>\n",
       "  </tbody>\n",
       "</table>\n",
       "</div>"
      ],
      "text/plain": [
       "              category scientific_name   common_names conservation_status\n",
       "count             5824            5824           5824                5824\n",
       "unique               7            5541           5504                   5\n",
       "top     Vascular Plant   Procyon lotor  Dicranum Moss      Not Endangered\n",
       "freq              4470               3              7                5633"
      ]
     },
     "execution_count": 11,
     "metadata": {},
     "output_type": "execute_result"
    }
   ],
   "source": [
    "# Identify the duplicates\n",
    "species.describe()"
   ]
  },
  {
   "cell_type": "code",
   "execution_count": 12,
   "metadata": {},
   "outputs": [
    {
     "data": {
      "text/plain": [
       "283"
      ]
     },
     "execution_count": 12,
     "metadata": {},
     "output_type": "execute_result"
    }
   ],
   "source": [
    "# How many duplicates\n",
    "species[species['scientific_name'].duplicated() == True]['conservation_status'].count()"
   ]
  },
  {
   "cell_type": "code",
   "execution_count": 13,
   "metadata": {},
   "outputs": [
    {
     "data": {
      "text/html": [
       "<div>\n",
       "<style scoped>\n",
       "    .dataframe tbody tr th:only-of-type {\n",
       "        vertical-align: middle;\n",
       "    }\n",
       "\n",
       "    .dataframe tbody tr th {\n",
       "        vertical-align: top;\n",
       "    }\n",
       "\n",
       "    .dataframe thead th {\n",
       "        text-align: right;\n",
       "    }\n",
       "</style>\n",
       "<table border=\"1\" class=\"dataframe\">\n",
       "  <thead>\n",
       "    <tr style=\"text-align: right;\">\n",
       "      <th></th>\n",
       "      <th>category</th>\n",
       "      <th>scientific_name</th>\n",
       "      <th>common_names</th>\n",
       "      <th>conservation_status</th>\n",
       "    </tr>\n",
       "  </thead>\n",
       "  <tbody>\n",
       "    <tr>\n",
       "      <th>5553</th>\n",
       "      <td>Vascular Plant</td>\n",
       "      <td>Agrostis capillaris</td>\n",
       "      <td>Colonial Bent, Colonial Bentgrass</td>\n",
       "      <td>Not Endangered</td>\n",
       "    </tr>\n",
       "    <tr>\n",
       "      <th>5554</th>\n",
       "      <td>Vascular Plant</td>\n",
       "      <td>Agrostis gigantea</td>\n",
       "      <td>Black Bent, Redtop, Water Bentgrass</td>\n",
       "      <td>Not Endangered</td>\n",
       "    </tr>\n",
       "    <tr>\n",
       "      <th>4178</th>\n",
       "      <td>Vascular Plant</td>\n",
       "      <td>Agrostis mertensii</td>\n",
       "      <td>Arctic Bentgrass, Northern Bentgrass</td>\n",
       "      <td>Not Endangered</td>\n",
       "    </tr>\n",
       "    <tr>\n",
       "      <th>5556</th>\n",
       "      <td>Vascular Plant</td>\n",
       "      <td>Agrostis scabra</td>\n",
       "      <td>Rough Bent, Rough Bentgrass, Ticklegrass</td>\n",
       "      <td>Not Endangered</td>\n",
       "    </tr>\n",
       "    <tr>\n",
       "      <th>4182</th>\n",
       "      <td>Vascular Plant</td>\n",
       "      <td>Agrostis stolonifera</td>\n",
       "      <td>Carpet Bentgrass, Creeping Bent, Creeping Bent...</td>\n",
       "      <td>Not Endangered</td>\n",
       "    </tr>\n",
       "    <tr>\n",
       "      <th>...</th>\n",
       "      <td>...</td>\n",
       "      <td>...</td>\n",
       "      <td>...</td>\n",
       "      <td>...</td>\n",
       "    </tr>\n",
       "    <tr>\n",
       "      <th>3231</th>\n",
       "      <td>Bird</td>\n",
       "      <td>Vireo solitarius</td>\n",
       "      <td>Blue-Headed Vireo</td>\n",
       "      <td>Not Endangered</td>\n",
       "    </tr>\n",
       "    <tr>\n",
       "      <th>5640</th>\n",
       "      <td>Vascular Plant</td>\n",
       "      <td>Vulpia bromoides</td>\n",
       "      <td>Brome Fescue, Brome Six-Weeks Grass, Desert Fe...</td>\n",
       "      <td>Not Endangered</td>\n",
       "    </tr>\n",
       "    <tr>\n",
       "      <th>5643</th>\n",
       "      <td>Vascular Plant</td>\n",
       "      <td>Vulpia myuros</td>\n",
       "      <td>Foxtail Fescue, Rattail Fescue, Rat-Tail Fescu...</td>\n",
       "      <td>Not Endangered</td>\n",
       "    </tr>\n",
       "    <tr>\n",
       "      <th>4290</th>\n",
       "      <td>Vascular Plant</td>\n",
       "      <td>Vulpia octoflora</td>\n",
       "      <td>Eight-Flower Six-Weeks Grass, Pullout Grass, S...</td>\n",
       "      <td>Not Endangered</td>\n",
       "    </tr>\n",
       "    <tr>\n",
       "      <th>3347</th>\n",
       "      <td>Vascular Plant</td>\n",
       "      <td>Zizia aptera</td>\n",
       "      <td>Heartleaf Alexanders, Heart-Leaf Alexanders, M...</td>\n",
       "      <td>Not Endangered</td>\n",
       "    </tr>\n",
       "  </tbody>\n",
       "</table>\n",
       "<p>283 rows × 4 columns</p>\n",
       "</div>"
      ],
      "text/plain": [
       "            category       scientific_name  \\\n",
       "5553  Vascular Plant   Agrostis capillaris   \n",
       "5554  Vascular Plant     Agrostis gigantea   \n",
       "4178  Vascular Plant    Agrostis mertensii   \n",
       "5556  Vascular Plant       Agrostis scabra   \n",
       "4182  Vascular Plant  Agrostis stolonifera   \n",
       "...              ...                   ...   \n",
       "3231            Bird      Vireo solitarius   \n",
       "5640  Vascular Plant      Vulpia bromoides   \n",
       "5643  Vascular Plant         Vulpia myuros   \n",
       "4290  Vascular Plant      Vulpia octoflora   \n",
       "3347  Vascular Plant          Zizia aptera   \n",
       "\n",
       "                                           common_names conservation_status  \n",
       "5553                  Colonial Bent, Colonial Bentgrass      Not Endangered  \n",
       "5554                Black Bent, Redtop, Water Bentgrass      Not Endangered  \n",
       "4178               Arctic Bentgrass, Northern Bentgrass      Not Endangered  \n",
       "5556           Rough Bent, Rough Bentgrass, Ticklegrass      Not Endangered  \n",
       "4182  Carpet Bentgrass, Creeping Bent, Creeping Bent...      Not Endangered  \n",
       "...                                                 ...                 ...  \n",
       "3231                                  Blue-Headed Vireo      Not Endangered  \n",
       "5640  Brome Fescue, Brome Six-Weeks Grass, Desert Fe...      Not Endangered  \n",
       "5643  Foxtail Fescue, Rattail Fescue, Rat-Tail Fescu...      Not Endangered  \n",
       "4290  Eight-Flower Six-Weeks Grass, Pullout Grass, S...      Not Endangered  \n",
       "3347  Heartleaf Alexanders, Heart-Leaf Alexanders, M...      Not Endangered  \n",
       "\n",
       "[283 rows x 4 columns]"
      ]
     },
     "execution_count": 13,
     "metadata": {},
     "output_type": "execute_result"
    }
   ],
   "source": [
    "duplicated_species = species[species['scientific_name'].duplicated() == True]\n",
    "duplicated_species.sort_values(['scientific_name'])"
   ]
  },
  {
   "cell_type": "markdown",
   "metadata": {},
   "source": [
    "As there seems to be many names for the different animals, I will leave this here and focus on the grouping of species by conservation status."
   ]
  },
  {
   "cell_type": "code",
<<<<<<< HEAD
   "execution_count": 62,
   "metadata": {},
   "outputs": [
    {
     "data": {
      "text/plain": [
       "191"
      ]
     },
     "execution_count": 62,
=======
   "execution_count": 14,
   "metadata": {},
   "outputs": [
    {
     "data": {
      "text/plain": [
       "conservation_status  category         \n",
       "Endangered           Amphibian               1\n",
       "                     Bird                    4\n",
       "                     Fish                    3\n",
       "                     Mammal                  7\n",
       "                     Vascular Plant          1\n",
       "In Recovery          Bird                    3\n",
       "                     Mammal                  1\n",
       "Not Endangered       Amphibian              73\n",
       "                     Bird                  442\n",
       "                     Fish                  116\n",
       "                     Mammal                176\n",
       "                     Nonvascular Plant     328\n",
       "                     Reptile                74\n",
       "                     Vascular Plant       4424\n",
       "Species of Concern   Amphibian               4\n",
       "                     Bird                   72\n",
       "                     Fish                    4\n",
       "                     Mammal                 28\n",
       "                     Nonvascular Plant       5\n",
       "                     Reptile                 5\n",
       "                     Vascular Plant         43\n",
       "Threatened           Amphibian               2\n",
       "                     Fish                    4\n",
       "                     Mammal                  2\n",
       "                     Vascular Plant          2\n",
       "dtype: int64"
      ]
     },
     "execution_count": 14,
     "metadata": {},
     "output_type": "execute_result"
    }
   ],
   "source": [
    "species.groupby(['conservation_status','category']).size()"
   ]
  },
  {
   "cell_type": "code",
   "execution_count": 15,
   "metadata": {},
   "outputs": [
    {
     "data": {
      "text/plain": [
       "category\n",
       "Amphibian              80\n",
       "Bird                  521\n",
       "Fish                  127\n",
       "Mammal                214\n",
       "Nonvascular Plant     333\n",
       "Reptile                79\n",
       "Vascular Plant       4470\n",
       "dtype: int64"
      ]
     },
     "execution_count": 15,
     "metadata": {},
     "output_type": "execute_result"
    }
   ],
   "source": [
    "category_species = species.groupby(['category']).size()\n",
    "category_species.head(len(category_species))"
   ]
  },
  {
   "cell_type": "code",
   "execution_count": 16,
   "metadata": {},
   "outputs": [
    {
     "data": {
      "image/png": "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\n",
      "text/plain": [
       "<Figure size 432x288 with 1 Axes>"
      ]
     },
     "metadata": {
      "needs_background": "light"
     },
     "output_type": "display_data"
    }
   ],
   "source": [
    "# Plotting the categories of species\n",
    "plt.bar(category_species.index, category_species)\n",
    "plt.xticks(rotation=45)\n",
    "plt.show()"
   ]
  },
  {
   "cell_type": "markdown",
   "metadata": {},
   "source": [
    "From the initial massive amount of data, only a small number have `conservation status` data. In that case I will rename the  `NaN` data to `Not Endangered`. **On the intial run I tried to do this here but there was a problem with the NaN being in a categorical column.**"
   ]
  },
  {
   "cell_type": "code",
   "execution_count": 17,
   "metadata": {},
   "outputs": [
    {
     "data": {
      "text/plain": [
       "conservation_status\n",
       "Endangered              16\n",
       "In Recovery              4\n",
       "Not Endangered        5633\n",
       "Species of Concern     161\n",
       "Threatened              10\n",
       "dtype: int64"
      ]
     },
     "execution_count": 17,
     "metadata": {},
     "output_type": "execute_result"
    }
   ],
   "source": [
    "conserve_status_species = species.groupby(['conservation_status']).size()\n",
    "conserve_status_species.head(len(conserve_status_species))"
   ]
  },
  {
   "cell_type": "code",
   "execution_count": 18,
   "metadata": {},
   "outputs": [
    {
     "data": {
      "image/png": "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\n",
      "text/plain": [
       "<Figure size 432x288 with 1 Axes>"
      ]
     },
     "metadata": {
      "needs_background": "light"
     },
     "output_type": "display_data"
    }
   ],
   "source": [
    "plt.bar(conserve_status_species.index, conserve_status_species)\n",
    "plt.xticks(rotation=45)\n",
    "plt.show()"
   ]
  },
  {
   "cell_type": "code",
   "execution_count": 19,
   "metadata": {},
   "outputs": [
    {
     "data": {
      "image/png": "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\n",
      "text/plain": [
       "<Figure size 432x288 with 1 Axes>"
      ]
     },
     "metadata": {
      "needs_background": "light"
     },
     "output_type": "display_data"
    }
   ],
   "source": [
    "# Due to the overpowering of the 'Not endangered' data it was dropped to graph it better.\n",
    "plt.bar(conserve_status_species.index.drop('Not Endangered'), conserve_status_species.drop('Not Endangered'))\n",
    "plt.xticks(rotation=45)\n",
    "plt.show()"
   ]
  },
  {
   "cell_type": "markdown",
   "metadata": {},
   "source": [
    "A graph to look at a combination of the above might be useful to see"
   ]
  },
  {
   "cell_type": "code",
   "execution_count": 20,
   "metadata": {},
   "outputs": [
    {
     "data": {
      "text/plain": [
       "conservation_status  category         \n",
       "Endangered           Amphibian               1\n",
       "                     Bird                    4\n",
       "                     Fish                    3\n",
       "                     Mammal                  7\n",
       "                     Vascular Plant          1\n",
       "In Recovery          Bird                    3\n",
       "                     Mammal                  1\n",
       "Not Endangered       Amphibian              73\n",
       "                     Bird                  442\n",
       "                     Fish                  116\n",
       "                     Mammal                176\n",
       "                     Nonvascular Plant     328\n",
       "                     Reptile                74\n",
       "                     Vascular Plant       4424\n",
       "Species of Concern   Amphibian               4\n",
       "                     Bird                   72\n",
       "                     Fish                    4\n",
       "                     Mammal                 28\n",
       "                     Nonvascular Plant       5\n",
       "                     Reptile                 5\n",
       "                     Vascular Plant         43\n",
       "Threatened           Amphibian               2\n",
       "                     Fish                    4\n",
       "                     Mammal                  2\n",
       "                     Vascular Plant          2\n",
       "dtype: int64"
      ]
     },
     "execution_count": 20,
     "metadata": {},
     "output_type": "execute_result"
    }
   ],
   "source": [
    "cons_cat_species = species.groupby(['conservation_status','category']).size()\n",
    "cons_cat_species"
   ]
  },
  {
   "cell_type": "code",
   "execution_count": 25,
   "metadata": {},
   "outputs": [
    {
     "data": {
      "text/html": [
       "<div>\n",
       "<style scoped>\n",
       "    .dataframe tbody tr th:only-of-type {\n",
       "        vertical-align: middle;\n",
       "    }\n",
       "\n",
       "    .dataframe tbody tr th {\n",
       "        vertical-align: top;\n",
       "    }\n",
       "\n",
       "    .dataframe thead th {\n",
       "        text-align: right;\n",
       "    }\n",
       "</style>\n",
       "<table border=\"1\" class=\"dataframe\">\n",
       "  <thead>\n",
       "    <tr style=\"text-align: right;\">\n",
       "      <th>category</th>\n",
       "      <th>conservation_status</th>\n",
       "      <th>Amphibian</th>\n",
       "      <th>Bird</th>\n",
       "      <th>Fish</th>\n",
       "      <th>Mammal</th>\n",
       "      <th>Nonvascular Plant</th>\n",
       "      <th>Reptile</th>\n",
       "      <th>Vascular Plant</th>\n",
       "    </tr>\n",
       "  </thead>\n",
       "  <tbody>\n",
       "    <tr>\n",
       "      <th>0</th>\n",
       "      <td>Endangered</td>\n",
       "      <td>1.0</td>\n",
       "      <td>4.0</td>\n",
       "      <td>3.0</td>\n",
       "      <td>7.0</td>\n",
       "      <td>NaN</td>\n",
       "      <td>NaN</td>\n",
       "      <td>1.0</td>\n",
       "    </tr>\n",
       "    <tr>\n",
       "      <th>1</th>\n",
       "      <td>In Recovery</td>\n",
       "      <td>NaN</td>\n",
       "      <td>3.0</td>\n",
       "      <td>NaN</td>\n",
       "      <td>1.0</td>\n",
       "      <td>NaN</td>\n",
       "      <td>NaN</td>\n",
       "      <td>NaN</td>\n",
       "    </tr>\n",
       "    <tr>\n",
       "      <th>2</th>\n",
       "      <td>Not Endangered</td>\n",
       "      <td>73.0</td>\n",
       "      <td>442.0</td>\n",
       "      <td>116.0</td>\n",
       "      <td>176.0</td>\n",
       "      <td>328.0</td>\n",
       "      <td>74.0</td>\n",
       "      <td>4424.0</td>\n",
       "    </tr>\n",
       "    <tr>\n",
       "      <th>3</th>\n",
       "      <td>Species of Concern</td>\n",
       "      <td>4.0</td>\n",
       "      <td>72.0</td>\n",
       "      <td>4.0</td>\n",
       "      <td>28.0</td>\n",
       "      <td>5.0</td>\n",
       "      <td>5.0</td>\n",
       "      <td>43.0</td>\n",
       "    </tr>\n",
       "    <tr>\n",
       "      <th>4</th>\n",
       "      <td>Threatened</td>\n",
       "      <td>2.0</td>\n",
       "      <td>NaN</td>\n",
       "      <td>4.0</td>\n",
       "      <td>2.0</td>\n",
       "      <td>NaN</td>\n",
       "      <td>NaN</td>\n",
       "      <td>2.0</td>\n",
       "    </tr>\n",
       "  </tbody>\n",
       "</table>\n",
       "</div>"
      ],
      "text/plain": [
       "category conservation_status  Amphibian   Bird   Fish  Mammal  \\\n",
       "0                 Endangered        1.0    4.0    3.0     7.0   \n",
       "1                In Recovery        NaN    3.0    NaN     1.0   \n",
       "2             Not Endangered       73.0  442.0  116.0   176.0   \n",
       "3         Species of Concern        4.0   72.0    4.0    28.0   \n",
       "4                 Threatened        2.0    NaN    4.0     2.0   \n",
       "\n",
       "category  Nonvascular Plant  Reptile  Vascular Plant  \n",
       "0                       NaN      NaN             1.0  \n",
       "1                       NaN      NaN             NaN  \n",
       "2                     328.0     74.0          4424.0  \n",
       "3                       5.0      5.0            43.0  \n",
       "4                       NaN      NaN             2.0  "
      ]
     },
     "execution_count": 25,
>>>>>>> dd1cb708dfba4911d53b5907c8f7228d84634c0b
     "metadata": {},
     "output_type": "execute_result"
    }
   ],
   "source": [
<<<<<<< HEAD
    "species.groupby(['conservation_status']).size().sum()"
=======
    "cons_cat_species_unstacked = cons_cat_species.unstack().reset_index()\n",
    "cons_cat_species_unstacked"
   ]
  },
  {
   "cell_type": "code",
   "execution_count": 26,
   "metadata": {},
   "outputs": [
    {
     "data": {
      "image/png": "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\n",
      "text/plain": [
       "<Figure size 432x288 with 1 Axes>"
      ]
     },
     "metadata": {
      "needs_background": "light"
     },
     "output_type": "display_data"
    }
   ],
   "source": [
    "plt.bar(cons_cat_species_unstacked.conservation_status, cons_cat_species_unstacked['Bird'])\n",
    "plt.xticks(rotation=45)\n",
    "plt.show()"
>>>>>>> dd1cb708dfba4911d53b5907c8f7228d84634c0b
   ]
  },
  {
   "cell_type": "markdown",
   "metadata": {},
   "source": [
<<<<<<< HEAD
    "from the initial massive amount of data, only 191 "
=======
    "As much as I have pivoted the data, I want to melt it again."
>>>>>>> dd1cb708dfba4911d53b5907c8f7228d84634c0b
   ]
  },
  {
   "cell_type": "code",
   "execution_count": 29,
   "metadata": {},
   "outputs": [
    {
     "data": {
      "text/html": [
       "<div>\n",
       "<style scoped>\n",
       "    .dataframe tbody tr th:only-of-type {\n",
       "        vertical-align: middle;\n",
       "    }\n",
       "\n",
       "    .dataframe tbody tr th {\n",
       "        vertical-align: top;\n",
       "    }\n",
       "\n",
       "    .dataframe thead th {\n",
       "        text-align: right;\n",
       "    }\n",
       "</style>\n",
       "<table border=\"1\" class=\"dataframe\">\n",
       "  <thead>\n",
       "    <tr style=\"text-align: right;\">\n",
       "      <th></th>\n",
       "      <th>conservation_status</th>\n",
       "      <th>Categories</th>\n",
       "      <th>Number of species</th>\n",
       "    </tr>\n",
       "  </thead>\n",
       "  <tbody>\n",
       "    <tr>\n",
       "      <th>0</th>\n",
       "      <td>Endangered</td>\n",
       "      <td>Amphibian</td>\n",
       "      <td>1.0</td>\n",
       "    </tr>\n",
       "    <tr>\n",
       "      <th>1</th>\n",
       "      <td>In Recovery</td>\n",
       "      <td>Amphibian</td>\n",
       "      <td>NaN</td>\n",
       "    </tr>\n",
       "    <tr>\n",
       "      <th>2</th>\n",
       "      <td>Not Endangered</td>\n",
       "      <td>Amphibian</td>\n",
       "      <td>73.0</td>\n",
       "    </tr>\n",
       "    <tr>\n",
       "      <th>3</th>\n",
       "      <td>Species of Concern</td>\n",
       "      <td>Amphibian</td>\n",
       "      <td>4.0</td>\n",
       "    </tr>\n",
       "    <tr>\n",
       "      <th>4</th>\n",
       "      <td>Threatened</td>\n",
       "      <td>Amphibian</td>\n",
       "      <td>2.0</td>\n",
       "    </tr>\n",
       "  </tbody>\n",
       "</table>\n",
       "</div>"
      ],
      "text/plain": [
       "  conservation_status Categories  Number of species\n",
       "0          Endangered  Amphibian                1.0\n",
       "1         In Recovery  Amphibian                NaN\n",
       "2      Not Endangered  Amphibian               73.0\n",
       "3  Species of Concern  Amphibian                4.0\n",
       "4          Threatened  Amphibian                2.0"
      ]
     },
     "execution_count": 29,
     "metadata": {},
     "output_type": "execute_result"
    }
   ],
   "source": [
    "species_clean = pd.melt(cons_cat_species_unstacked,\n",
    "                       id_vars=['conservation_status'],\n",
    "                       value_vars = ['Amphibian','Bird', 'Fish', 'Mammal', 'Nonvascular Plant', 'Reptile', 'Vascular Plant'],\n",
    "                       var_name = 'Categories',\n",
    "                       value_name = 'Number of species')\n",
    "species_clean.head()"
   ]
  },
  {
   "cell_type": "code",
   "execution_count": 37,
   "metadata": {},
   "outputs": [
    {
     "data": {
      "image/png": "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\n",
      "text/plain": [
       "<Figure size 432x288 with 1 Axes>"
      ]
     },
     "metadata": {
      "needs_background": "light"
     },
     "output_type": "display_data"
    }
   ],
   "source": [
    "sns.barplot(data=species_clean, x='Categories', y='Number of species', hue='conservation_status')\n",
    "plt.xticks(rotation=45)\n",
    "plt.show()"
   ]
  },
  {
   "cell_type": "code",
   "execution_count": 41,
   "metadata": {},
   "outputs": [
    {
     "data": {
      "text/html": [
       "<div>\n",
       "<style scoped>\n",
       "    .dataframe tbody tr th:only-of-type {\n",
       "        vertical-align: middle;\n",
       "    }\n",
       "\n",
       "    .dataframe tbody tr th {\n",
       "        vertical-align: top;\n",
       "    }\n",
       "\n",
       "    .dataframe thead th {\n",
       "        text-align: right;\n",
       "    }\n",
       "</style>\n",
       "<table border=\"1\" class=\"dataframe\">\n",
       "  <thead>\n",
       "    <tr style=\"text-align: right;\">\n",
       "      <th></th>\n",
       "      <th>conservation_status</th>\n",
       "      <th>Categories</th>\n",
       "      <th>Number of species</th>\n",
       "    </tr>\n",
       "  </thead>\n",
       "  <tbody>\n",
       "    <tr>\n",
       "      <th>0</th>\n",
       "      <td>Endangered</td>\n",
       "      <td>Amphibian</td>\n",
       "      <td>1.0</td>\n",
       "    </tr>\n",
       "    <tr>\n",
       "      <th>1</th>\n",
       "      <td>In Recovery</td>\n",
       "      <td>Amphibian</td>\n",
       "      <td>NaN</td>\n",
       "    </tr>\n",
       "    <tr>\n",
       "      <th>3</th>\n",
       "      <td>Species of Concern</td>\n",
       "      <td>Amphibian</td>\n",
       "      <td>4.0</td>\n",
       "    </tr>\n",
       "    <tr>\n",
       "      <th>4</th>\n",
       "      <td>Threatened</td>\n",
       "      <td>Amphibian</td>\n",
       "      <td>2.0</td>\n",
       "    </tr>\n",
       "    <tr>\n",
       "      <th>5</th>\n",
       "      <td>Endangered</td>\n",
       "      <td>Bird</td>\n",
       "      <td>4.0</td>\n",
       "    </tr>\n",
       "  </tbody>\n",
       "</table>\n",
       "</div>"
      ],
      "text/plain": [
       "  conservation_status Categories  Number of species\n",
       "0          Endangered  Amphibian                1.0\n",
       "1         In Recovery  Amphibian                NaN\n",
       "3  Species of Concern  Amphibian                4.0\n",
       "4          Threatened  Amphibian                2.0\n",
       "5          Endangered       Bird                4.0"
      ]
     },
     "execution_count": 41,
     "metadata": {},
     "output_type": "execute_result"
    }
   ],
   "source": [
    "# removing the larger outlier for a smaller proportion of risky animals\n",
    "species_clean_rare = species_clean[species_clean['conservation_status'] != 'Not Endangered']\n",
    "species_clean_rare.head()"
   ]
  },
  {
   "cell_type": "code",
   "execution_count": 43,
   "metadata": {},
   "outputs": [
    {
     "data": {
      "image/png": "iVBORw0KGgoAAAANSUhEUgAAAYMAAAFDCAYAAADYjGKmAAAAOXRFWHRTb2Z0d2FyZQBNYXRwbG90bGliIHZlcnNpb24zLjMuNCwgaHR0cHM6Ly9tYXRwbG90bGliLm9yZy8QVMy6AAAACXBIWXMAAAsTAAALEwEAmpwYAABGJUlEQVR4nO3de5xM9f/A8dfbukeuy1c3oii3XZd1DyW3CLkkPxUqUorqmySixDel+opvX6VyqSQiUqlc+qKksKyQJPdbbO63cnv//vicncZazK6dmZ31fj4e89iZM2fO+czZmXmfz+W8P6KqGGOMubRlCXcBjDHGhJ8FA2OMMRYMjDHGWDAwxhiDBQNjjDFA1nAXIBCFCxfWEiVKhLsYxhgTUeLj4/9Q1ehA1o2IYFCiRAmWLl0a7mIYY0xEEZHNga5rzUTGGGMsGBhjjLFgYIwxhgjpM0jJiRMn2LZtG3/++We4i2LCKGfOnFx11VVky5Yt3EUxJqJFbDDYtm0befPmpUSJEohIuItjwkBV2bNnD9u2bePaa68Nd3GMiWgR20z0559/UqhQIQsElzARoVChQlY7NCYdRGwwACwQGPsMGJNOIjoYGGOMSR8WDIwxxkRuB/KlaNy4cTRq1IgrrrgCgAceeIAnnniCLIUuHNNvKHpDmvaZkJDAjh07uO2229JlPWNMxmQ1gzA5depUql8zbtw4duzY4Xv8zjvvULZs2fQs1lkSEhKYOXNmuq1njMmYghYMRKSMiCT43Q6KyGMiUlBEZovIOu9vgWCV4ULee+89KlasSExMDPfccw+bN2+mQYMGVKxYkQYNGrBlyxYAOnfuTM+ePalVqxYlS5ZkypQpAOzcuZO6desSGxtL+fLl+fbbbwGYNWsWNWvWpHLlyrRr147Dhw8DLsfSoEGDqFOnDi+//DLVqlXzlWXTpk1UrFgRgEGDBhEXF0f58uXp1q0bqsqUKVNYunQpHTt2JDY2lmPHjlG/fn1fzqYvpn1Bi/otuL3e7bzywiu+7VYpWYXhLw4nJiaGGjVqsGvXrnMej48//pjy5csTExND3bp1OX78OAMGDGDSpEnExsYyadIkFi9eTK1atahUqRK1atVi7dq1Ka733HPP8corf5ejfPnybNq0iSNHjtCsWTNiYmIoX748kyZNSo9/pTHmYqlq0G9AFPA7UBx4GXjaW/408NKFXl+lShVN7ueffz5rWWqsWrVKS5curYmJiaqqumfPHm3evLmOGzdOVVXfffddbdmypaqqdurUSdu2baunTp3S1atXa6lSpVRV9ZVXXtHBgwerqurJkyf14MGDmpiYqDfddJMePnxYVVWHDh2qzz//vKqqFi9eXF966SVfGWJiYnT9+vW+9V544QVfWZLcfffdOmPGDFVVrVevni5ZssT3XNLj+QnztdiVxXThqoW6cttKrV67uo4cO1LX/L5GAf3ve/9VVdXevXv79pGS8uXL67Zt21RVdd++faqqOnbsWO3Ro4dvnQMHDuiJEydUVXX27NnaunXrFNcbOHCgDhs2zPe4XLlyunHjRp0yZYo+8MADvuX79+8/Z3kCdbGfBWMyK2CpBvg7HapmogbAelXdDLQExnvLxwOtQlSGM3zzzTe0bduWwoULA1CwYEEWLVrE//3f/wFwzz338N133/nWb9WqFVmyZKFs2bK+s+u4uDjGjh3Lc889x8qVK8mbNy8//PADP//8M7Vr1yY2Npbx48ezefPfiQPbt2/vu3/nnXcyefJkACZNmuR77n//+x/Vq1enQoUKfPPNN6xevfq872VlwkriasZRsHBBsmbNSvM2zVn6g6sxZMuejfoN6wNQpUoVNm3adM7t1K5dm86dO/P222+fsxnrwIEDtGvXjvLly/P4449fsGzJVahQgTlz5tCnTx++/fZb8uXLl6rXG2OCI1TB4C5gone/qKruBPD+FknpBSLSTUSWisjSxMTEdC+Qql5wjLr/8zly5DjjtQB169ZlwYIFXHnlldxzzz289957qCoNGzYkISGBhIQEfv75Z959913fay+77DLf/fbt2zN58mR+/fVXRITrr7+eP//8k4cffpgpU6awcuVKunbtesGLqpLKk5JsWbP53kdUVBQnT54857pvvvkmgwcPZuvWrcTGxrJnz56z1nn22We5+eabWbVqFZ999tk5y5Y1a1ZOnz7te5y0XunSpYmPj6dChQr07duXQYMGnfe9GWNCI+jBQESyAy2Aj1PzOlUdrapVVbVqdHRAczOkSoMGDZg8ebLvB2/v3r3UqlWLjz76CIAJEyZQp06d825j8+bNFClShK5du3L//fezbNkyatSowcKFC/ntt98AOHr0KL/++muKry9VqhRRUVG88MILvlpB0o9m4cKFOXz4sK9/AiBv3rwcOnTorO1UrFyRJYuWsG/PPk6dOsUX074grmZcKo8IrF+/nurVqzNo0CAKFy7M1q1bz9rngQMHuPLKKwHXoX2uspUoUYJly5YBsGzZMjZu3AjAjh07yJ07N3fffTdPPvmkbx1jTHiFYmhpU2CZqib1XO4SkWKqulNEigG7Q1CGs5QrV45+/fpRr149oqKiqFSpEiNGjOC+++5j2LBhREdHM3bs2PNuY968eQwbNoxs2bKRJ08e3nvvPaKjoxk3bhwdOnTgr7/+AmDw4MGULl06xW20b9+e3r17+34s8+fPT9euXalQoQIlSpQgLu7vH/XOnTvTvXt3cuXKxaJFi3zLixQtwhP9nqBTm06oKnUb1KVBkwapPia9e/dm3bp1qCoNGjQgJiaGa665hqFDhxIbG0vfvn156qmn6NSpE6+99hq33HKL77U333zzGeu1adOG9957j9jYWOLi4nzvf+XKlfTu3ZssWbKQLVs2Ro0alepyGmPSn5yviSFddiDyEfC1qo71Hg8D9qjqUBF5Giioqk+dbxtVq1bV5DOdrVmzhhtvvDFYxY4ov+z65YLrpPU6g0hgnwVjUiYi8apaNZB1g9pMJCK5gYbAJ36LhwINRWSd99zQYJbBGGPMhQW1mUhVjwKFki3bgxtdZMJkyJAhfPzxmV047dq1o1+/fmEqkTEm3CwdxSWoX79+9sNvjDmDpaMwxhhjwcAYY4wFA2OMMWSiPoMqvd9L1+3FD7v3gutERUVRoUIF3+O77rqLp59+OuB9lChRgqVLl/pSYmREzz33HHny5OHJJ58Md1GMMUGUaYJBOOTKlYuEhIRwFyPVfImpsljF0Bjj2K9BEJQoUYKBAwdSuXJlKlSowC+/uIvC9uzZQ6NGjahUqRIPPvjgGTmFWrVqRZUqVShXrhyjR4/2Lc+TJw/9+vU7KwX1+vXrqVGjBnFxcYx4aQRVSlbxvebdN96lXeN2tLy5JSNfHgm4FNk33ngjDz/8MJUrV2br1q0MGzaMuLg4KlasyMCBA32vHzJkCGXKlOHWW29l7dq1QT1WxpiMwYLBRTh27BixsbG+m39u/sKFC7Ns2TIeeughX17/559/njp16rB8+XJatGjhmy8BYMyYMcTHx7N06VJGjBjhy5l05MgRatSowYoVK6hbty5vv/02AL169aJXr14sWbKEIv/4O9ffwnkL2bxxM5O/msy0udNY/dNqlixaAsDatWu59957Wb58OWvXrmXdunUsXryYhIQE4uPjWbBgAfHx8Xz00UcsX76cTz75hCVLlgT9OBpjws+aiS7C+ZqJWrduDbi00Z984i7AXrBgge9+s2bNKFDg73l9RowYwbRp0wDYunUr69ato1ChQmTPnp3mzZv7tjV79mwAFi1axPTp0wFo3ro5w54fBrhgsHDeQlrf6vZ/9MhRNm/czE2xN1G8eHFq1KgBuAl4Zs2aRaVKlQA4fPgw69at49ChQ9xxxx3kzp0bgBYtWlz8gTLGZHgWDIIkKeV18rTRKaXNnjdvHnPmzGHRokXkzp2b+vXr+7KXZssWeApqcP0B3Xp2o/297c984tiZ6bNVlb59+/Lggw+esdrw4cMvmNrbGJP5WDNRCNWtW5cJEyYA8OWXX7Jv3z7ApYUuUKAAuXPn5pdffuGHH3644LZq1KjB1KlTAZg5/e+5h+vcXIdPJn7CkSNHANi1cxd7Es+el6Bx48aMGTPGNyXn9u3b2b17N3Xr1mXatGkcO3aMQ4cO8dlnn13cmzbGRIRMUzMIZChoekvqM0jSpEkThg49d969gQMH0qFDBypXrky9evW45pprfK978803qVixImXKlPE15ZzP8OHDufvuu3n11VepXq86eS7PA0Dt+rVZv249HZp1ACD3Zbl5+Y2XIc+Zr2/UqBFr1qyhZs2agOuo/uCDD6hcuTLt27cnNjaW4sWLc9NNN6XmkBhjIlTQU1inB0thfbajR4+SK1cuRIRX33qVmdNm8sb4N865vqWwNubSk5oU1pmmZnCpiY+P55FHHkFVyX5Zdob8e0i4i2SMiWAWDCLUTTfdxIoVK4DAJrcxxpjzsQ5kY4wxFgyMMcZYMDDGGIMFA2OMMWSiDuQtgypceKVUuGbAyguukydPHt9FW4Ho3Lkz8+fPJ1++fKgqr732Gg0a2HTQxpjwC2rNQETyi8gUEflFRNaISE0RKSgis0Vknfe3wIW3lHkMGzaMhIQEhg8fTvfu3cNdHJ8LpbkwxmRuwW4meh34SlVvAGKANcDTwFxVvR6Y6z2OaPPmzaN+/fq0bduWG264gY4dO3Khi/lq1qzJ9u3bATh16hS9e/f2pZN+6623fOu9/PLLVKhQgZiYGN/EOQkJCdSoUYOKFStyxx13cGD/Adb/up47m9zpe932LdtpeXNLAFavWE29evWoUqUKjRs3ZufOnQDUr1+fZ555hnr16jFkyBCuvfZaTpw4AcDBgwcpUaKE77ExJnMLWjORiFwO1AU6A6jqceC4iLQE6nurjQfmAX2CVY5QWb58OatXr+aKK66gdu3aLFy4kDp16pxz/a+++opWrVoB8O6775IvXz6WLFnCX3/9Re3atWnUqBG//PIL06dP58cffyR37tzs3bsXgHvvvZeRI0dSr149BgwYwBuvvsEzLzzDiRMn2Lp5K1cXv5qZn86kSYsmnDhxgsH9BjNr5iyio6OZNGkS/fr1Y8yYMQDs37+f+fPnA27Ogy+++IJWrVrx0Ucf0aZNG7JlyxbcA2eMyRCCWTMoCSQCY0VkuYi8IyKXAUVVdSeA97dISi8WkW4islREliYmJgaxmOmjWrVqXHXVVWTJkoXY2Fg2bdqU4nq9e/emZMmS3H333TzzzDOASyf93nvvERsbS/Xq1dmzZw/r1q1jzpw5dOnSxZdOumDBghw4cID9+/dTr149ADp16sTSH1yqjiYtmvDVjK8A+HLGlzRt2ZSNv21k3S/raNiwIbGxsQwePJht27b5ytO+/d/ZTR944AHGjh0LwNixY+nSpUv6HiRjTIYVzGCQFagMjFLVSsARUtEkpKqjVbWqqlaNjo4OVhnTTVLKajh/qulhw4bx22+/MXjwYDp16gS4dNIjR44kISGBhIQENm7cSKNGjVDVVKWTbtqyKV/O+JKN6zciIpQoWQKA68pc59v2ypUrmTVrlu81/mmta9euzaZNm5g/fz6nTp2ifPnyqTkExpgIFsxgsA3Ypqo/eo+n4ILDLhEpBuD93R3EMmRIWbJkoVevXpw+fZqvv/6axo0bM2rUKF/7/K+//sqRI0do1KgRY8aM4ejRowDs3buXfPnyUaBAAb799lsA3n//feJqxgFwTYlriMoSxah/j6Jpi6YAlChVgn179rFo0SIATpw4werVq89ZtnvvvZcOHTpYrcCYS0zQ+gxU9XcR2SoiZVR1LdAA+Nm7dQKGen8/TY/9BTIUNCMREfr378/LL7/M7Nmz2bRpE5UrV0ZViY6OZvr06TRp0oSEhASqVq1K9uzZue222/jXv/7F+PHj6d69O0ePHqVkyZL0famvb7tNWzZl2KBhzFk8B4Ds2bMz/J3h9OnThwMHDnDy5Ekee+wxypUrl2K5OnbsSP/+/enQoUNIjoMxJmMIagprEYkF3gGyAxuALrjayGTgGmAL0E5V955vO5bC+vwCSVQXaArrKVOm8Omnn/L+++9fbLFCxj4LxqQsw6SwVtUEIKWC2JVWGdCjjz7Kl19+ycyZMy+8sjEmU8k0VyCbizdy5MhwF8EYEyaWm8gYY4wFA2OMMRYMjDHGYMHAGGMMmagDufbI2um6vYWPLrzgOkOGDOHDDz8kKiqKLFmy8NZbb1G9evV0K8Ntt93Ghx9+SP78+dNtm0kSExNp3rw5x48fZ8SIEdx0002+506cOMGzzz7L1KlTyZEjB7lz5+b555+nadOm6V4OY0zGkGmCQagtWrSIzz//nGXLlpEjRw7++OMPjh8/nq77COYQz7lz53LDDTcwfvz4s5579tln2blzJ6tWrSJHjhzs2rXLl8wulE6dOkVUVFTI92vMpciaidJo586dFC5c2JeTqHDhwlxxxRUAlChRgj59+lCtWjWqVavGb7/9Briz8TZt2hAXF0dcXBwLF7rax+HDh+nSpQsVKlSgYsWKTJ061bedP/74A4APPviAatWqERsby4MPPsipU6c4deoUnTt35vZ6t9OifgvGvTXurHJu37qdLm27ULFiRRo0aMCWLVtISEjgqaeeYubMmcTGxnLs2DHf+kePHuXtt99m5MiRvvdWtGhR7rzTpceeOHEiFSpUoHz58vTp83ey2Tx58tCvXz9iYmKoUaMGu3btAmDXrl3ccccdxMTEEBMTw/fff3/O95O0nQEDBlC9enUWLVp0zu0aY9KXBYM0atSoEVu3bqV06dI8/PDDZ505X3755SxevJhHHnmExx57DIBevXrx+OOPs2TJEqZOncoDDzwAwAsvvEC+fPlYuXIlP/30E7fccssZ21qzZg2TJk1i4cKFJCQkEBUVxYQJE0hISGD79u18Nv8zZsybQeu7Wp9VzsHPDKZlu5b89NNPdOzYkZ49exIbG8ugQYNo3749CQkJ5MqVy7f+b7/9xjXXXMPll19+1rZ27NhBnz59+Oabb0hISGDJkiVMnz4dgCNHjlCjRg1WrFhB3bp1efvttwHo2bMn9erVY8WKFSxbtoxy5cqd8/0kbad8+fL8+OOP1KlT55zbNcakLwsGaZQnTx7i4+MZPXo00dHRtG/fnnHjxvmeT8rt06FDB1+SuDlz5vDII48QGxtLixYtOHjwIIcOHWLOnDn06NHD99oCBc6c/G3u3LnEx8cTFxdHbGwsc+fOZcOGDZQsWZINGzYw+JnBfPvNt+TJm+escibEJ9CsdTMA7rnnHr777rs0v+clS5ZQv359oqOjyZo1Kx07dmTBggWAy4HUvHlzAKpUqeJL4f3NN9/w0EMPAS6ba758+c75fpLWadOmjW+f59quMSZ9WZ/BRYiKiqJ+/frUr1+fChUqMH78eDp37gxwRurppPunT59m0aJFZ5yJAxdMVa2qdOrUiRdffPGs51asWMGYSWP4cOyHfDXjK4YMH3LeMl8oJfZ1113Hli1bOHToEHnz5j2rHOeSLVs237bPl8I7aTvnej85c+Y8o58gNds1xqSd1QzSaO3ataxbt873OCEhgeLFi/seT5o0yfe3Zs2agGta+s9//nPGa1Javm/fvjP21aBBA6ZMmcLu3S7b9969e9m8eTN//PEHp0+fplHzRvTs05OfV/58VjkrVa3EzOmuI3rChAnnnX0NIHfu3Nx///307NnT1yG+c+dOPvjgA6pXr878+fP5448/OHXqFBMnTvRNsnMuDRo0YNSoUYDrED548OA5348xJnwyTc0gkKGg6enw4cM8+uij7N+/n6xZs3LdddcxevRo3/N//fUX1atX5/Tp00ycOBGAESNG0KNHDypWrMjJkyepW7cub775Jv3796dHjx6UL1+eqKgoBg4cSOvWf7f/ly1blsGDB9OoUSNOnz5NtmzZeOONN8iVKxddunTh2HHXAfz4M4+fVc5+g/vR7/F+TBg9gejoaN9MZuczePBg+vfvT9myZcmZMyeXXXYZgwYNolixYrz44ovcfPPNqCq33XYbLVu2PO+2Xn/9dbp168a7775LVFQUo0aNombNmim+H/9gaowJraCmsE4vkZbCukSJEixdupTChQuHZH/pmcI6EmXkz4Ix4ZSaFNYXbCYSkXYikte7319EPhGRyhdbSGOMMRlHIH0Gz6rqIRGpAzQGxgOjglusyLZp06aQ1QqMMSY9BBIMTnl/m+Emt/8UN3OZMcaYTCKQYLBdRN4C7gRmikiOAF9njDEmQgTyo34n8DXQRFX3AwWB3sEslDHGmNC6YDBQ1aPAbiBpgPpJYN25X2GMMSbSXPA6AxEZiJvUvgwwFsgGfABcMGe0iGwCDuH6HU6qalURKQhMAkoAm4A7VXXfubYRqPl1z3/xU2rVW3D+LJ179uyhQYMGAPz+++9ERUURHR3Npk2buOKKK/j557MvALtY06dPp3Tp0pQtWzbdt+3vueeeI0+ePDz55JNB3Y8xJuMIpJnoDqAFcARAVXcAec/7ijPdrKqxfmNdnwbmqur1wFzvccQpVKgQCQkJJCQk0L17dx5//HHf4yxZLnxY05JWYfr06UEJMsYYE0gwOK7uyjQFEJHLLnKfLXHDU/H+trrI7WU4p06domvXrpQrV45GjRr5UkTXr1+fZ555hnr16vH6668THx9PvXr1qFKlCo0bN2bnzp0AvP3228TFxRETE0ObNm04evQo33//PTNmzKB3797Exsayfv161q9fT5MmTWjTqA13t7ybDetcsre+PfsypN8QOjTvQMNqDfn6s699ZRs2bBhxcXFUrFiRgQMH+pYPGTKEMmXKcOutt7J27doQHi1jTEYQSDCY7I0myi8iXYE5QKB5hBWYJSLxItLNW1ZUVXcCeH+LpPRCEekmIktFZGliYmKAu8sY1q1bR48ePVi9ejX58+f3zU8AsH//fubPn0/Pnj159NFHmTJlCvHx8dx3333069cPgNatW7NkyRJWrFjBjTfeyLvvvkutWrVo0aIFw4YNIyEhgVKlStGtWzdGjhzJ1FlT6T2wN4OeHuTbT+KuRCbMmMCo90fx2pDXAJg1axbr1q1j8eLFJCQkEB8fz4IFC4iPj+ejjz5i+fLlfPLJJyxZsiS0B8wYE3YX7DNQ1VdEpCFwENdvMEBVZwe4/dqqukNEigCzReTCeRP+3u9oYDS4dBSBvi4juPbaa4mNjQXOTrvcvn17wCW6W7VqFQ0bNgRcbaJYsWIArFq1iv79+7N//34OHz5M48aNz9rH4cOH+f7772nXrh1/nfwL4IyZ1ho0bUCWLFm4rsx1/JHoJsiZNWsWs2bNolKlSr5trFu3jkOHDnHHHXeQO3duAFq0aJGOR8MYEwkCSlTn/fgHGgD8X7fD+7tbRKYB1YBdIlJMVXeKSDHcSKVMJWmGMHBpl/1nErvsMtfKpqqUK1fON9eBv86dOzN9+nRiYmIYN24c8+bNO2ud06dPkz9/fhISElLMTZQ9u991gV4oVVX69u3Lgw8+eMa6w4cPv2Bqa2NM5nbOZiIR+c77e0hEDvrdDonIwQttWEQu88tpdBnQCFgFzAA6eat1Aj692DcRicqUKUNiYqIvGJw4cYLVq1cDcOjQIYoVK8aJEyd8M4AB5M2bl0OHDgFuJrVrr72Wjz/+GHA/9L+sPn/Fq3HjxowZM4bDhw8DsH37dnbv3k3dunWZNm0ax44d49ChQ3z22Wfp/n6NMRnbOWsGqlrH+5uakUP+igLTvDPOrMCHqvqViCzB9UPcD2wB2qVx+2e40FDQjCZ79uxMmTKFnj17cuDAAU6ePMljjz1GuXLleOGFF6hevTrFixenQoUKvgBw11130bVrV0aMGMGUKVOYMGECDz30EJue28TJEydp2qopN5Q7d3bSRo0asWbNGt/8Cnny5OGDDz6gcuXKtG/fntjYWIoXL85NN90UkmNgjMk4LpjCWkRqAKtV9ZD3OA9QTlV/DEH5gMhLYR1qlsLaPgvGpCRdU1jjMpQe9nt8FMtaaowxmUogwUDUr/qgqqfJRDOkGWOMCSwYbBCRniKSzbv1AjYEu2CBiIRZ2kxw2WfAmPQRSDDoDtQCtgPbgOpAt/O+IgRy5szJnj177MfgEqaq7Nmzh5w5c4a7KMZEvEAuOtsN3BWCsqTKVVddxbZt24i0q5OD4feDv19wHd2bOYNmzpw5ueqqq8JdDGMiXiBZS0vjOoyLqmp5EakItFDVwUEv3Xlky5aNa6+9NpxFyDAeGPnABddZ+OjCEJTEGBOpAmkmehvoC5wAUNWfyIA1BWOMMWkXSDDIraqLky1Lff5lY4wxGVYgweAPESnF3yms2wI7g1oqY4wxIRXI9QI9cNlDbxCR7cBGoGNQS2WMMSakAhlNtAG41Us2lyUpLYUxxpjM44LNRCJSSERGAN8C80TkdREpFPyiGWOMCZVA+gw+AhKBNkBb7/6kYBbKGGNMaAXSZ1BQVV/wezxYRFoFqTzGGGPCIJBg8D8RuQuY7D1uC3wRvCIZY8ylofbI2hdcJ1QXjAbSTPQg8CHwF3Ac12z0RKAznhljjMn4AhlNlNaZzowxxkSIQEYT1faGlSIid4vIayJyTfCLZowxJlQCnensqIjEAE8Bm4H3g1oqY4wxIRVIMDjpzXTWEnhdVV8HrOnIGGMykUCCwSER6QvcDXwhIlFAtkB3ICJRIrJcRD73HhcUkdkiss77WyBtRTfGGJNeAgkG7XEjie5X1d+BK4FhqdhHL2CN3+Ongbmqej0w13tsjDEmjC4YDFT1d1V9TVW/9R5vUdX3Atm4iFwFNAPe8VvcEhjv3R8PtEpViY0xxqS7QGoGF2M4rtP5tN+yoqq6E8D7WySlF4pINxFZKiJLbWpLY4wJrqAFAxFpDuxW1fi0vF5VR6tqVVWtGh0dnc6lM8YY4++cwUBE5np/X0rjtmsDLURkE+6q5VtE5ANgl4gU87ZdDNidxu0bY4xJJ+erGRQTkXq4H/RKIlLZ/3ahDatqX1W9SlVL4OZM/kZV7wZmAJ281ToBn17kezDGGHORzpeOYgBupM9VwGvJnlPgljTucygwWUTuB7YA7dK4HWOMMenknMFAVacAU0Tk2WQprFNNVecB87z7e4AGF7M9Y4wx6SuQRHUviEgLoK63aJ6qfh7cYhljjAmlQBLVvYi7cOxn79bLW2aMMSaTCGRym2ZArKqeBhCR8cByoG8wC2aMMSZ0Ar3OIL/f/XxBKIcxxpgwCqRm8CKwXET+Bwiu78BqBcYYk4kE0oE8UUTmAXG4YNDHS1hnjDEmkwikZpCUQ2hGkMtijDEmTIKdqM4YY0wEsGBgjDHm/MFARLKIyKpQFcYYY0x4nDcYeNcWrBCRa0JUHmOMMWEQSAdyMWC1iCwGjiQtVNUWQSuVMcaYkAokGDwf9FIYY4wJq0CuM5gvIsWB61V1jojkBqKCXzRjjDGhEkiiuq7AFOAtb9GVwPQglskYY0yIBTK0tAduCsuDAKq6jnNMYm+MMSYyBRIM/lLV40kPRCQrbqYzY4wxmUQgwWC+iDwD5BKRhsDHwGfBLZYxxphQCiQYPA0kAiuBB4GZQP9gFsoYY0xoBTKa6LQ3oc2PuOahtap6wWYiEckJLAByePuZoqoDRaQgMAkoAWwC7lTVfWl+B8YYYy5aIKOJmgHrgRHAf4DfRKRpANv+C7hFVWOAWKCJiNTA1TTmqur1wFzvsTHGmDAK5KKzV4GbVfU3ABEpBXwBfHm+F3m1h8Pew2zeTYGWQH1v+XhgHtAnleU2xhiTjgLpM9idFAg8G4DdgWxcRKJEJMFbf7aq/ggU9eZHSJonIcVhqiLSTUSWisjSxMTEQHZnjDEmjc5ZMxCR1t7d1SIyE5iMO7NvBywJZOOqegqIFZH8wDQRKR9owVR1NDAaoGrVqjaU1Rhjguh8zUS3+93fBdTz7icCBVKzE1Xd702d2QTYJSLFVHWniBQjwFqGMcaY4DlnMFDVLhezYRGJBk54gSAXcCvwEm76zE7AUO/vpxezH2OMMRfvgh3IInIt8ChuKKhv/QBSWBcDxotIFK5vYrKqfi4ii4DJInI/sAXX7GSMMSaMAhlNNB14F3fV8elAN6yqPwGVUli+B2gQ6HaMMcYEXyDB4E9VHRH0khgTgWqPrB3QegsfXRjkkhhzcQIJBq+LyEBgFu5CMgBUdVnQSmWMMSakAgkGFYB7gFv4u5lIvcfGGGMygUCCwR1ASf801sYYYzKXQK5AXgHkD3I5jDHGhFEgNYOiwC8isoQz+wwuNLTUGGNMhAgkGAwMeimMMcaEVSDzGcwPRUGMMcaETyBXIB/i7zmPs+NSUR9R1cuDWTBjjDGhE0jNIK//YxFpBVQLVoGMMcaEXiCjic6gqtOxawyMMSZTCaSZqLXfwyxAVf5uNjLGGJMJBDKayH9eg5O4SexbBqU0xhhjwiKQPoOLmtfAGGNMxne+aS8HnOd1qqovBKE8xhhjwuB8NYMjKSy7DLgfKARYMDDGmEzifNNevpp0X0TyAr2ALsBHwKvnep0xxpjIc94+AxEpCDwBdATGA5VVdV8oCmaMMSZ0ztdnMAxoDYwGKqjq4ZCVyhhjTEid76KzfwJXAP2BHSJy0LsdEpGDoSmeMcaYUDhnMFDVLKqaS1Xzqurlfre8geQlEpGrReR/IrJGRFaLSC9veUERmS0i67y/BdLzDRljjEm9VKejSIWTwD9V9UagBtBDRMoCTwNzVfV6YK732BhjTBgFLRio6k5VXebdPwSsAa7EXb083lttPNAqWGUwxhgTmGDWDHxEpARQCfgRKKqqO8EFDKDIOV7TTUSWisjSxMTEUBTTGGMuWUEPBiKSB5gKPKaqAXc8q+poVa2qqlWjo6ODV0BjjDHBDQYikg0XCCao6ife4l0iUsx7vhiwO5hlMMYYc2FBCwYiIsC7wBpVfc3vqRlAJ+9+J+DTYJXBGGNMYAJJYZ1WtYF7gJUikuAtewYYCkwWkfuBLUC7IJbBGGNMAIIWDFT1O0DO8XSDYO3XGGNM6oVkNJExxpiMzYKBMcYYCwbGGGMsGBhjjMGCgTHGGCwYGGOMwYKBMcYYLBgYY4zBgoExxhgsGBhjjMGCgTHGGCwYGGOMwYKBMcYYLBgYY4zBgoExxhgsGBhjjMGCgTHGGCwYGGOMwYKBMcYYLBgYY4whiMFARMaIyG4RWeW3rKCIzBaRdd7fAsHavzHGmMAFs2YwDmiSbNnTwFxVvR6Y6z02xhgTZkELBqq6ANibbHFLYLx3fzzQKlj7N8YYE7hQ9xkUVdWdAN7fIudaUUS6ichSEVmamJgYsgIaY8ylKMN2IKvqaFWtqqpVo6Ojw10cY4zJ1EIdDHaJSDEA7+/uEO/fGGNMCkIdDGYAnbz7nYBPQ7x/Y4wxKQjm0NKJwCKgjIhsE5H7gaFAQxFZBzT0HhtjjAmzrMHasKp2OMdTDYK1T2OMMWmTYTuQjTHGhI4FA2OMMRYMjDHGBLHPwJiMqkrv9wJaL37YvUEuiTEZh9UMjDHGWDAwxhhjwcAYYwwWDIwxxmAdyMZc0mqPrB3QegsfXRjkkqRNpJc/I7GagTHGGAsGxhhjrJkICKyqmd7VzEDGul8q49wDOf7/+jiwj2q9BfMvtjjGXJKsZmCMMcaCgTHGGGsmytC2DKoQ2IoFLg9uQZKxdA7GZD5WMzDGGGPBwBhjjDUTBWx+3XoBrWejWUxKAvn82GfHpCRUvz1WMzDGGGPBwBhjTJiaiUSkCfA6EAW8o6pDU7sNu2jLBFtAo7lCPJLLhF9m/e0Jec1ARKKAN4CmQFmgg4iUDXU5jDHG/C0czUTVgN9UdYOqHgc+AlqGoRzGGGM8oqqh3aFIW6CJqj7gPb4HqK6qjyRbrxvQzXtYBlgbxGIVBv4I4vaDzcofPpFcdrDyh1uwy19cVaMDWTEcfQaSwrKzIpKqjgZGB784ICJLVbVqKPYVDFb+8InksoOVP9wyUvnD0Uy0Dbja7/FVwI4wlMMYY4wnHMFgCXC9iFwrItmBu4AZYSiHMcYYT8ibiVT1pIg8AnyNG1o6RlVXh7ocyYSkOSqIrPzhE8llByt/uGWY8oe8A9kYY0zGY1cgG2OMsWBgjDHGgoExJgREJJvf/ahwliWzSnaMU/3bbsEgExGRgiJiackzIBEpE+4yhIuI5ANqicjlItISiBORlK43MmkkInmB+0Ukv4i0ALqmdhsWDNJJOD/c4lwNTAEa+Z8hZHRe2TPt59B7f1mBiSLyRrjLEyaXA1WAj4GXgZ81yCNXLrVgo6qHgGPAr8AQYExqt5Fpv4TBlPRBE5EyInKFiORTVQ3nj5qqbgXex6XwCGw2jIzhSlU9DSAiD4rIcyLSXkQuC3fB0oM6J4FGQBUReSXcZQqVpO+J99ncB9QAPgeyB3u/3vexmYj8V0RGiEitYO4zXJIFvZ+BRFxGh/ze8wE3yVkwSAPvg9YYmAf8C3hLRK5W1dNhPsvdhct1MlFEbsvIbbPeGXM+YI2IdBKRyriqbRZcMBvoVX0jlt9JQ5Sq/gE0B24WkVfDW7LgS/pBTroPTAQaAkeBR0TkRu+5Yuldk/W+n42Agbgz5Ctxn6cM+31Ii2THOK+qLlHVcsDbwJciUlZVT4lIbCDH2K4zSAMRiQXaAl8BvwEP4rKxdlfVrSKSJelsN4RlutcrR0fgAeAm4F+q+nUoyxEov7O3usBkYAXQU1XXemdxbYETwBBVPRjOsqZFsi9qSdxv1EYRKYT73Hyrqk+EtZBBkuy9Pw7EARtwqevzAA/jkrPlwaWmeVBVj1zkPqOBcqo6z3v8GDAXuBboA3RQ1S0iUlBV917MvjKCZMf4CaAJ7iLeDqq6W0SeAroAH+BOrjqqauL5tmk1g1QQkSwikgt3gBsCv+DOxt8AfgTeE5FrQhEIUmgTLQDMVdVNqtof138wTkRaeGk/Mgz/D7KqLsDNbXETLjUJuGP5Ma6q2zsS23/9vqhPAqOACSLyuKruwTUZ1RSRt8JZxmDxe+81gduB6cAp3Fn6X8B/cO3blYCXLzYQeO4G7hKRht7j3MCbQE/gLi8QNAcezGjfh7TwO8ZNgGbAfcA6XKtAKVV9Gdc/cwPw2IUCQdJG7XaBG3/XoLJ4f0sC8UB/v3WigReAqiEoTxa/+z2A14AOuC9ZEb/n5gMfArnDfQyTH0vvfjfg/7z7tYHDQFfvcRSutlU03GW+iPfaBRegAcYBW4BnvMeFcGeuEfv+LvDe2+KCemvvcUHcGfoXQBlvWY502E8x4EbgH8DT3nehBpDX+46+6a13M+7krWG4j006HuM43EnfS37LXgHm+B3j7AFvL9xvKKPf/AJBfaAfcJv3uDiwKunL7S3LFuKyNQA+AXLiagYzvC9cI+BOYDxwTbiPYbIyJwXUh70vaym/56rialqPhrucF/NZ8XvcFCgF9PL+N7WArd4XNso/qEf6LYX3XhSXlHKC37L8wHPeZzZ78tekYZ9ZcSdBZb3HlwHPACOA6l6gWISbQOuHpO9upN5SOMalcH2W04D6fstH4Trqs6XmGIf9DUbCDdcetwbohOsjGOx9sK8BNgEDQlSOGOBV7340rhq8HijmLbvR+3CMA/6X9CXJCDcvcP3Du18UV2uJ9QJZR+9LfD3ubGezd3wv6scixO/Pv8ZTzO9+XtzZ243e47dxzSb5w13mIL33Sn4/zgWBpcArfs/nAwql476zeft5B1e7TAoIw72yiLfsynAfp3Q8xk2891YC1+/yPK5JqL7fOkVSuw/rQE6BiFwBRKnrDC4K/BfoixuV8CbuA74dd5YTjZtNaEEIypUL9yN5laouEZHrgAHA78C/VXWniORS1WMicrlmkI5XEcmP6w/4Ctjlle9fuJrAPlz78VEgUVUHJr2HsBX4Ingdly1w7+dhdW3Vw3ABcClwK67mszl8pQwOr3+kGfAnsAzXZHMamAmsUNXu6bSfnLjgutzrnL8Od6J0HfAusBp4BNecO1VVZ/n3U0UivwEXPYH/Az7FdQwPwA0pfQLXVDZRVb9Ny/u1DuSU3QvkFZFsqroL98ES4EXch244cD/QG9ihqguC2ckpIoVFpICqHlPVncAAEflUVX/DnRFEAY+KSLGkH9EMFAia44LAJFyn3j4RKYb7oXgX6K2qnXGjicp7Q+D+ClNxU83//y4ixXE/hh1xtZtXRCQGN1rqV1yQ6JtZAoGI5PG7fyfQSFVvxvWNtMZ9P8ANqS0tIkXSaddXAbeIyDu4gQbLcE1Bq3H9UGVxgzq2ejciNRCIm/clqxcIbsHNF18b1+eUB9fkGAO8jjvuayGN7zfc1Z+MesPVAibyd0dMNWChd/964DOgfAjKcRuwGPeDMsRblhd3gdlk73E54C3cuOoM0w6Nq85+CzT1W/Y0rmntau9xVlxH6wrc0MCwlzuN77Uj7iTiVb9lw4AJQGXvca5wlzMd328ZXNt/jPe4Ju5MvAfwJa4JcBnwHq7tPt0+l7imoeeA48AIv+UlcSduH3jlyTDfhTS+z8K4VokBuBO+K3FDcTvjrnHK4z3/K64/6qKaVa1m4PEugvIdD1Xdjhvd0l9ESgHLga0iMg9XRfuPqq4Kcpma4No/h+D6Aq7xmlAO4WomJ0RkorrJgYbjRk6E9PqGcxGRgrjmgVdV9UsRKS0iY1V1KO7L+qOIXIWrnV6HG1UU7kmO0kRE7sD9n6oALUSkG4Cq9gYOAI97wxn/DF8p05eqrsWNzhkgIuVUdRHuLLwyblBFAq5f6CRwPD0+l0m1MFU9gesX6wP8JSJPeNf2bAAW4DqLD2WU70JaeL9Fe3AnnQVxzUC/q7ua+xrgRVU9jKsNTMe1UFxU7cf6DHBt8eo1r4hI0iiEn1X1VxEZihs59CzuUu+bgN2qujjIZSqIuzCnjapOE5FquCA0DdefkTRe+hNcW3uXYJYnLUSkGW64bWfg38CXqvqK99xA3Jf5Wlz5I/KLKyKtcE1Db6hqgojchrv473NVfdtbp4iq7g5jMdONiDTAnXUn4jpt/+k9flZVV4nIENxggUm4Jo3OqropHfffCNcscggXEJrjRvqtBH7yyvJBJB9v7ySwKa65dCRQEddCsAVX2+yHGyo7FzeEt7l38npxwl0VCvcNN7phAa5aeyOu3fFjXBtkUrPMS8BU/IZBhqhszXA1khhgNm7UwNW48dsfeetcBlwR7uN4nvfQBNeJ+LT3OLvfc/2A68NdxlS+n+TD+/rgOvA6e49zeF/ceUnLMsvN+1+uwDVbTABmeMsHe9+P8riz2H/imljTtdkP11S7BuiO64x/GddcdTvugradRP7w0aZAAq7P5WtcwMuDGy7+BvCIt143XFNZhXTbd7jffJgPfDbv72Peh2sGUMlbdiOuHT7pIqjRQGwYynjGj6m3LA/urCDdhugF+T0kXa2dz3ucM9xlSof3VAnvoinc1Z9fATW9xzm8L+/V4S5nOr7fqsBG4BbvcT5c80Sc9/hl3AWOsd7jgC92CnD/Fb3v4ANJnyFcv9kb3uNshPhkLQjHuCTu7P8Jv2XxuNFDUbiTw//g+t2i0nv/l2yfgYgUxqWPyKWqw3HVsUa4IADug78A9yFEVbupawcNKVX9CmgMdPGGaAK0A3LhOtAyPFWdDTwOLPZyw0R027mIPIRrsntLRHrjzt6m4/qX6qrqX6o6S137bmZxFDeEubiI5FDVA7iTlMIAqvoUbpjwEyKSXVXT+7NZGlfzqCkiV3qfoW64TLBXq+oJVV2fzvsMtRO4E9CrROQmb9li4ISqnsK1DszF1b7yp/fOL+k+A2+MchSAqq4TkX8CDwH3qOoir/23N3AHrkPqVBjL2hTXXvhf3Jj9hzXIHdjpTdzEJgNxZ5mqEfLhS5YU7EpcYBuB6/i+DTfQYBDwKFAXlxQsogOeP78x7pVxn8HJuBF1pYFW6tffk179I377vAHXCX8AFwwex41WWoAbqvwxcKu6IdcRzxus0hJXSyiKu1K7jbo06EmzmWXX9MnndOa+I+T7mK7EL6uod/FTB1zOkt9E5BFcG+j7uAg8UVU/D19p/+aN2f8E15QVqSNv8qgbBRERkgWCB3A/gBVxVXaAOrg2a8X1H1yuqvvDUNSg8vtxrgIMxdUIGqjqXm/ki6T3yZJ3AvQS7grujriTiNuAe3A140TgfVX9Ij33Gw7JPmelcLX/TriTvv+JS7+tGsSBFpdkM5G6eQfyefefAcYCn4jI9ar6H1wwaAK8pqqfB/OCstTwglL+SA0EAJEUCOCM7JCtcaOiluCCwT9V9ZSqzsd19B0HCmaWQJD8M+8FAlHVeFwf216gldfsdzoIgaA0rhZ5By4FzAlcO/kkXK1sLy4h25fpud9QSnaM8yXd8Zq7PsSlLmkpIg29z1pwR9yFq7Mk1Ddclaued/82XCKnCXg5S3AjJOKBG7zHGXaEjt1Ce8NdP7CAvzNwlsWNaunjt05muqDMPw9Od6BZ8udw1xMsxQ2jvegcUsAVuP66pIsRC+HG1rfFtZtf5y1vhMsG0AY3zLodQehMDfExvg/XHJ0t2fJSQH/csOygf74uicnTxc1B2xI3y1RpXJXzedwVo0NF5FVVHSQiOYCpIhKnqjvCWGQTRv5Vdk9WYBvQWURWqOrP3oVm80XkuKr+WyM0l1JKkt67d51ILdwQYN9z3vFZJiL3A/uTHatU8/oFJuA6oH8XkWm42tb9uJO4Iupq8zVwF/f9qqpTvRPrRRrGvry08jvG1XE5hnqqu5jOf531IvIBcDAUn69Lps/A6yxuimvj3a2qvbzlQ3FnJa+raryIXKcu54+5BCVru43BtUvvwuXDeQjXoTdS3axlpYFTGvmjWM4iLlnj98B3qnq312Z92u/YpEviNxEpiwsET+Dy6tyBy277rHf8p+H673bhpkV9TlU/vdj9hpvXz1IC9/62A13U5UELm0zfZ+AddNRdqj4Nd9FMLa9zClV9Gtf+2FvcPKIWCC5hfj92j+KG+f0T92O0EzfO/S+gr4iUUNVfM0sgSKGPYAdu5E5DEemors1a/VJCpNdZZEFcfqP/efv8GqgkIpVww7ur4EYNXQY8paqfiied9h8y/mVW18+yAXgSd91QXQnzDGyZvpnIq17WxLVBbsMNzTyM65g5pW48+GMiUkZdzh9zCRKXFXafd78t0B7XPj0Al+Lga9yggnG40WeZplkoWW2oFW6kzip1aVCOAS9563yQjkEAAFX9TkRuE5ENqloSNylNDVzn6SlcP950VZ3l95qIa85Idow74tKwfK+qs70g8QygIvKZqoYla++lUDOoh7s0vgEu6VNL3MQvq4B7/WoIa8NWSBNW4vLdzPb+gpu8vR3uR78Cbh5ZcBf8bMSlKQlrlT6dZQHwhlX3xZ04fSciTdRd9Pgk8C8RaR+MnXv7eEREDuNGKhXBBd523ip/BGO/oeQXCHriOuX34vorBwDf4UYw9sc1ZYdFpg4GIlIO11ncVVUfx32578F9ucfizjq2ha+EJoMog7ug6UkRuV1Vl+HaqCvjskP+hUvFfQjXnn3i3JuKHF6bPKp6SkRq4aZKvdV7ejvwXxFpo+4K8k64YbVBoaozcfM9FPOaUP5Q1S2q+rD3/4hIInJd0nH2OsqrArfgWmUE10HeGzda7TFcLrKwyJTNRH5tc3fiRkNsFJHvvCrpSFyVbBowSjPRlaImzSbirvjcikv7kVtVJ3mfo3reKJYqwL2qmhjOgqazsSKyU1Wbqer3InIXLvVJa1UtKyJPAR+LyK2q+k2wC6Oq34hIVxHZjZtHZF+w9xlM3ujE3sBBETnhjUL7Jy7zcUtVjROR+3C1sb9wE9uHrQksU9UM/IJAEe+gPodLs1sCFxTAnfEcwSVLs0BwiRKRiiJS0Xu4F3fRWFncZOIdReRm3BwS2fg7R3+mCAR+gyoqAwVFZKr3eAfuTPUnb9UNuCveN4SqbKr6Je7ivphQ7TMYvD6Cv3CfoZxAJxEp732GCgH7vVUP4OZ9GBPuvpBMN7RUXMqG13Dtu6tU9Q0ReQZX/d2Bm7P4v5lheJpJGxEphBsyug03pHEzrnr+Oi5zbQFc8+KbqvqFiERF4lj2QInIUmCzqrYRkTq42cLA1ZbaaZim6Uyv4avhJG6+5py4CaoO4gYgbMOlqV6P60huqaq/hKmIPpkiGCR9aMRl9XwWl93vOPAAsFxVh4lIL9wohSmqOjV8pTUZgbj5ZOfgOu5O4K5+3Y6buP0DEemC68R8ADgc6T9KyXkjpqqpyzaaFBDWqmpHr427PvB1RviRilTi8jh1w41g3IL7rB3BpaHeh7vYbGW4gm1ymSIYAIhL+Xozbkq4R3Ff8MpAL9yHfJDXc18C13S0KLN9wU3qiJu1awzuc9IWlzd+G25O5hwAmWW4cfKzbO+CucnANFV93lu2GHdBZvMwFTOipXCMy+PSZlzO3zWC53HN88Mz2jVNEd1nkNRH4HXwjcBdnNIYl1HyNC53yn+ACiJSDJcBcT2wwQKBUdW5uKuK5wETVLUe0F9Vj6vqocwSCOCMoY0VROQKVf0VFwBvEzdVJapaDcgtIldF4kVd4eZ3jJuLm9NhFS7gJuJqmIVwqc6P4ZqMMpSIrxl4w7XewY39/tIbEdEVVzWb5q2WV91kHMacRdy8Fa8CtVV1r7cs4turIcW5GF7AzRc8UVV/F5HrcBPIT1AvRYtJnWTHOCtu2Hox3BScx70awqu4TuPncC0VGW7O74irGYhIGRG5S0SuTlqEyyX/qPdP+QiXRqAPblKI0xYIzPl4Y9yfBuaISJZMGgia4FJqfIabR7utV0P4DXcyVUNECoSvtJEp2TFuhut0fxiXdvsTvxrCYtxMcXsyYiCACKsZeFXXV4CeuBmOtuEibRncxWQ5gR5eZ3IHYKOq/hCm4poIIxE28U6gRKQHriOzhapuFjc3Qx1cU+ofuPmcn9TMNU1nSInIw7ggcLu6JIa5geFANVxuq/aEcWRWICIqGIAvdcAA3BWRrwHrcDlMvgaa4ya5fzR8JTQm4xCRWOBdoLn6TQ0pIvWBONw0nU9rBE+YFG5epoO3gfaqujVZbeFJ3HzFEzP6MY64YAAgItOBeFV9QUQ64caHr8dNOFILaKyq68JYRGPCIoURLdWAAUkjhEQkm6qeEG/qV3GT24clMVqkSuEYFwVexs2/ILhU36dEJFpVE8Vvmt2MLKL6DJKunMRd1ZfdGw/dG5dm+EncWN77LBCYS1GyM9Kbxc1JsArI4V03gRcIHgSGe82umSLPUqgkO8atvRrWcdxUqN1V9YQXCO4BBnh9Bhk+EEDk1gyK4CbEqAM8pqpvecstxYS55Imbi+EB4A5V3SBuVramuNTUP3jP3Z3Rmy0yMhHpDbQCuqnqam9U45fALOAo7oKyzqr607m3krFEZDAAX/V3BO4DvzNSqmLGBJN3Id0woL6qHhQ3k9g/cLXmzrjx7Z+r6s/hK2Vk84aKvqGq9bx0E7VwST+/BVrjLjKbE2ktFJEcDLIBb+I6jqdYIDCXohTar2/AnfkrbrRQI+BX4G1VnROeUka2FI7xNcB0XC1LcLO1NcBdsPhmWAqZDiKqz8CfupzybwHbLBCYS1Gy9usC4nJzbcCNcf8HMBWXO38jbp5vk0rJjvENIvIPVd2CG96eBRitqu1xU4TmiuQrtyO2ZmCMcUTkcVxerhzAO6r6sd9z7XAXYHZUm80vVZJGA3n3n8SlujkOzATeV9WD3nMP4jK9to/k5reIrRkYY0BEHsJN5XoX7gKySeKmVkREbgUeBLpYIEgdESmOm/u5oIjcjRuu3hDXOdwN6C4iJUWkBC7HU4dIDgSQSWc6M+ZSICKX4VIctMf96EfhLiKbKyLHVPVtEVmWlG/JpEoe4CrgSlyz20Pi0uBfhhvO/hpu3otRuCu7j4WroOnFgoExEUhE6uFm9PvYS0DXGJeKZb2IfAE8LyIfWSBIG2+46Dxcv2Qj3PUYNXDXMf0uIgm4LKSHMkMgAGsmMiZSVQB6ex2WO3DzN1cXke7AJqBKZkrBHQpek1Aev0Wv4zK8VvGu0lbgDRG5Hzc96BCN8Hma/VkwMCaCiJtkHVX9D+7q4p7eaJdVuFxD3XHz6e4891ZMct5IrKnAcyLSEkBVjwB7cE1w4KZI3Yq72OzxjJx0Li1sNJExEUJEbsdlGN2gbmrO23FzMDztPR8F5LYaQdqISCmgNjAUNzPZ/7zbV7hRWh956+VW1aPhKmewWM3AmAzKLxdXkt9wcxJ0EZHRuGaLdiJyL4CqnrJAkHaqul5V38PN/3wY6IGb/+E3oKrfepkuEIDVDIzJ8ESkM27mrJ9V9VOvn+BFXBNGP2AO7joCyz6aTkQkyks4Nxh34V5p4NrMHGwtGBiTgYlIe2AgMBIYDLykqi97z+UD7gAWR/oY94wm2ZXHRQFUdVd4SxVcFgyMyaC8pHMdcXmFFnmTqMwH/qWqr4W3dJlf8pxEmZ1dZ2BMBpH04+P3I1QRKAvUEZFfvLHv9YGfROQvVX0jnOXN7C6lQABWMzAmQ0jWLFEG2OmloG6Lm851CrDAW3YjcEpVfw1jkU0mYzUDYzIAv0DwMHAfsE5ECgK3A9lxefKzi8hsVV0TvpKazMqGlhoTRiKS1+/+TbgkaG2BTrghjd8Ck4CfcJlJrSpvgsKCgTFh4l3k9KyIxHmL9gHfq+om4ISq9sDNRXC7qg4HBqrq4bAU1mR6FgyMCZ98uNnI7hCRWGAv0FhEmvt1Xu7AZcfEks6ZYLIOZGNCTETyq+p+73453FwEuYBXgOuAacCruJTUbYC7rLPYBJvVDIwJIW/CmcUi8rrXPLQXeAOX/qAXrp+gIa5vIC/uymILBCborGZgTAh5zUE/4KZPfAYXAF4CbgASgSLAcFXdGq4ymkuTDS01JoRUNUFEKuOuJD6ImzjlZqAKrg8hFsgiIn1wnch2tmZCwmoGxoSB10Q0B+ilquO89NMxuODwqV1LYELNgoExYeIFhFlAP1X9b7jLYy5t1kxkTJio6hKvQ3mJiPypqmPCXSZz6bKagTFhJiKVgKOqujbcZTGXLgsGxhhj7DoDY4wxFgyMMcZgwcAYYwwWDIwxxmDBwBhjDBYMTCYmIv8QkY9EZL2I/CwiM0Wk9DnWze/NMhaKcnUXkXtDsS9jAmVDS02mJCICfA+MV9U3vWWxQF5V/TaF9UsAn6tq+SCXK6uqngzmPoxJC6sZmMzqZlyitzeTFqhqArBcROaKyDIRWSkiLb2nhwKlRCRBRIYBiEhvEVkiIj+JyPNJ2xGRZ0XkFxGZLSITReRJb3msiPzgrT9NRAp4y+eJyL9EZD7QS0Se83tNKRH5SkTiReRbEbnBW95ORFaJyAoRWRD8w2UudZaOwmRW5YH4FJb/CdyhqgdFpDDwg4jMAJ4GyqtqLICINAKuB6oBAswQkbrAUdyEM5Vw359lfvt5D3hUVeeLyCBgIPCY91x+Va3nbfs5v/KMBrqr6joRqQ78F7gFGAA0VtXtIpL/Io+FMRdkwcBcagT4l/fDfhq4EiiawnqNvNty73EeXHDIi8sqegxARD7z/ubD/eDP99YfD3zst71JZxVEJA9QC/jYtWoBkMP7uxAYJyKTgU9S/zaNSR0LBiazWg20TWF5RyAaqKKqJ0RkE5AzhfUEeFFV3zpjocjjaSzPkRSWZQH2J9VG/Klqd6+m0AxIEJFYVd2Txn0bc0HWZ2Ayq2+AHCLSNWmBlzK6OLDbCwQ3e48BDuHO+pN8Ddznnb0jIleKSBHgO+B2EcnpPdcMQFUPAPtE5Cbv9ffgJrA5J1U9CGwUkXbePkREYrz7pVT1R1UdAPwBXJ3mI2FMAKxmYDIlVVURuQMYLiJP4/oKNgHPASNEZCmQAPzirb9HRBaKyCrgS1XtLSI3Aou8JpzDwN1e2ukZwApgM7AUOODtthPwpojkBjYAXQIoakdglIj0B7IBH3nbHiYi1+NqKHO9ZcYEjQ0tNSaVRCSPqh72fvQXAN1UdVm4y2XMxbCagTGpN1pEyuL6GsZbIDCZgdUMjDHGWAeyMcYYCwbGGGOwYGCMMQYLBsYYY7BgYIwxBvh/6T0ocaaroHIAAAAASUVORK5CYII=\n",
      "text/plain": [
       "<Figure size 432x288 with 1 Axes>"
      ]
     },
     "metadata": {
      "needs_background": "light"
     },
     "output_type": "display_data"
    }
   ],
   "source": [
    "# plotting the same plot without the outlier\n",
    "sns.barplot(data=species_clean_rare, x='Categories', y='Number of species', hue='conservation_status')\n",
    "plt.xticks(rotation=45)\n",
    "plt.show()"
   ]
  },
  {
   "cell_type": "markdown",
   "metadata": {},
   "source": [
    "## Testing merging data\n",
    "As both data sets have scientific names, I want to see how I could merge these together."
   ]
  },
  {
   "cell_type": "code",
   "execution_count": 24,
   "metadata": {},
   "outputs": [
    {
     "name": "stdout",
     "output_type": "stream",
     "text": [
      "The shape of the data frame is: (25632, 6)\n"
     ]
    },
    {
     "data": {
      "text/html": [
       "<div>\n",
       "<style scoped>\n",
       "    .dataframe tbody tr th:only-of-type {\n",
       "        vertical-align: middle;\n",
       "    }\n",
       "\n",
       "    .dataframe tbody tr th {\n",
       "        vertical-align: top;\n",
       "    }\n",
       "\n",
       "    .dataframe thead th {\n",
       "        text-align: right;\n",
       "    }\n",
       "</style>\n",
       "<table border=\"1\" class=\"dataframe\">\n",
       "  <thead>\n",
       "    <tr style=\"text-align: right;\">\n",
       "      <th></th>\n",
       "      <th>category</th>\n",
       "      <th>scientific_name</th>\n",
       "      <th>common_names</th>\n",
       "      <th>conservation_status</th>\n",
       "      <th>park_name</th>\n",
       "      <th>observations</th>\n",
       "    </tr>\n",
       "  </thead>\n",
       "  <tbody>\n",
       "    <tr>\n",
       "      <th>0</th>\n",
       "      <td>Mammal</td>\n",
       "      <td>Clethrionomys gapperi gapperi</td>\n",
       "      <td>Gapper's Red-Backed Vole</td>\n",
       "      <td>Not Endangered</td>\n",
       "      <td>Bryce National Park</td>\n",
       "      <td>130</td>\n",
       "    </tr>\n",
       "    <tr>\n",
       "      <th>1</th>\n",
       "      <td>Mammal</td>\n",
       "      <td>Clethrionomys gapperi gapperi</td>\n",
       "      <td>Gapper's Red-Backed Vole</td>\n",
       "      <td>Not Endangered</td>\n",
       "      <td>Yellowstone National Park</td>\n",
       "      <td>270</td>\n",
       "    </tr>\n",
       "    <tr>\n",
       "      <th>2</th>\n",
       "      <td>Mammal</td>\n",
       "      <td>Clethrionomys gapperi gapperi</td>\n",
       "      <td>Gapper's Red-Backed Vole</td>\n",
       "      <td>Not Endangered</td>\n",
       "      <td>Great Smoky Mountains National Park</td>\n",
       "      <td>98</td>\n",
       "    </tr>\n",
       "    <tr>\n",
       "      <th>3</th>\n",
       "      <td>Mammal</td>\n",
       "      <td>Clethrionomys gapperi gapperi</td>\n",
       "      <td>Gapper's Red-Backed Vole</td>\n",
       "      <td>Not Endangered</td>\n",
       "      <td>Yosemite National Park</td>\n",
       "      <td>117</td>\n",
       "    </tr>\n",
       "    <tr>\n",
       "      <th>4</th>\n",
       "      <td>Mammal</td>\n",
       "      <td>Bos bison</td>\n",
       "      <td>American Bison, Bison</td>\n",
       "      <td>Not Endangered</td>\n",
       "      <td>Yosemite National Park</td>\n",
       "      <td>128</td>\n",
       "    </tr>\n",
       "  </tbody>\n",
       "</table>\n",
       "</div>"
      ],
      "text/plain": [
       "  category                scientific_name              common_names  \\\n",
       "0   Mammal  Clethrionomys gapperi gapperi  Gapper's Red-Backed Vole   \n",
       "1   Mammal  Clethrionomys gapperi gapperi  Gapper's Red-Backed Vole   \n",
       "2   Mammal  Clethrionomys gapperi gapperi  Gapper's Red-Backed Vole   \n",
       "3   Mammal  Clethrionomys gapperi gapperi  Gapper's Red-Backed Vole   \n",
       "4   Mammal                      Bos bison     American Bison, Bison   \n",
       "\n",
       "  conservation_status                            park_name  observations  \n",
       "0      Not Endangered                  Bryce National Park           130  \n",
       "1      Not Endangered            Yellowstone National Park           270  \n",
       "2      Not Endangered  Great Smoky Mountains National Park            98  \n",
       "3      Not Endangered               Yosemite National Park           117  \n",
       "4      Not Endangered               Yosemite National Park           128  "
      ]
     },
     "execution_count": 24,
     "metadata": {},
     "output_type": "execute_result"
    }
   ],
   "source": [
    "df_merge = pd.merge(species, observations, how='inner')\n",
    "print(f'The shape of the data frame is: {df_merge.shape}')\n",
    "df_merge.head()"
   ]
  },
  {
   "cell_type": "code",
   "execution_count": null,
   "metadata": {},
   "outputs": [],
   "source": []
  },
  {
   "cell_type": "markdown",
   "metadata": {},
   "source": [
    "This appears to be successful, and can lead to more efficient data analysis."
   ]
  },
  {
   "cell_type": "code",
   "execution_count": null,
   "metadata": {},
   "outputs": [],
   "source": []
  }
 ],
 "metadata": {
  "kernelspec": {
   "display_name": "Python 3",
   "language": "python",
   "name": "python3"
  },
  "language_info": {
   "codemirror_mode": {
    "name": "ipython",
    "version": 3
   },
   "file_extension": ".py",
   "mimetype": "text/x-python",
   "name": "python",
   "nbconvert_exporter": "python",
   "pygments_lexer": "ipython3",
   "version": "3.8.8"
  }
 },
 "nbformat": 4,
 "nbformat_minor": 4
}
