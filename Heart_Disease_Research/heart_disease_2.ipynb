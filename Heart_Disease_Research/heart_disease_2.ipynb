{
 "cells": [
  {
   "cell_type": "markdown",
   "id": "ebf95558",
   "metadata": {},
   "source": [
    "# Inspect the Data\n"
   ]
  },
  {
   "cell_type": "code",
   "execution_count": 3,
   "id": "44b4c758",
   "metadata": {},
   "outputs": [
    {
     "data": {
      "text/html": [
       "<div>\n",
       "<style scoped>\n",
       "    .dataframe tbody tr th:only-of-type {\n",
       "        vertical-align: middle;\n",
       "    }\n",
       "\n",
       "    .dataframe tbody tr th {\n",
       "        vertical-align: top;\n",
       "    }\n",
       "\n",
       "    .dataframe thead th {\n",
       "        text-align: right;\n",
       "    }\n",
       "</style>\n",
       "<table border=\"1\" class=\"dataframe\">\n",
       "  <thead>\n",
       "    <tr style=\"text-align: right;\">\n",
       "      <th></th>\n",
       "      <th>age</th>\n",
       "      <th>sex</th>\n",
       "      <th>trestbps</th>\n",
       "      <th>chol</th>\n",
       "      <th>cp</th>\n",
       "      <th>exang</th>\n",
       "      <th>fbs</th>\n",
       "      <th>thalach</th>\n",
       "      <th>heart_disease</th>\n",
       "    </tr>\n",
       "  </thead>\n",
       "  <tbody>\n",
       "    <tr>\n",
       "      <th>0</th>\n",
       "      <td>63</td>\n",
       "      <td>male</td>\n",
       "      <td>145</td>\n",
       "      <td>233</td>\n",
       "      <td>typical angina</td>\n",
       "      <td>0</td>\n",
       "      <td>1</td>\n",
       "      <td>150</td>\n",
       "      <td>absence</td>\n",
       "    </tr>\n",
       "    <tr>\n",
       "      <th>1</th>\n",
       "      <td>67</td>\n",
       "      <td>male</td>\n",
       "      <td>160</td>\n",
       "      <td>286</td>\n",
       "      <td>asymptomatic</td>\n",
       "      <td>1</td>\n",
       "      <td>0</td>\n",
       "      <td>108</td>\n",
       "      <td>presence</td>\n",
       "    </tr>\n",
       "    <tr>\n",
       "      <th>2</th>\n",
       "      <td>67</td>\n",
       "      <td>male</td>\n",
       "      <td>120</td>\n",
       "      <td>229</td>\n",
       "      <td>asymptomatic</td>\n",
       "      <td>1</td>\n",
       "      <td>0</td>\n",
       "      <td>129</td>\n",
       "      <td>presence</td>\n",
       "    </tr>\n",
       "    <tr>\n",
       "      <th>3</th>\n",
       "      <td>37</td>\n",
       "      <td>male</td>\n",
       "      <td>130</td>\n",
       "      <td>250</td>\n",
       "      <td>non-anginal pain</td>\n",
       "      <td>0</td>\n",
       "      <td>0</td>\n",
       "      <td>187</td>\n",
       "      <td>absence</td>\n",
       "    </tr>\n",
       "    <tr>\n",
       "      <th>4</th>\n",
       "      <td>41</td>\n",
       "      <td>female</td>\n",
       "      <td>130</td>\n",
       "      <td>204</td>\n",
       "      <td>atypical angina</td>\n",
       "      <td>0</td>\n",
       "      <td>0</td>\n",
       "      <td>172</td>\n",
       "      <td>absence</td>\n",
       "    </tr>\n",
       "  </tbody>\n",
       "</table>\n",
       "</div>"
      ],
      "text/plain": [
       "   age     sex  trestbps  chol                cp  exang  fbs  thalach  \\\n",
       "0   63    male       145   233    typical angina      0    1      150   \n",
       "1   67    male       160   286      asymptomatic      1    0      108   \n",
       "2   67    male       120   229      asymptomatic      1    0      129   \n",
       "3   37    male       130   250  non-anginal pain      0    0      187   \n",
       "4   41  female       130   204   atypical angina      0    0      172   \n",
       "\n",
       "  heart_disease  \n",
       "0       absence  \n",
       "1      presence  \n",
       "2      presence  \n",
       "3       absence  \n",
       "4       absence  "
      ]
     },
     "execution_count": 3,
     "metadata": {},
     "output_type": "execute_result"
    }
   ],
   "source": [
    "# import modules\n",
    "import pandas as pd\n",
    "import numpy as np\n",
    "import matplotlib.pyplot as plt \n",
    "import seaborn as sns\n",
    "\n",
    "# load data\n",
    "heart = pd.read_csv('heart_disease.csv')\n",
    "heart.head()"
   ]
  },
  {
   "cell_type": "markdown",
   "id": "8ad6fd6a",
   "metadata": {},
   "source": [
    "Each of the patients in this dataset underwent an exercise test, during which their heart rate was monitored. For each patient, `thalach` gives us the highest heart rate that the patient achieved during this test.\n",
    "\n",
    "Is `thalach` associated with whether or not a patient will ultimately be diagnosed with heart disease? Use `sns.boxplot()` to plot side by side box plots of `thalach` for patients who were and were not diagnosed with heart disease (indicated by the heart_disease variable). Do you think there is a relationship between these variables?"
   ]
  },
  {
   "cell_type": "code",
   "execution_count": 14,
   "id": "38c8b33c",
   "metadata": {},
   "outputs": [
    {
     "data": {
      "image/png": "[encoded data removed]",
      "text/plain": [
       "<Figure size 432x288 with 1 Axes>"
      ]
     },
     "metadata": {
      "needs_background": "light"
     },
     "output_type": "display_data"
    }
   ],
   "source": [
    "# plotting thalach\n",
    "sns.boxplot(data = heart, x='heart_disease', y='thalach')\n",
    "plt.show()"
   ]
  },
  {
   "cell_type": "markdown",
   "id": "aa695e37",
   "metadata": {},
   "source": [
    "There is a higher overall trend in `thalech` levels for those abscent of heart disease."
   ]
  },
  {
   "cell_type": "code",
   "execution_count": 32,
   "id": "8c5d72a7",
   "metadata": {},
   "outputs": [
    {
     "data": {
      "image/png": "[encoded data removed]",
      "text/plain": [
       "<Figure size 441.625x360 with 1 Axes>"
      ]
     },
     "metadata": {
      "needs_background": "light"
     },
     "output_type": "display_data"
    }
   ],
   "source": [
    "# I just wanted to plot a displot too\n",
    "sns.displot(data = heart, x='thalach', hue ='heart_disease', kind='kde')\n",
    "plt.show()"
   ]
  },
  {
   "cell_type": "markdown",
   "id": "2a5b4544",
   "metadata": {},
   "source": [
    "In order to investigate this question further, save the values for `thalach` among patients who were diagnosed with heart disease as a variable named `thalach_hd`. Then save the values of thalach among patients who were not diagnosed with heart disease as `thalach_no_hd`."
   ]
  },
  {
   "cell_type": "code",
   "execution_count": 22,
   "id": "69af10f9",
   "metadata": {},
   "outputs": [],
   "source": [
    "# saving the thalach values\n",
    "thalach_hd = heart[heart['heart_disease'] == 'presence']['thalach']\n",
    "thalach_no_hd = heart[heart['heart_disease'] == 'absence']['thalach']"
   ]
  },
  {
   "cell_type": "markdown",
   "id": "3d1ab23f",
   "metadata": {},
   "source": [
    "Calculate and print the difference in mean thalach for patients diagnosed with heart disease compared to patients without heart disease. Then do the same for the median difference."
   ]
  },
  {
   "cell_type": "code",
   "execution_count": 25,
   "id": "4247512b",
   "metadata": {},
   "outputs": [
    {
     "name": "stdout",
     "output_type": "stream",
     "text": [
      "The difference in thalach means is 19.12.\n"
     ]
    }
   ],
   "source": [
    "# Calculating mean difference\n",
    "thalach_hd_mean = np.average(thalach_hd)\n",
    "thalach_no_hd_mean = np.average(thalach_no_hd)\n",
    "diff_thalach_means = np.round(thalach_hd_mean - thalach_no_hd_mean,2)\n",
    "print(f'The difference in thalach means is {abs(diff_thalach_means)}.')"
   ]
  },
  {
   "cell_type": "markdown",
   "id": "d52390a7",
   "metadata": {},
   "source": [
    "We’d like to find out if the average `thalach` of a heart disease patient is significantly different from the average `thalach` for a person without heart disease.\n",
    "\n",
    "Import the statistical test from `scipy.stats` that we would use to test the following null and alternative hypotheses:\n",
    "\n",
    "- Null: The average thalach for a person with heart disease is equal to the average thalach for a person without heart disease.\n",
    "- Alternative: The average thalach for a person with heart disease is NOT equal to the average thalach for a person without heart disease."
   ]
  },
  {
   "cell_type": "code",
   "execution_count": 27,
   "id": "2376b529",
   "metadata": {},
   "outputs": [],
   "source": [
    "from scipy.stats import ttest_ind"
   ]
  },
  {
   "cell_type": "markdown",
   "id": "394bdd30",
   "metadata": {},
   "source": [
    "Run the hypothesis test from task 5 and print out the p-value. Using a significance threshold of 0.05, is there a significant difference in average thalach for people with heart disease compared to people with no heart disease?"
   ]
  },
  {
   "cell_type": "code",
   "execution_count": 35,
   "id": "8801623a",
   "metadata": {},
   "outputs": [
    {
     "name": "stdout",
     "output_type": "stream",
     "text": [
      "There is a significant difference between the maximum heart rates of HD and no-HD paticipants, p value: 3.456964908430172e-14.\n"
     ]
    }
   ],
   "source": [
    "t_stat, pval = ttest_ind(thalach_hd, thalach_no_hd)\n",
    "print(f'There is a significant difference between the maximum heart rates of HD and no-HD paticipants, p value: {pval}.')"
   ]
  },
  {
   "cell_type": "markdown",
   "id": "842d9084",
   "metadata": {},
   "source": [
    "Using the same process, investigate at least one other quantitative variable. Options include `age`, `trestbps` (resting blood pressure), and `chol` (cholesterol). Are any of these variables also significantly associated with heart disease?\n",
    "\n",
    "Note: before every new plot that you make, be sure to use `plt.clf()` to clear the previous plot first, so that plots don’t get layered on top of each other."
   ]
  },
  {
   "cell_type": "code",
   "execution_count": 43,
   "id": "03016dfe",
   "metadata": {},
   "outputs": [
    {
     "data": {
      "image/png": "[encoded data removed]",
      "text/plain": [
       "<Figure size 432x288 with 1 Axes>"
      ]
     },
     "metadata": {
      "needs_background": "light"
     },
     "output_type": "display_data"
    },
    {
     "data": {
      "image/png": "[encoded data removed]",
      "text/plain": [
       "<Figure size 432x288 with 1 Axes>"
      ]
     },
     "metadata": {
      "needs_background": "light"
     },
     "output_type": "display_data"
    },
    {
     "data": {
      "image/png": "[encoded data removed]",
      "text/plain": [
       "<Figure size 432x288 with 1 Axes>"
      ]
     },
     "metadata": {
      "needs_background": "light"
     },
     "output_type": "display_data"
    }
   ],
   "source": [
    "# The best thing to do here is look at different box plots of data\n",
    "columns = heart.columns\n",
    "# Manually remove non-numerical columns\n",
    "columns_trunc = ['age', 'trestbps', 'chol']\n",
    "for parameter in columns_trunc:\n",
    "    sns.boxplot(data = heart, x='heart_disease', y=parameter)\n",
    "    plt.title(parameter)\n",
    "    plt.show()"
   ]
  },
  {
   "cell_type": "markdown",
   "id": "af224212",
   "metadata": {},
   "source": [
    "Here it looks like age is the only other contributor from visual inspection. I will see if this is statistically different."
   ]
  },
  {
   "cell_type": "code",
   "execution_count": 44,
   "id": "42c170a3",
   "metadata": {},
   "outputs": [],
   "source": [
    "# isolating the ages\n",
    "age_hd = heart[heart['heart_disease'] == 'presence']['age']\n",
    "age_no_hd = heart[heart['heart_disease'] == 'absence']['age']"
   ]
  },
  {
   "cell_type": "code",
   "execution_count": 47,
   "id": "7284dea4",
   "metadata": {},
   "outputs": [
    {
     "data": {
      "image/png": "[encoded data removed]",
      "text/plain": [
       "<Figure size 441.625x360 with 1 Axes>"
      ]
     },
     "metadata": {
      "needs_background": "light"
     },
     "output_type": "display_data"
    }
   ],
   "source": [
    "# plotting the distribution of ages\n",
    "sns.displot(data=heart, x='age', hue='heart_disease', alpha=0.3)\n",
    "plt.show()"
   ]
  },
  {
   "cell_type": "code",
   "execution_count": 49,
   "id": "01ac1d07",
   "metadata": {},
   "outputs": [
    {
     "name": "stdout",
     "output_type": "stream",
     "text": [
      "There is a significant difference between the ages of HD and no-HD paticipants, p value: 8.955636917529706e-05.\n"
     ]
    }
   ],
   "source": [
    "# Calculate statistical difference\n",
    "heart_t_stat, heart_pval = ttest_ind(age_hd, age_no_hd)\n",
    "print(f'There is a significant difference between the ages of HD and no-HD paticipants, p value: {heart_pval}.')"
   ]
  },
  {
   "cell_type": "markdown",
   "id": "c4a79387",
   "metadata": {},
   "source": [
    "# Chest Pain and Max Heart Rate\n",
    "Next, let’s investigate the relationship between thalach (maximum heart rate achieved during exercise) and the type of heart pain a person experiences. Create a set of side-by-side box plots of thalach for each chest pain type in the data. Make sure to use plt.clf() to clear the previous plots first!\n",
    "\n",
    "Are there any chest pain types for which average thalach is significantly higher or lower (compared to other chest pain types)?"
   ]
  },
  {
   "cell_type": "code",
   "execution_count": 51,
   "id": "745e4cb8",
   "metadata": {},
   "outputs": [
    {
     "data": {
      "text/plain": [
       "[]"
      ]
     },
     "execution_count": 51,
     "metadata": {},
     "output_type": "execute_result"
    },
    {
     "data": {
      "image/png": "[encoded data removed]",
      "text/plain": [
       "<Figure size 432x288 with 1 Axes>"
      ]
     },
     "metadata": {
      "needs_background": "light"
     },
     "output_type": "display_data"
    }
   ],
   "source": [
    "# thalach vs chest pain\n",
    "sns.boxplot(data=heart, x='cp', y='thalach')\n",
    "plt.plot()"
   ]
  },
  {
   "cell_type": "code",
   "execution_count": 53,
   "id": "5fe906bd",
   "metadata": {},
   "outputs": [],
   "source": [
    "# Saving thalach wrt chest pain\n",
    "thalach_typical = heart[heart['cp'] == 'typical angina']['thalach']\n",
    "thalach_asymptom = heart[heart['cp'] == 'asymptomatic']['thalach']\n",
    "thalach_nonangin = heart[heart['cp'] == 'non-anginal pain']['thalach']\n",
    "thalach_atypical = heart[heart['cp'] == 'atypical angina']['thalach']"
   ]
  },
  {
   "cell_type": "markdown",
   "id": "4085bc79",
   "metadata": {},
   "source": [
    "Run a single hypothesis test to address the following null and alternative hypotheses:\n",
    "\n",
    "- Null: People with typical angina, non-anginal pain, atypical angina, and asymptomatic people all have the same average thalach.\n",
    "- Alternative: People with typical angina, non-anginal pain, atypical angina, and asymptomatic people do not all have the same average thalach.  \n",
    "\n",
    "Save the resulting p-value as pval and print it out. Using a significance threshold of 0.05, is there at least one pair of chest pain categories for which people in those categories have significantly different thalach?"
   ]
  },
  {
   "cell_type": "code",
   "execution_count": 57,
   "id": "7dfc9ba1",
   "metadata": {},
   "outputs": [
    {
     "name": "stdout",
     "output_type": "stream",
     "text": [
      "The significance for all of the pain types is: 1.9065505247705008e-10\n",
      "This shows significance between at least one set of values.\n"
     ]
    }
   ],
   "source": [
    "# import the ANOVA test (f_oneway)\n",
    "from scipy.stats import f_oneway\n",
    "\n",
    "_, cp_pval = f_oneway(thalach_asymptom, thalach_atypical, thalach_nonangin, thalach_typical)\n",
    "print(f'The significance for all of the pain types is: {cp_pval}')\n",
    "print('This shows significance between at least one set of values.')"
   ]
  },
  {
   "cell_type": "markdown",
   "id": "8837360f",
   "metadata": {},
   "source": [
    "If you completed the previous step correctly, you should have concluded that there is at least one pair of chest pain types (cp) for which people with those pain types have significantly different average max heart rates during exercise (thalach).\n",
    "\n",
    "Run another hypothesis test to determine which of those pairs are significantly different. Use an overall type I error rate of 0.05 for all six comparisons."
   ]
  },
  {
   "cell_type": "code",
   "execution_count": 67,
   "id": "744665ae",
   "metadata": {},
   "outputs": [
    {
     "name": "stdout",
     "output_type": "stream",
     "text": [
      "           Multiple Comparison of Means - Tukey HSD, FWER=0.05           \n",
      "=========================================================================\n",
      "     group1           group2      meandiff p-adj   lower    upper  reject\n",
      "-------------------------------------------------------------------------\n",
      "    asymptomatic  atypical angina  21.7394  0.001  12.7439  30.735   True\n",
      "    asymptomatic non-anginal pain  14.7264  0.001    7.258 22.1948   True\n",
      "    asymptomatic   typical angina   15.276 0.0081   2.9702 27.5817   True\n",
      " atypical angina non-anginal pain   -7.013 0.2481 -16.7591   2.733  False\n",
      " atypical angina   typical angina  -6.4635 0.6069 -20.2707  7.3438  False\n",
      "non-anginal pain   typical angina   0.5495    0.9  -12.315 13.4141  False\n",
      "-------------------------------------------------------------------------\n",
      "There is significant differnce between the thalach levels of asymptomatic patients with each other group.\n",
      "There is not a difference between the other groups.\n",
      "This indicates asymptomatic people have a lower maximum heart rate which is indicative of heart problems.\n"
     ]
    }
   ],
   "source": [
    "# import the tukeys test\n",
    "from statsmodels.stats.multicomp import pairwise_tukeyhsd\n",
    "\n",
    "results = pairwise_tukeyhsd(heart['thalach'],heart['cp'], alpha=0.05)\n",
    "print(results)\n",
    "\n",
    "print('There is significant differnce between the thalach levels of asymptomatic patients with each other group.')\n",
    "print('There is not a difference between the other groups.')\n",
    "print('This indicates asymptomatic people have a lower maximum heart rate which is indicative of heart problems.')"
   ]
  },
  {
   "cell_type": "markdown",
   "id": "8cd46530",
   "metadata": {},
   "source": [
    "# Heart Disease and Chest Pain\n",
    "Finally, let’s investigate the relationship between the kind of chest pain a person experiences and whether or not they have heart disease. Create a contingency table of cp and heart_disease and save it as Xtab, then print it out.\n",
    "\n",
    "This is likely to be a chi^2 test."
   ]
  },
  {
   "cell_type": "code",
   "execution_count": 68,
   "id": "2a056bf1",
   "metadata": {},
   "outputs": [
    {
     "name": "stdout",
     "output_type": "stream",
     "text": [
      "heart_disease     absence  presence\n",
      "cp                                 \n",
      "asymptomatic           39       105\n",
      "atypical angina        41         9\n",
      "non-anginal pain       68        18\n",
      "typical angina         16         7\n"
     ]
    }
   ],
   "source": [
    "Xtab = pd.crosstab(heart['cp'], heart['heart_disease'])\n",
    "print(Xtab)"
   ]
  },
  {
   "cell_type": "markdown",
   "id": "e8ebe5cc",
   "metadata": {},
   "source": [
    "Run a hypothesis test for the following null and alternative hypotheses:\n",
    "\n",
    "- Null: There is NOT an association between chest pain type and whether or not someone is diagnosed with heart disease.\n",
    "- Alternative: There is an association between chest pain type and whether or not someone is diagnosed with heart disease.\n",
    "\n",
    "\n",
    "Save the p-value as pval and print it out. Using a significance threshold of 0.05, is there a significant association between chest pain type and whether or not someone is diagnosed with heart disease?"
   ]
  },
  {
   "cell_type": "code",
   "execution_count": 72,
   "id": "a0fda301",
   "metadata": {},
   "outputs": [
    {
     "name": "stdout",
     "output_type": "stream",
     "text": [
      "The values comparing the absence and presence shows significant association betwen pain and hearth disease shown by: 1.2517106007837527e-17\n"
     ]
    }
   ],
   "source": [
    "# improt the chi2 tests\n",
    "from scipy.stats import chi2_contingency\n",
    "\n",
    "# conduct the test using each of the 4 outputs for chi2 testing\n",
    "chi2, pval, dof, expected = chi2_contingency(Xtab)\n",
    "print(f'The values comparing the absence and presence shows significant association betwen pain and hearth disease shown by: {pval}')"
   ]
  },
  {
   "cell_type": "code",
   "execution_count": null,
   "id": "08f564da",
   "metadata": {},
   "outputs": [],
   "source": []
  }
 ],
 "metadata": {
  "kernelspec": {
   "display_name": "Python 3",
   "language": "python",
   "name": "python3"
  },
  "language_info": {
   "codemirror_mode": {
    "name": "ipython",
    "version": 3
   },
   "file_extension": ".py",
   "mimetype": "text/x-python",
   "name": "python",
   "nbconvert_exporter": "python",
   "pygments_lexer": "ipython3",
   "version": "3.8.8"
  }
 },
 "nbformat": 4,
 "nbformat_minor": 5
}
