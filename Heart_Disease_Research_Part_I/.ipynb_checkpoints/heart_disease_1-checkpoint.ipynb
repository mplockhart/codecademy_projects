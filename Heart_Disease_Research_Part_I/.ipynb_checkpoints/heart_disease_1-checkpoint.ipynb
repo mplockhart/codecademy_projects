{
 "cells": [
  {
   "cell_type": "code",
   "execution_count": 2,
   "id": "6a166172",
   "metadata": {},
   "outputs": [],
   "source": [
    "# importing modules\n",
    "import pandas as pd\n",
    "import numpy as np"
   ]
  },
  {
   "cell_type": "code",
   "execution_count": 13,
   "id": "ce3237ff",
   "metadata": {},
   "outputs": [
    {
     "name": "stdout",
     "output_type": "stream",
     "text": [
      "     age     sex  trestbps  chol                cp  exang  fbs  thalach  \\\n",
      "0     63    male       145   233    typical angina      0    1      150   \n",
      "1     67    male       160   286      asymptomatic      1    0      108   \n",
      "2     67    male       120   229      asymptomatic      1    0      129   \n",
      "3     37    male       130   250  non-anginal pain      0    0      187   \n",
      "4     41  female       130   204   atypical angina      0    0      172   \n",
      "..   ...     ...       ...   ...               ...    ...  ...      ...   \n",
      "298   45    male       110   264    typical angina      0    0      132   \n",
      "299   68    male       144   193      asymptomatic      0    1      141   \n",
      "300   57    male       130   131      asymptomatic      1    0      115   \n",
      "301   57  female       130   236   atypical angina      0    0      174   \n",
      "302   38    male       138   175  non-anginal pain      0    0      173   \n",
      "\n",
      "    heart_disease  \n",
      "0         absence  \n",
      "1        presence  \n",
      "2        presence  \n",
      "3         absence  \n",
      "4         absence  \n",
      "..            ...  \n",
      "298      presence  \n",
      "299      presence  \n",
      "300      presence  \n",
      "301      presence  \n",
      "302       absence  \n",
      "\n",
      "[303 rows x 9 columns]\n"
     ]
    }
   ],
   "source": [
    "# load data\n",
    "heart = pd.read_csv('heart_disease.csv')\n",
    "yes_hd = heart[heart.heart_disease == 'presence']\n",
    "no_hd = heart[heart.heart_disease == 'absence']\n",
    "\n",
    "# Examine main data\n",
    "print(heart)"
   ]
  },
  {
   "cell_type": "markdown",
   "id": "0646f16a",
   "metadata": {},
   "source": [
    "The full dataset has been loaded for you as heart, then split into two subsets:\n",
    "\n",
    "- `yes_hd`, which contains data for patients with heart disease\n",
    "- `no_hd`, which contains data for patients without heart disease\n",
    "\n",
    "\n",
    "For this project, we’ll investigate the following variables:\n",
    "\n",
    "- `chol`: serum cholestorol in mg/dl\n",
    "- `fbs`: An indicator for whether fasting blood sugar is greater than 120 mg/dl (`1` = true; `0` = false)\n",
    "\n",
    "\n",
    "To start, we’ll investigate cholesterol levels for patients with heart disease. Use the dataset `yes_hd` to save cholesterol levels for patients with heart disease as a variable named `chol_hd`."
   ]
  },
  {
   "cell_type": "code",
   "execution_count": 7,
   "id": "0f3f91d1",
   "metadata": {},
   "outputs": [],
   "source": [
    "# saving a series for chol with people with heard disease\n",
    "chol_hd = yes_hd['chol']"
   ]
  },
  {
   "cell_type": "markdown",
   "id": "0bfaa154",
   "metadata": {},
   "source": [
    "In general, total cholesterol over 240 mg/dl is considered “high” (and therefore unhealthy). Calculate the mean cholesterol level for patients who were diagnosed with heart disease and print it out. Is it higher than 240 mg/dl?"
   ]
  },
  {
   "cell_type": "code",
   "execution_count": 26,
   "id": "5df6d088",
   "metadata": {},
   "outputs": [
    {
     "name": "stdout",
     "output_type": "stream",
     "text": [
      "The mean cholesterol for people diagnosed with heart disease is: 251.47 mg/dL.\n",
      "The standard deviation cholesterol for people diagnosed with heart disease is: 49.31 mg/dL.\n"
     ]
    }
   ],
   "source": [
    "mean_hd_chol = np.average(chol_hd)\n",
    "sd_hd_chol = np.std(chol_hd)\n",
    "print(f'The mean cholesterol for people diagnosed with heart disease is: {np.round(mean_hd_chol,2)} mg/dL.')\n",
    "print(f'The standard deviation cholesterol for people diagnosed with heart disease is: {np.round(sd_hd_chol,2)} mg/dL.')"
   ]
  },
  {
   "cell_type": "markdown",
   "id": "ef0352f6",
   "metadata": {},
   "source": [
    "Do people with heart disease have high cholesterol levels (greater than or equal to 240 mg/dl) on average? Import the function from `scipy.stats` that you can use to test the following null and alternative hypotheses:\n",
    "\n",
    "- Null: People with heart disease have an average cholesterol level equal to 240 mg/dl\n",
    "- Alternative: People with heart disease have an average cholesterol level that is greater than 240 mg/dl\n",
    "\n",
    "Note: Unfortunately, the `scipy.stats` function we’ve been using does not (at the time of writing) have an `alternative` parameter to change the alternative hypothesis for this test. Therefore, you’ll have to run a two-sided test. However, since you calculated earlier that the average cholesterol level for heart disease patients is greater than 240 mg/dl, you can calculate the p-value for the one-sided test indicated above simply by dividing the two-sided p-value in half.\n",
    "\n",
    "**This is no longer the case and I have used the alternative as greater. The null hypthesis can be rejected**"
   ]
  },
  {
   "cell_type": "code",
   "execution_count": 38,
   "id": "b7267e89",
   "metadata": {},
   "outputs": [
    {
     "name": "stdout",
     "output_type": "stream",
     "text": [
      "The t-statistic is 2.73 and the p-value is 0.0035411033905155707.\n"
     ]
    }
   ],
   "source": [
    "# import 1 sample ttest as we are comparing to a single number\n",
    "from scipy.stats import ttest_1samp"
   ]
  },
  {
   "cell_type": "code",
   "execution_count": 39,
   "id": "e3a0133f",
   "metadata": {},
   "outputs": [
    {
     "name": "stdout",
     "output_type": "stream",
     "text": [
      "139\n",
      "2.74366742227647\n"
     ]
    }
   ],
   "source": [
    "# manually running this results in the following\n",
    "x_bar = mean_hd_chol\n",
    "mu = 240\n",
    "standard_dev = sd_hd_chol\n",
    "n = len(yes_hd)\n",
    "print(n)\n",
    "tval = (x_bar - mu) / (standard_dev/(n**0.5))\n",
    "print(tval)\n",
    "# this is virtually the same."
   ]
  },
  {
   "cell_type": "markdown",
   "id": "c9e1841b",
   "metadata": {},
   "source": [
    "Run the hypothesis test indicated in task 3 and print out the p-value. Can you conclude that heart disease patients have an average cholesterol level significantly greater than 240 mg/dl? Use a significance threshold of 0.05."
   ]
  },
  {
   "cell_type": "code",
   "execution_count": 47,
   "id": "7eda4b50",
   "metadata": {},
   "outputs": [
    {
     "name": "stdout",
     "output_type": "stream",
     "text": [
      "The t-statistic is 2.73 and the p-value is 0.0035411033905155707.\n",
      "The null hypothesis is rejected as the p-value is less than 0.05.\n"
     ]
    }
   ],
   "source": [
    "# run a ttest to examine the null hypothesis\n",
    "hd_t_value, hd_p_value = ttest_1samp(chol_hd, 240, alternative='greater')\n",
    "print(f'The t-statistic is {np.round(hd_t_value,2)} and the p-value is {hd_p_value}.')\n",
    "if hd_p_value > 0.05:\n",
    "    print('The null hypothesis is accepted as the p-value is greater than 0.05.')\n",
    "else:\n",
    "    print('The null hypothesis is rejected as the p-value is less than 0.05.')"
   ]
  },
  {
   "cell_type": "markdown",
   "id": "a3568387",
   "metadata": {},
   "source": [
    "Repeat steps 1-4 in order to run the same hypothesis test, but for patients in the sample who were **not** diagnosed with heart disease. Do patients without heart disease have average cholesterol levels significantly above 240 mg/dl?"
   ]
  },
  {
   "cell_type": "code",
   "execution_count": 48,
   "id": "315414f4",
   "metadata": {},
   "outputs": [
    {
     "name": "stdout",
     "output_type": "stream",
     "text": [
      "The mean cholesterol for people diagnosed without heart disease is: 242.64 mg/dL.\n",
      "The standard deviation cholesterol for people diagnosed without heart disease is: 53.29 mg/dL.\n",
      "The t-statistic is 0.63 and the p-value is 0.26397120232220506.\n",
      "The null hypothesis is accepted as the p-value is greater than 0.05.\n"
     ]
    }
   ],
   "source": [
    "# Repeating the above for no HD\n",
    "chol_nhd = no_hd['chol']\n",
    "mean_nhd_chol = np.average(chol_nhd)\n",
    "sd_nhd_chol = np.std(chol_nhd)\n",
    "print(f'The mean cholesterol for people diagnosed without heart disease is: {np.round(mean_nhd_chol,2)} mg/dL.')\n",
    "print(f'The standard deviation cholesterol for people diagnosed without heart disease is: {np.round(sd_nhd_chol,2)} mg/dL.')\n",
    "\n",
    "# run a ttest to examine the null hypothesis\n",
    "nhd_t_value, nhd_p_value = ttest_1samp(chol_nhd, 240, alternative='greater')\n",
    "print(f'The t-statistic is {np.round(nhd_t_value,2)} and the p-value is {nhd_p_value}.')\n",
    "if nhd_p_value > 0.05:\n",
    "    print('The null hypothesis is accepted as the p-value is greater than 0.05.')\n",
    "else:\n",
    "    print('The null hypothesis is rejected as the p-value is less than 0.05.')"
   ]
  },
  {
   "cell_type": "markdown",
   "id": "8f967eb6",
   "metadata": {},
   "source": [
    "Let’s now return to the full dataset (saved as `heart`). How many patients are there in this dataset? Save the number of patients as `num_patients` and print it out."
   ]
  },
  {
   "cell_type": "code",
   "execution_count": 50,
   "id": "2dd106a9",
   "metadata": {},
   "outputs": [
    {
     "name": "stdout",
     "output_type": "stream",
     "text": [
      "The total number of patients is 303.\n"
     ]
    }
   ],
   "source": [
    "num_patients = len(heart)\n",
    "print(f'The total number of patients is {num_patients}.')"
   ]
  },
  {
   "cell_type": "markdown",
   "id": "37556552",
   "metadata": {},
   "source": [
    "Remember that the `fbs` column of this dataset indicates whether or not a patient’s fasting blood sugar was greater than 120 mg/dl (`1` means that their fasting blood sugar was greater than 120 mg/dl; `0` means it was less than or equal to 120 mg/dl).\n",
    "\n",
    "Calculate the number of patients with fasting blood sugar greater than 120. Save this number as `num_highfbs_patients` and print it out."
   ]
  },
  {
   "cell_type": "code",
   "execution_count": 55,
   "id": "b35de6ac",
   "metadata": {},
   "outputs": [
    {
     "name": "stdout",
     "output_type": "stream",
     "text": [
      "How many patients fasting blood sugar levels are above 120 mg/dL? 45\n"
     ]
    }
   ],
   "source": [
    "num_highfbs_patients = np.sum(heart[heart['fbs'] ==1]['fbs'])\n",
    "print(f'How many patients fasting blood sugar levels are above 120 mg/dL? {num_highfbs_patients}')"
   ]
  },
  {
   "cell_type": "markdown",
   "id": "c8eeb919",
   "metadata": {},
   "source": [
    "Sometimes, part of an analysis will involve comparing a sample to known population values to see if the sample appears to be representative of the general population.\n",
    "\n",
    "By some estimates, about 8% of the U.S. population had diabetes (diagnosed or undiagnosed) in 1988 when this data was collected. While there are multiple tests that contribute to a diabetes diagnosis, fasting blood sugar levels greater than 120 mg/dl can be indicative of diabetes (or at least, pre-diabetes). If this sample were representative of the population, approximately how many people would you expect to have diabetes? Calculate and print out this number.\n",
    "\n",
    "Is this value similar to the number of patients with a resting blood sugar above 120 mg/dl — or different?"
   ]
  },
  {
   "cell_type": "code",
   "execution_count": 57,
   "id": "dbe5f2be",
   "metadata": {},
   "outputs": [
    {
     "name": "stdout",
     "output_type": "stream",
     "text": [
      "The number of patients expected to have fbs > 120 mg/dL is 24.24.\n",
      "There are more patients than would be expected to have diabetes in this study.\n"
     ]
    }
   ],
   "source": [
    "pc8_of_sample = num_patients * 0.08\n",
    "print(f'The number of patients expected to have fbs > 120 mg/dL is {np.round(pc8_of_sample,2)}.')\n",
    "if num_highfbs_patients > pc8_of_sample: \n",
    "    print('There are more patients than would be expected to have diabetes in this study.')"
   ]
  },
  {
   "cell_type": "markdown",
   "id": "60cba355",
   "metadata": {},
   "source": [
    "Does this sample come from a population in which the rate of fbs > 120 mg/dl is equal to 8%? Import the function from `scipy.stats` that you can use to test the following null and alternative hypotheses:\n",
    "\n",
    "- Null: This sample was drawn from a population where 8% of people have fasting blood sugar > 120 mg/dl\n",
    "- Alternative: This sample was drawn from a population where more than 8% of people have fasting blood sugar > 120 mg/dl"
   ]
  },
  {
   "cell_type": "code",
   "execution_count": 58,
   "id": "c036018f",
   "metadata": {},
   "outputs": [],
   "source": [
    "# import the binomial test from scipy stats\n",
    "from scipy.stats import binom_test"
   ]
  },
  {
   "cell_type": "markdown",
   "id": "e89fb201",
   "metadata": {},
   "source": [
    "\n",
    "Run the hypothesis test indicated in task 9 and print out the p-value. Using a significance threshold of 0.05, can you conclude that this sample was drawn from a population where the rate of fasting blood sugar > 120 mg/dl is significantly greater than 8%?"
   ]
  },
  {
   "cell_type": "code",
   "execution_count": 67,
   "id": "ed69096d",
   "metadata": {},
   "outputs": [
    {
     "name": "stdout",
     "output_type": "stream",
     "text": [
      "From this test we see the p-value is 4.689471951449078e-05 meaning the samples comes from a population where more than 8% of people have fbs > 120 mg/dL.\n"
     ]
    }
   ],
   "source": [
    "# running binomial test to see if our cohort are statistically different from the population\n",
    "binom_ptest = binom_test(num_highfbs_patients, num_patients, 0.08, alternative='greater')\n",
    "print(f'From this test we see the p-value is {binom_ptest} meaning the samples comes from a population where more than 8% of people have fbs > 120 mg/dL.')"
   ]
  },
  {
   "cell_type": "code",
   "execution_count": null,
   "id": "7443369d",
   "metadata": {},
   "outputs": [],
   "source": []
  },
  {
   "cell_type": "code",
   "execution_count": null,
   "id": "9b2da89f",
   "metadata": {},
   "outputs": [],
   "source": []
  }
 ],
 "metadata": {
  "kernelspec": {
   "display_name": "Python 3",
   "language": "python",
   "name": "python3"
  },
  "language_info": {
   "codemirror_mode": {
    "name": "ipython",
    "version": 3
   },
   "file_extension": ".py",
   "mimetype": "text/x-python",
   "name": "python",
   "nbconvert_exporter": "python",
   "pygments_lexer": "ipython3",
   "version": "3.8.8"
  }
 },
 "nbformat": 4,
 "nbformat_minor": 5
}
